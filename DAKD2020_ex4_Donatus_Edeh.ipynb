{
  "nbformat": 4,
  "nbformat_minor": 0,
  "metadata": {
    "kernelspec": {
      "display_name": "Python 3",
      "language": "python",
      "name": "python3"
    },
    "language_info": {
      "codemirror_mode": {
        "name": "ipython",
        "version": 3
      },
      "file_extension": ".py",
      "mimetype": "text/x-python",
      "name": "python",
      "nbconvert_exporter": "python",
      "pygments_lexer": "ipython3",
      "version": "3.8.3"
    },
    "colab": {
      "name": "DAKD2020_ex4_Donatus_Edeh.ipynb",
      "provenance": [],
      "collapsed_sections": [],
      "include_colab_link": true
    }
  },
  "cells": [
    {
      "cell_type": "markdown",
      "metadata": {
        "id": "view-in-github",
        "colab_type": "text"
      },
      "source": [
        "<a href=\"https://colab.research.google.com/github/dona-nice/Data-Analysis_UTU/blob/main/DAKD2020_ex4_Donatus_Edeh.ipynb\" target=\"_parent\"><img src=\"https://colab.research.google.com/assets/colab-badge.svg\" alt=\"Open In Colab\"/></a>"
      ]
    },
    {
      "cell_type": "markdown",
      "metadata": {
        "id": "M7S5Z8NweQet"
      },
      "source": [
        "### Fill in your name, student id number and email address\n",
        "#### name: Donatus Ifeanyichukwu Edeh\n",
        "#### student id: 523299\n",
        "#### email: diedeh@utu.fi"
      ]
    },
    {
      "cell_type": "markdown",
      "metadata": {
        "id": "EyfXqL7weQfM"
      },
      "source": [
        "## Data analysis and knowledge discovery - Exercise 4: Unsupervised learning"
      ]
    },
    {
      "cell_type": "markdown",
      "metadata": {
        "id": "w_z_vYDheQfO"
      },
      "source": [
        "This is the template for the fourth exercise. The idea of this exercise is to familiarize yourself with the basics of unsupervised learning by using the agglomerative hierarchical clustering algorithm to find patterns - in this case clusters of ships with the same type - in the data, and then evaluate the performance of the algorithm. The same dataset (shipdata_2020.xlsx) will be used in this exercise as in the exercise 3 (don't do any changes to the file - all of the data processing should be done in this notebook).\n",
        "\n",
        " - Remember to comment your code to explain how it works and what it is supposed to do.\n",
        "\n",
        " - For doing the optional bonus task sufficiently well, you will be awarded one bonus point.\n",
        " \n",
        " - Name your file DAKD2020_ex3_firstname_lastname.ipynb\n",
        " \n",
        " - Deadline for submitting exercise 4 is **wednesday 16.12.2020**.\n",
        "\n",
        " - If you are having problems with this exercise, try google or stackoverflow first. If you cannot find a solution, ask for help in the course discussion forum in moodle or contact ilksuu@utu.fi."
      ]
    },
    {
      "cell_type": "markdown",
      "metadata": {
        "id": "KwPenNu0eQfP"
      },
      "source": [
        "### Import all the libraries etc. you need"
      ]
    },
    {
      "cell_type": "code",
      "metadata": {
        "id": "4S8SNBKIeQfQ"
      },
      "source": [
        "# Import Libraries\n",
        "\n",
        "import numpy as np\n",
        "import pandas as pd\n",
        "import seaborn as sns"
      ],
      "execution_count": null,
      "outputs": []
    },
    {
      "cell_type": "markdown",
      "metadata": {
        "id": "ZpuqMfIceQfS"
      },
      "source": [
        "### Read the data\n",
        "\n",
        "Read the excel file containing the ship data into a pandas dataframe."
      ]
    },
    {
      "cell_type": "code",
      "metadata": {
        "colab": {
          "resources": {
            "http://localhost:8080/nbextensions/google.colab/files.js": {
              "data": "Ly8gQ29weXJpZ2h0IDIwMTcgR29vZ2xlIExMQwovLwovLyBMaWNlbnNlZCB1bmRlciB0aGUgQXBhY2hlIExpY2Vuc2UsIFZlcnNpb24gMi4wICh0aGUgIkxpY2Vuc2UiKTsKLy8geW91IG1heSBub3QgdXNlIHRoaXMgZmlsZSBleGNlcHQgaW4gY29tcGxpYW5jZSB3aXRoIHRoZSBMaWNlbnNlLgovLyBZb3UgbWF5IG9idGFpbiBhIGNvcHkgb2YgdGhlIExpY2Vuc2UgYXQKLy8KLy8gICAgICBodHRwOi8vd3d3LmFwYWNoZS5vcmcvbGljZW5zZXMvTElDRU5TRS0yLjAKLy8KLy8gVW5sZXNzIHJlcXVpcmVkIGJ5IGFwcGxpY2FibGUgbGF3IG9yIGFncmVlZCB0byBpbiB3cml0aW5nLCBzb2Z0d2FyZQovLyBkaXN0cmlidXRlZCB1bmRlciB0aGUgTGljZW5zZSBpcyBkaXN0cmlidXRlZCBvbiBhbiAiQVMgSVMiIEJBU0lTLAovLyBXSVRIT1VUIFdBUlJBTlRJRVMgT1IgQ09ORElUSU9OUyBPRiBBTlkgS0lORCwgZWl0aGVyIGV4cHJlc3Mgb3IgaW1wbGllZC4KLy8gU2VlIHRoZSBMaWNlbnNlIGZvciB0aGUgc3BlY2lmaWMgbGFuZ3VhZ2UgZ292ZXJuaW5nIHBlcm1pc3Npb25zIGFuZAovLyBsaW1pdGF0aW9ucyB1bmRlciB0aGUgTGljZW5zZS4KCi8qKgogKiBAZmlsZW92ZXJ2aWV3IEhlbHBlcnMgZm9yIGdvb2dsZS5jb2xhYiBQeXRob24gbW9kdWxlLgogKi8KKGZ1bmN0aW9uKHNjb3BlKSB7CmZ1bmN0aW9uIHNwYW4odGV4dCwgc3R5bGVBdHRyaWJ1dGVzID0ge30pIHsKICBjb25zdCBlbGVtZW50ID0gZG9jdW1lbnQuY3JlYXRlRWxlbWVudCgnc3BhbicpOwogIGVsZW1lbnQudGV4dENvbnRlbnQgPSB0ZXh0OwogIGZvciAoY29uc3Qga2V5IG9mIE9iamVjdC5rZXlzKHN0eWxlQXR0cmlidXRlcykpIHsKICAgIGVsZW1lbnQuc3R5bGVba2V5XSA9IHN0eWxlQXR0cmlidXRlc1trZXldOwogIH0KICByZXR1cm4gZWxlbWVudDsKfQoKLy8gTWF4IG51bWJlciBvZiBieXRlcyB3aGljaCB3aWxsIGJlIHVwbG9hZGVkIGF0IGEgdGltZS4KY29uc3QgTUFYX1BBWUxPQURfU0laRSA9IDEwMCAqIDEwMjQ7CgpmdW5jdGlvbiBfdXBsb2FkRmlsZXMoaW5wdXRJZCwgb3V0cHV0SWQpIHsKICBjb25zdCBzdGVwcyA9IHVwbG9hZEZpbGVzU3RlcChpbnB1dElkLCBvdXRwdXRJZCk7CiAgY29uc3Qgb3V0cHV0RWxlbWVudCA9IGRvY3VtZW50LmdldEVsZW1lbnRCeUlkKG91dHB1dElkKTsKICAvLyBDYWNoZSBzdGVwcyBvbiB0aGUgb3V0cHV0RWxlbWVudCB0byBtYWtlIGl0IGF2YWlsYWJsZSBmb3IgdGhlIG5leHQgY2FsbAogIC8vIHRvIHVwbG9hZEZpbGVzQ29udGludWUgZnJvbSBQeXRob24uCiAgb3V0cHV0RWxlbWVudC5zdGVwcyA9IHN0ZXBzOwoKICByZXR1cm4gX3VwbG9hZEZpbGVzQ29udGludWUob3V0cHV0SWQpOwp9CgovLyBUaGlzIGlzIHJvdWdobHkgYW4gYXN5bmMgZ2VuZXJhdG9yIChub3Qgc3VwcG9ydGVkIGluIHRoZSBicm93c2VyIHlldCksCi8vIHdoZXJlIHRoZXJlIGFyZSBtdWx0aXBsZSBhc3luY2hyb25vdXMgc3RlcHMgYW5kIHRoZSBQeXRob24gc2lkZSBpcyBnb2luZwovLyB0byBwb2xsIGZvciBjb21wbGV0aW9uIG9mIGVhY2ggc3RlcC4KLy8gVGhpcyB1c2VzIGEgUHJvbWlzZSB0byBibG9jayB0aGUgcHl0aG9uIHNpZGUgb24gY29tcGxldGlvbiBvZiBlYWNoIHN0ZXAsCi8vIHRoZW4gcGFzc2VzIHRoZSByZXN1bHQgb2YgdGhlIHByZXZpb3VzIHN0ZXAgYXMgdGhlIGlucHV0IHRvIHRoZSBuZXh0IHN0ZXAuCmZ1bmN0aW9uIF91cGxvYWRGaWxlc0NvbnRpbnVlKG91dHB1dElkKSB7CiAgY29uc3Qgb3V0cHV0RWxlbWVudCA9IGRvY3VtZW50LmdldEVsZW1lbnRCeUlkKG91dHB1dElkKTsKICBjb25zdCBzdGVwcyA9IG91dHB1dEVsZW1lbnQuc3RlcHM7CgogIGNvbnN0IG5leHQgPSBzdGVwcy5uZXh0KG91dHB1dEVsZW1lbnQubGFzdFByb21pc2VWYWx1ZSk7CiAgcmV0dXJuIFByb21pc2UucmVzb2x2ZShuZXh0LnZhbHVlLnByb21pc2UpLnRoZW4oKHZhbHVlKSA9PiB7CiAgICAvLyBDYWNoZSB0aGUgbGFzdCBwcm9taXNlIHZhbHVlIHRvIG1ha2UgaXQgYXZhaWxhYmxlIHRvIHRoZSBuZXh0CiAgICAvLyBzdGVwIG9mIHRoZSBnZW5lcmF0b3IuCiAgICBvdXRwdXRFbGVtZW50Lmxhc3RQcm9taXNlVmFsdWUgPSB2YWx1ZTsKICAgIHJldHVybiBuZXh0LnZhbHVlLnJlc3BvbnNlOwogIH0pOwp9CgovKioKICogR2VuZXJhdG9yIGZ1bmN0aW9uIHdoaWNoIGlzIGNhbGxlZCBiZXR3ZWVuIGVhY2ggYXN5bmMgc3RlcCBvZiB0aGUgdXBsb2FkCiAqIHByb2Nlc3MuCiAqIEBwYXJhbSB7c3RyaW5nfSBpbnB1dElkIEVsZW1lbnQgSUQgb2YgdGhlIGlucHV0IGZpbGUgcGlja2VyIGVsZW1lbnQuCiAqIEBwYXJhbSB7c3RyaW5nfSBvdXRwdXRJZCBFbGVtZW50IElEIG9mIHRoZSBvdXRwdXQgZGlzcGxheS4KICogQHJldHVybiB7IUl0ZXJhYmxlPCFPYmplY3Q+fSBJdGVyYWJsZSBvZiBuZXh0IHN0ZXBzLgogKi8KZnVuY3Rpb24qIHVwbG9hZEZpbGVzU3RlcChpbnB1dElkLCBvdXRwdXRJZCkgewogIGNvbnN0IGlucHV0RWxlbWVudCA9IGRvY3VtZW50LmdldEVsZW1lbnRCeUlkKGlucHV0SWQpOwogIGlucHV0RWxlbWVudC5kaXNhYmxlZCA9IGZhbHNlOwoKICBjb25zdCBvdXRwdXRFbGVtZW50ID0gZG9jdW1lbnQuZ2V0RWxlbWVudEJ5SWQob3V0cHV0SWQpOwogIG91dHB1dEVsZW1lbnQuaW5uZXJIVE1MID0gJyc7CgogIGNvbnN0IHBpY2tlZFByb21pc2UgPSBuZXcgUHJvbWlzZSgocmVzb2x2ZSkgPT4gewogICAgaW5wdXRFbGVtZW50LmFkZEV2ZW50TGlzdGVuZXIoJ2NoYW5nZScsIChlKSA9PiB7CiAgICAgIHJlc29sdmUoZS50YXJnZXQuZmlsZXMpOwogICAgfSk7CiAgfSk7CgogIGNvbnN0IGNhbmNlbCA9IGRvY3VtZW50LmNyZWF0ZUVsZW1lbnQoJ2J1dHRvbicpOwogIGlucHV0RWxlbWVudC5wYXJlbnRFbGVtZW50LmFwcGVuZENoaWxkKGNhbmNlbCk7CiAgY2FuY2VsLnRleHRDb250ZW50ID0gJ0NhbmNlbCB1cGxvYWQnOwogIGNvbnN0IGNhbmNlbFByb21pc2UgPSBuZXcgUHJvbWlzZSgocmVzb2x2ZSkgPT4gewogICAgY2FuY2VsLm9uY2xpY2sgPSAoKSA9PiB7CiAgICAgIHJlc29sdmUobnVsbCk7CiAgICB9OwogIH0pOwoKICAvLyBXYWl0IGZvciB0aGUgdXNlciB0byBwaWNrIHRoZSBmaWxlcy4KICBjb25zdCBmaWxlcyA9IHlpZWxkIHsKICAgIHByb21pc2U6IFByb21pc2UucmFjZShbcGlja2VkUHJvbWlzZSwgY2FuY2VsUHJvbWlzZV0pLAogICAgcmVzcG9uc2U6IHsKICAgICAgYWN0aW9uOiAnc3RhcnRpbmcnLAogICAgfQogIH07CgogIGNhbmNlbC5yZW1vdmUoKTsKCiAgLy8gRGlzYWJsZSB0aGUgaW5wdXQgZWxlbWVudCBzaW5jZSBmdXJ0aGVyIHBpY2tzIGFyZSBub3QgYWxsb3dlZC4KICBpbnB1dEVsZW1lbnQuZGlzYWJsZWQgPSB0cnVlOwoKICBpZiAoIWZpbGVzKSB7CiAgICByZXR1cm4gewogICAgICByZXNwb25zZTogewogICAgICAgIGFjdGlvbjogJ2NvbXBsZXRlJywKICAgICAgfQogICAgfTsKICB9CgogIGZvciAoY29uc3QgZmlsZSBvZiBmaWxlcykgewogICAgY29uc3QgbGkgPSBkb2N1bWVudC5jcmVhdGVFbGVtZW50KCdsaScpOwogICAgbGkuYXBwZW5kKHNwYW4oZmlsZS5uYW1lLCB7Zm9udFdlaWdodDogJ2JvbGQnfSkpOwogICAgbGkuYXBwZW5kKHNwYW4oCiAgICAgICAgYCgke2ZpbGUudHlwZSB8fCAnbi9hJ30pIC0gJHtmaWxlLnNpemV9IGJ5dGVzLCBgICsKICAgICAgICBgbGFzdCBtb2RpZmllZDogJHsKICAgICAgICAgICAgZmlsZS5sYXN0TW9kaWZpZWREYXRlID8gZmlsZS5sYXN0TW9kaWZpZWREYXRlLnRvTG9jYWxlRGF0ZVN0cmluZygpIDoKICAgICAgICAgICAgICAgICAgICAgICAgICAgICAgICAgICAgJ24vYSd9IC0gYCkpOwogICAgY29uc3QgcGVyY2VudCA9IHNwYW4oJzAlIGRvbmUnKTsKICAgIGxpLmFwcGVuZENoaWxkKHBlcmNlbnQpOwoKICAgIG91dHB1dEVsZW1lbnQuYXBwZW5kQ2hpbGQobGkpOwoKICAgIGNvbnN0IGZpbGVEYXRhUHJvbWlzZSA9IG5ldyBQcm9taXNlKChyZXNvbHZlKSA9PiB7CiAgICAgIGNvbnN0IHJlYWRlciA9IG5ldyBGaWxlUmVhZGVyKCk7CiAgICAgIHJlYWRlci5vbmxvYWQgPSAoZSkgPT4gewogICAgICAgIHJlc29sdmUoZS50YXJnZXQucmVzdWx0KTsKICAgICAgfTsKICAgICAgcmVhZGVyLnJlYWRBc0FycmF5QnVmZmVyKGZpbGUpOwogICAgfSk7CiAgICAvLyBXYWl0IGZvciB0aGUgZGF0YSB0byBiZSByZWFkeS4KICAgIGxldCBmaWxlRGF0YSA9IHlpZWxkIHsKICAgICAgcHJvbWlzZTogZmlsZURhdGFQcm9taXNlLAogICAgICByZXNwb25zZTogewogICAgICAgIGFjdGlvbjogJ2NvbnRpbnVlJywKICAgICAgfQogICAgfTsKCiAgICAvLyBVc2UgYSBjaHVua2VkIHNlbmRpbmcgdG8gYXZvaWQgbWVzc2FnZSBzaXplIGxpbWl0cy4gU2VlIGIvNjIxMTU2NjAuCiAgICBsZXQgcG9zaXRpb24gPSAwOwogICAgd2hpbGUgKHBvc2l0aW9uIDwgZmlsZURhdGEuYnl0ZUxlbmd0aCkgewogICAgICBjb25zdCBsZW5ndGggPSBNYXRoLm1pbihmaWxlRGF0YS5ieXRlTGVuZ3RoIC0gcG9zaXRpb24sIE1BWF9QQVlMT0FEX1NJWkUpOwogICAgICBjb25zdCBjaHVuayA9IG5ldyBVaW50OEFycmF5KGZpbGVEYXRhLCBwb3NpdGlvbiwgbGVuZ3RoKTsKICAgICAgcG9zaXRpb24gKz0gbGVuZ3RoOwoKICAgICAgY29uc3QgYmFzZTY0ID0gYnRvYShTdHJpbmcuZnJvbUNoYXJDb2RlLmFwcGx5KG51bGwsIGNodW5rKSk7CiAgICAgIHlpZWxkIHsKICAgICAgICByZXNwb25zZTogewogICAgICAgICAgYWN0aW9uOiAnYXBwZW5kJywKICAgICAgICAgIGZpbGU6IGZpbGUubmFtZSwKICAgICAgICAgIGRhdGE6IGJhc2U2NCwKICAgICAgICB9LAogICAgICB9OwogICAgICBwZXJjZW50LnRleHRDb250ZW50ID0KICAgICAgICAgIGAke01hdGgucm91bmQoKHBvc2l0aW9uIC8gZmlsZURhdGEuYnl0ZUxlbmd0aCkgKiAxMDApfSUgZG9uZWA7CiAgICB9CiAgfQoKICAvLyBBbGwgZG9uZS4KICB5aWVsZCB7CiAgICByZXNwb25zZTogewogICAgICBhY3Rpb246ICdjb21wbGV0ZScsCiAgICB9CiAgfTsKfQoKc2NvcGUuZ29vZ2xlID0gc2NvcGUuZ29vZ2xlIHx8IHt9OwpzY29wZS5nb29nbGUuY29sYWIgPSBzY29wZS5nb29nbGUuY29sYWIgfHwge307CnNjb3BlLmdvb2dsZS5jb2xhYi5fZmlsZXMgPSB7CiAgX3VwbG9hZEZpbGVzLAogIF91cGxvYWRGaWxlc0NvbnRpbnVlLAp9Owp9KShzZWxmKTsK",
              "ok": true,
              "headers": [
                [
                  "content-type",
                  "application/javascript"
                ]
              ],
              "status": 200,
              "status_text": ""
            }
          },
          "base_uri": "https://localhost:8080/",
          "height": 72
        },
        "id": "edcEb1BxNlSE",
        "outputId": "05560c8c-98bf-40b1-c483-0abd6f27c61a"
      },
      "source": [
        "#Import data locally\n",
        "\n",
        "from google.colab import files\n",
        "uploaded = files.upload()"
      ],
      "execution_count": null,
      "outputs": [
        {
          "output_type": "display_data",
          "data": {
            "text/html": [
              "\n",
              "     <input type=\"file\" id=\"files-f469c0c4-441c-40bb-8c36-4cc72e3cd313\" name=\"files[]\" multiple disabled\n",
              "        style=\"border:none\" />\n",
              "     <output id=\"result-f469c0c4-441c-40bb-8c36-4cc72e3cd313\">\n",
              "      Upload widget is only available when the cell has been executed in the\n",
              "      current browser session. Please rerun this cell to enable.\n",
              "      </output>\n",
              "      <script src=\"/nbextensions/google.colab/files.js\"></script> "
            ],
            "text/plain": [
              "<IPython.core.display.HTML object>"
            ]
          },
          "metadata": {
            "tags": []
          }
        },
        {
          "output_type": "stream",
          "text": [
            "Saving shipdata_2020.xlsx to shipdata_2020 (1).xlsx\n"
          ],
          "name": "stdout"
        }
      ]
    },
    {
      "cell_type": "code",
      "metadata": {
        "id": "gSNbeojDeQfT",
        "colab": {
          "base_uri": "https://localhost:8080/",
          "height": 357
        },
        "outputId": "19a5dc59-346a-4ea2-bc8b-756679f79df9"
      },
      "source": [
        "# Read the data into Pandas dataframe\n",
        "\n",
        "shipdata_df = pd.read_excel('shipdata_2020.xlsx') \n",
        "\n",
        "#shipdata_df = pd.DataFrame(shipdata_df, columns=['MMSI','Speed','COG','Destination','Ship_type', 'Gross_tonnage', 'Length', 'Breadth'])\n",
        "\n",
        "shipdata_df.columns = ['MMSI','Speed','COG','Destination','Ship_type', 'Gross_tonnage', 'Length', 'Breadth']\n",
        "\n",
        "print(shipdata_df.dtypes) #check the features data types\n",
        "\n",
        "shipdata_df.head() #print the fisr 5 rows"
      ],
      "execution_count": null,
      "outputs": [
        {
          "output_type": "stream",
          "text": [
            "MMSI               int64\n",
            "Speed            float64\n",
            "COG              float64\n",
            "Destination       object\n",
            "Ship_type         object\n",
            "Gross_tonnage      int64\n",
            "Length           float64\n",
            "Breadth          float64\n",
            "dtype: object\n"
          ],
          "name": "stdout"
        },
        {
          "output_type": "execute_result",
          "data": {
            "text/html": [
              "<div>\n",
              "<style scoped>\n",
              "    .dataframe tbody tr th:only-of-type {\n",
              "        vertical-align: middle;\n",
              "    }\n",
              "\n",
              "    .dataframe tbody tr th {\n",
              "        vertical-align: top;\n",
              "    }\n",
              "\n",
              "    .dataframe thead th {\n",
              "        text-align: right;\n",
              "    }\n",
              "</style>\n",
              "<table border=\"1\" class=\"dataframe\">\n",
              "  <thead>\n",
              "    <tr style=\"text-align: right;\">\n",
              "      <th></th>\n",
              "      <th>MMSI</th>\n",
              "      <th>Speed</th>\n",
              "      <th>COG</th>\n",
              "      <th>Destination</th>\n",
              "      <th>Ship_type</th>\n",
              "      <th>Gross_tonnage</th>\n",
              "      <th>Length</th>\n",
              "      <th>Breadth</th>\n",
              "    </tr>\n",
              "  </thead>\n",
              "  <tbody>\n",
              "    <tr>\n",
              "      <th>0</th>\n",
              "      <td>212209000</td>\n",
              "      <td>10.1377</td>\n",
              "      <td>64.3074</td>\n",
              "      <td>Hamina</td>\n",
              "      <td>Cargo</td>\n",
              "      <td>3416</td>\n",
              "      <td>94.91</td>\n",
              "      <td>15.34</td>\n",
              "    </tr>\n",
              "    <tr>\n",
              "      <th>1</th>\n",
              "      <td>212436000</td>\n",
              "      <td>13.5256</td>\n",
              "      <td>77.0755</td>\n",
              "      <td>Hamina</td>\n",
              "      <td>Tanker</td>\n",
              "      <td>6280</td>\n",
              "      <td>116.90</td>\n",
              "      <td>18.00</td>\n",
              "    </tr>\n",
              "    <tr>\n",
              "      <th>2</th>\n",
              "      <td>219082000</td>\n",
              "      <td>9.9416</td>\n",
              "      <td>74.6762</td>\n",
              "      <td>Hamina</td>\n",
              "      <td>Tanker</td>\n",
              "      <td>9980</td>\n",
              "      <td>141.20</td>\n",
              "      <td>21.90</td>\n",
              "    </tr>\n",
              "    <tr>\n",
              "      <th>3</th>\n",
              "      <td>219083000</td>\n",
              "      <td>11.6038</td>\n",
              "      <td>74.7529</td>\n",
              "      <td>Hamina</td>\n",
              "      <td>Tanker</td>\n",
              "      <td>9980</td>\n",
              "      <td>141.20</td>\n",
              "      <td>21.60</td>\n",
              "    </tr>\n",
              "    <tr>\n",
              "      <th>4</th>\n",
              "      <td>219426000</td>\n",
              "      <td>11.9203</td>\n",
              "      <td>56.3253</td>\n",
              "      <td>Hamina</td>\n",
              "      <td>Tanker</td>\n",
              "      <td>3219</td>\n",
              "      <td>99.90</td>\n",
              "      <td>15.00</td>\n",
              "    </tr>\n",
              "  </tbody>\n",
              "</table>\n",
              "</div>"
            ],
            "text/plain": [
              "        MMSI    Speed      COG  ... Gross_tonnage  Length  Breadth\n",
              "0  212209000  10.1377  64.3074  ...          3416   94.91    15.34\n",
              "1  212436000  13.5256  77.0755  ...          6280  116.90    18.00\n",
              "2  219082000   9.9416  74.6762  ...          9980  141.20    21.90\n",
              "3  219083000  11.6038  74.7529  ...          9980  141.20    21.60\n",
              "4  219426000  11.9203  56.3253  ...          3219   99.90    15.00\n",
              "\n",
              "[5 rows x 8 columns]"
            ]
          },
          "metadata": {
            "tags": []
          },
          "execution_count": 104
        }
      ]
    },
    {
      "cell_type": "code",
      "metadata": {
        "colab": {
          "base_uri": "https://localhost:8080/"
        },
        "id": "mc9t6ze-lNYX",
        "outputId": "31523092-193b-491c-a134-c4594a154c6e"
      },
      "source": [
        "print(shipdata_df.shape) #print the data shape, it has 134 rows and 8 columns\n",
        "\n"
      ],
      "execution_count": null,
      "outputs": [
        {
          "output_type": "stream",
          "text": [
            "(134, 8)\n"
          ],
          "name": "stdout"
        }
      ]
    },
    {
      "cell_type": "markdown",
      "metadata": {
        "id": "knsmWoOaeQfT"
      },
      "source": [
        "### Part 1: Preprocess and visualize the data\n",
        "\n",
        " - Use 'Speed', 'COG', 'Length' and Breadth' as features for this exercise. You will also need the 'Ship_type' -column later to be used as labels for assessing the performance of the clustering algorithm. Gather the features and labels in two arrays (e.g. X and Y).\n",
        " \n",
        " - Perform z-score standardization on the feature array to ensure that all features have equal weight.\n",
        " \n",
        " - Map the data to two dimensions by using principal component analysis and visualize the resulting two-dimensional data in a scatter plot. Don't color the scatter plot yet. Can you see distinct clusters in the scatter plot? How many clusters are there? (Don't worry if the clusters are difficult to see!)"
      ]
    },
    {
      "cell_type": "code",
      "metadata": {
        "id": "a89JZvsAeQfU",
        "colab": {
          "base_uri": "https://localhost:8080/"
        },
        "outputId": "3d734ead-775b-42e9-fd0c-37737cd38e86"
      },
      "source": [
        "\n",
        "# Gather the features and labels in two arrays (e.g. X and Y)\n",
        "\n",
        "#X = shipdata_df['Speed','COG','Length','Breadth'].values\n",
        "\n",
        "X = shipdata_df[['Speed', 'COG', 'Length', 'Breadth']]\n",
        "\n",
        "X_arr = X.to_numpy()\n",
        "               \n",
        "y = shipdata_df['Ship_type'].values\n",
        "\n",
        "print(\"X_arr.shape: {}  y.shape: {}\".format(X.shape, y.shape))"
      ],
      "execution_count": null,
      "outputs": [
        {
          "output_type": "stream",
          "text": [
            "X_arr.shape: (134, 4)  y.shape: (134,)\n"
          ],
          "name": "stdout"
        }
      ]
    },
    {
      "cell_type": "code",
      "metadata": {
        "colab": {
          "base_uri": "https://localhost:8080/"
        },
        "id": "qxp_B8DWhV5U",
        "outputId": "4bf74ac6-acac-41f4-b6ce-f3aaa761e3a5"
      },
      "source": [
        "#Perform z-score standardization on the feature array to ensure that all features have equal weight.\n",
        "\n",
        "\n",
        "from sklearn import preprocessing\n",
        "\n",
        "std_scale = preprocessing.StandardScaler().fit(shipdata_df[['Speed','COG','Length','Breadth']])\n",
        "\n",
        "X_arr_zscore= std_scale.transform(shipdata_df[['Speed','COG','Length','Breadth']])\n",
        "\n",
        "print('Mean after standardization:\\nSpeed={:.2f}, COG={:.2f}, Length={:.2f}, Breadth={:.2f}'\n",
        "      .format(X_arr_zscore[:,0].mean(), X_arr_zscore[:,1].mean(), X_arr_zscore[:,2].mean(), X_arr_zscore[:,3].mean()))\n",
        "\n",
        "\n",
        "print('\\nStandard deviation after standardization:\\nSpeed={:.2f}, COG={:.2f}, Length={:.2f}, Breadth={:.2f}'\n",
        "      .format(X_arr_zscore[:,0].std(), X_arr_zscore[:,1].std(), X_arr_zscore[:,2].std(), X_arr_zscore[:,3].std()))\n",
        "\n"
      ],
      "execution_count": null,
      "outputs": [
        {
          "output_type": "stream",
          "text": [
            "Mean after standardization:\n",
            "Speed=0.00, COG=-0.00, Length=-0.00, Breadth=0.00\n",
            "\n",
            "Standard deviation after standardization:\n",
            "Speed=1.00, COG=1.00, Length=1.00, Breadth=1.00\n"
          ],
          "name": "stdout"
        }
      ]
    },
    {
      "cell_type": "code",
      "metadata": {
        "colab": {
          "base_uri": "https://localhost:8080/"
        },
        "id": "bFAMSgidG-AN",
        "outputId": "719433a0-33e5-4e5d-d29e-6d3fc9865963"
      },
      "source": [
        "print(X_arr_zscore) #displaying the zscore table\n"
      ],
      "execution_count": null,
      "outputs": [
        {
          "output_type": "stream",
          "text": [
            "[[-0.16129924 -0.8908464  -0.56407086 -0.48910449]\n",
            " [ 1.58020874 -0.07639306 -0.18076684 -0.22069643]\n",
            " [-0.26210202 -0.22943994  0.2428024   0.17283419]\n",
            " [ 0.59233128 -0.22454739  0.2428024   0.1425626 ]\n",
            " [ 0.75502418 -1.40000971 -0.47709101 -0.52341229]\n",
            " [ 0.66403952 -0.46580051 -0.0918696  -0.422507  ]\n",
            " [-1.07217387 -0.79671424 -0.47621947 -0.37205436]\n",
            " [-0.18098688 -0.21575738 -0.77847011 -0.79585656]\n",
            " [-0.65760255 -0.2339689   0.17081306 -0.10869156]\n",
            " [ 0.02282902 -0.19561309 -0.15078581 -0.38214489]\n",
            " [-1.030177   -0.21455179 -0.06398026 -0.06631134]\n",
            " [-0.08465624 -0.09058592  0.22537157  0.19806051]\n",
            " [-0.45810455 -0.32075266 -0.6860867  -0.88566226]\n",
            " [-0.28178966 -0.23502778  0.15216207  1.19197758]\n",
            " [-0.93836988 -0.6852062  -0.7802132  -0.7756755 ]\n",
            " [ 1.24711237 -0.55321578 -0.32718584 -0.42957037]\n",
            " [ 0.59659779 -0.80698413 -0.47709101 -0.52341229]\n",
            " [ 1.18218942  5.03889267 -0.06398026 -0.09658293]\n",
            " [ 0.05552181 -0.92651673 -0.35385502 -0.17831621]\n",
            " [-0.88048925  0.45609757 -1.95696874 -1.53246515]\n",
            " [-1.28842949 -0.73468028 -0.78213059 -0.7756755 ]\n",
            " [-0.16628541 -0.31026589 -0.7803875  -0.78576603]\n",
            " [ 0.15596476 -0.30356176  0.12601582 -0.37205436]\n",
            " [ 0.37365968 -0.2392378  -0.56773134 -0.68486074]\n",
            " [ 0.51779583 -0.83602687 -0.67928867 -0.73531339]\n",
            " [-0.4354355  -0.31578357 -0.66708709 -0.7756755 ]\n",
            " [ 0.22649072 -1.02623673 -0.27663643 -0.68990601]\n",
            " [ 1.66353423 -1.32819702 -0.03086168 -0.1399722 ]\n",
            " [-0.09683893 -0.24122799 -0.65017918 -0.48305017]\n",
            " [ 0.95822324 -0.54642234  0.12967629  0.06486553]\n",
            " [ 0.16377813  0.09574562 -0.17937238 -0.3347194 ]\n",
            " [-1.52905049 -0.05642737 -0.64983056 -0.7756755 ]\n",
            " [ 1.55173105  0.4099341  -0.18076684 -0.22069643]\n",
            " [-0.77248995  0.13812008  2.55761704  2.81049837]\n",
            " [-1.41056482 -0.23951847 -0.45530247 -0.58395546]\n",
            " [ 0.25640771 -0.24681583  0.29248027  0.28685716]\n",
            " [-0.35437177  0.52392988  0.39880836 -0.29133013]\n",
            " [-0.35303527  1.99568173 -1.63798449 -1.10664484]\n",
            " [-0.16042538  0.25286218  0.24541702  0.23337736]\n",
            " [-0.34038994 -0.95850648 -0.80304759 -0.78576603]\n",
            " [-1.36584355 -0.27101705 -0.78369936 -0.89676185]\n",
            " [-0.90356954 -0.27893954 -0.09152098 -0.15006273]\n",
            " [ 0.79578736 -0.05044404  2.08698454  2.40284102]\n",
            " [-0.31155243 -0.02735274  0.58950167  0.52902985]\n",
            " [-1.46330508  0.31423275 -0.78596537 -0.89676185]\n",
            " [-0.27716332  3.33883669 -1.67824972 -0.97849513]\n",
            " [ 0.97349016  3.33461392 -0.44397242 -0.1399722 ]\n",
            " [-1.56600979  0.70608329 -0.42305543 -0.66467969]\n",
            " [-1.17133172  3.26354117 -1.80357741 -1.33065458]\n",
            " [-0.09611928  2.35807491 -0.66813294 -0.7050418 ]\n",
            " [-1.01002672  0.09866711  1.11852745  0.60672692]\n",
            " [-2.52263376  1.30748425  0.96269581  1.2151858 ]\n",
            " [-0.44664152  0.2642675  -0.23358227 -0.70605085]\n",
            " [-0.62393308  1.49775151 -0.6505278  -0.49818596]\n",
            " [ 0.67771292 -0.31500535  0.04321936 -0.03099449]\n",
            " [ 0.15046456 -0.51666517  0.73609498  0.36253613]\n",
            " [-0.93929515 -0.83973297 -1.09937175 -0.97748607]\n",
            " [ 0.94290492 -0.20412243  0.29387474  0.30199296]\n",
            " [ 2.17387076  0.05855713 -0.1650791  -0.16015326]\n",
            " [ 0.95981676 -0.90331698 -0.83442309 -0.64954389]\n",
            " [ 0.64167889 -0.12075133 -0.11330952 -0.38214489]\n",
            " [ 1.44866652 -1.14421289 -0.47534792 -0.32160171]\n",
            " [ 1.60082165 -0.38608447 -0.47709101 -0.37205436]\n",
            " [ 0.59269111 -1.21284893 -0.56494241 -0.57386493]\n",
            " [ 0.71847611  0.13203469  0.29335182  0.30300201]\n",
            " [ 0.58703669 -0.69470425  1.18058122  1.21619485]\n",
            " [ 0.46860243 -0.23077949  1.18058122  1.21619485]\n",
            " [ 0.24679521 -0.1819114  -0.33590126 -0.34178277]\n",
            " [ 0.62101458 -0.23454299 -0.59840961 -0.4931407 ]\n",
            " [ 0.64825857 -0.55539733 -0.21388543 -0.16015326]\n",
            " [ 0.19215301 -1.39354797 -0.35280917 -0.17831621]\n",
            " [ 0.65776827  0.16541502  0.98884206  0.75303958]\n",
            " [-0.27346225 -0.27240763  2.13927704  2.40687723]\n",
            " [-1.85371664 -0.11552708  0.98884206  0.78835644]\n",
            " [ 0.77059952 -0.2636559   2.13927704  2.40586817]\n",
            " [ 1.00448663  0.19621832  2.13753396  2.6086878 ]\n",
            " [ 0.49656607 -0.42147413 -0.59980407 -0.61422704]\n",
            " [ 1.02407146  0.11923241  0.74306731  0.52600269]\n",
            " [-0.19697345  1.03729045 -0.32718584 -0.16015326]\n",
            " [-1.24134364 -0.20318474 -0.68451792 -0.7756755 ]\n",
            " [-0.81685139  0.61217439  0.03537549 -0.37205436]\n",
            " [-1.67354646 -0.11176358 -1.65053469 -1.0218844 ]\n",
            " [-0.93353793  0.06639669 -1.63903034 -1.05316504]\n",
            " [-0.44905749  2.98297542 -1.40057655 -1.2166316 ]\n",
            " [-1.47615602  2.26611155 -0.68521515 -0.7756755 ]\n",
            " [-0.70864648  2.01939816 -1.75076198 -1.28020193]\n",
            " [-1.6754998  -0.29236694 -1.64513113 -1.1268259 ]\n",
            " [-0.77680787  0.07523135 -0.65453689 -0.66467969]\n",
            " [ 0.26149668 -0.07392446 -0.66743571 -0.8463092 ]\n",
            " [-1.34152957  0.05459589 -0.84139542 -0.93712396]\n",
            " [-1.06950087  0.75179387 -0.46454081 -0.40232594]\n",
            " [ 1.72259715 -0.27375356  0.97141122  1.21619485]\n",
            " [ 0.84986412 -0.53765147  2.13701103  2.38265996]\n",
            " [-0.63801771  0.72335712  2.24211896  2.40284102]\n",
            " [ 1.18383435  0.26668507  0.91894442  1.21215864]\n",
            " [ 1.1653804   1.02383115  1.18389308  1.21619485]\n",
            " [ 1.17427325  0.07997719  2.13927704  2.40284102]\n",
            " [ 0.12959463  0.26968949  2.13927704  2.38265996]\n",
            " [ 0.48428058 -0.07887442  2.13927704  2.40990439]\n",
            " [-0.20468402  0.42004452 -0.68730685 -0.73531339]\n",
            " [ 0.57408294  0.62324802  1.77183508  1.21619485]\n",
            " [ 1.42142252 -0.04850488 -0.47621947 -0.22069643]\n",
            " [ 0.81855923 -0.72945603  1.2659923   1.19197758]\n",
            " [ 0.30256829  0.3348427   2.13753396  2.40284102]\n",
            " [ 0.05953131  0.42255777  2.03469204  2.2040576 ]\n",
            " [ 2.00865908  1.52579916  0.56997914  0.54618375]\n",
            " [ 0.36728562  0.65403855  0.97141122  1.21215864]\n",
            " [-0.72859114 -0.29163338 -0.77986458 -0.880617  ]\n",
            " [ 0.37324845 -0.69504233 -0.54507126 -0.66467969]\n",
            " [-1.28817247  0.23444655 -1.72287265 -1.17929665]\n",
            " [-0.80338361 -0.19627011 -0.8243132  -0.8099833 ]\n",
            " [-0.22241832 -0.96557421 -0.65314242 -0.66467969]\n",
            " [-1.02354591 -0.21115826 -0.91286184 -0.97748607]\n",
            " [-0.85180595 -0.11789362 -0.68538946 -0.84126394]\n",
            " [ 0.96521415 -0.33482433 -0.30400283 -0.16015326]\n",
            " [ 1.77497758 -0.436509   -0.19192258 -0.22069643]\n",
            " [-0.32327249 -0.5384871  -0.28360876 -0.57386493]\n",
            " [-0.22025936 -0.76483293 -0.7803875  -0.7756755 ]\n",
            " [-0.75902216 -0.44367879 -0.7803875  -0.7736574 ]\n",
            " [-0.40371938 -0.20134126 -0.73890212 -0.74540392]\n",
            " [-0.47948852 -0.86252447 -0.82257012 -0.78576603]\n",
            " [-0.80132746  0.74363537 -0.21388543 -0.42149795]\n",
            " [-1.21990828 -0.24102387  0.71169181  0.69148736]\n",
            " [-1.53583578 -0.16487359  0.89419263  0.75808485]\n",
            " [ 0.23790236 -0.3568121   0.7115175   0.56939196]\n",
            " [-1.55290183 -0.33080567  0.42617476  0.32419212]\n",
            " [ 2.62252278 -1.41725164  0.6780503   0.50985784]\n",
            " [ 3.40858907 -1.59130396  0.5358147   0.36354518]\n",
            " [ 0.63921151 -1.58746392  0.531457    0.33730981]\n",
            " [-0.21172633 -0.23268676  0.22014232 -0.3518733 ]\n",
            " [-0.56584684 -0.23778343  0.22014232 -0.32765603]\n",
            " [-0.35195579 -0.60963639  0.23670161 -0.33572845]\n",
            " [ 0.36183682 -0.291627    0.97141122  0.7247861 ]\n",
            " [ 0.42089974 -1.20459474  1.77392678  1.22325822]]\n"
          ],
          "name": "stdout"
        }
      ]
    },
    {
      "cell_type": "code",
      "metadata": {
        "colab": {
          "base_uri": "https://localhost:8080/",
          "height": 295
        },
        "id": "5LxD2ZJeqtPB",
        "outputId": "0e91f08a-bb3b-4a78-b817-c30e774d5768"
      },
      "source": [
        "# Map the data to two dimensions by using principal component analysis\n",
        "\n",
        "from sklearn.decomposition import PCA\n",
        "import matplotlib.pyplot as plt\n",
        "%matplotlib inline\n",
        "\n",
        "#pca = PCA(n_components=2)\n",
        "#X_r= pca.fit(X).transform(X)\n",
        "\n",
        "pca = PCA(n_components=2)\n",
        "proj = pca.fit_transform(X_arr_zscore)\n",
        "plt.scatter(proj[:, 0], proj[:, 1])\n",
        "\n",
        "plt.xlabel('First Principal Component')\n",
        "plt.ylabel('Second Principal Component')\n",
        "plt.title(\"PCA Scatter Plot\")\n",
        "\n",
        "#plt.colorbar()\n",
        "\n",
        "plt.show()"
      ],
      "execution_count": null,
      "outputs": [
        {
          "output_type": "display_data",
          "data": {
            "image/png": "[encoded data removed]",
            "text/plain": [
              "<Figure size 432x288 with 1 Axes>"
            ]
          },
          "metadata": {
            "tags": [],
            "needs_background": "light"
          }
        }
      ]
    },
    {
      "cell_type": "code",
      "metadata": {
        "colab": {
          "base_uri": "https://localhost:8080/"
        },
        "id": "KemjZ89Pifoa",
        "outputId": "d596f280-92f3-424e-9239-5afbf0c0f378"
      },
      "source": [
        "#shows the shape of the dataset before and after PCA\n",
        "print(X_arr.shape)\n",
        "print(proj.shape)"
      ],
      "execution_count": null,
      "outputs": [
        {
          "output_type": "stream",
          "text": [
            "(134, 4)\n",
            "(134, 2)\n"
          ],
          "name": "stdout"
        }
      ]
    },
    {
      "cell_type": "markdown",
      "metadata": {
        "id": "mLHs30T--kJP"
      },
      "source": [
        "Yes, I see some distinct clusters, but cant really say how many of such cluseters."
      ]
    },
    {
      "cell_type": "markdown",
      "metadata": {
        "id": "SkKGazBGeQfV"
      },
      "source": [
        "### Part 2: Perform clustering on the data and evaluate the results using silhouette score\n",
        " \n",
        " - Perform agglomerative hierarchical clustering (sklearn.cluster.AgglomerativeClustering) on the data, trying different linkage criteria (ward, complete, single, average). Choose n_clusters -hyperparameter based on the number of classes (i.e. different ship types in the data). Use default values for the other hyperparameters.\n",
        " - Use the z-score standardized 4-dimensional data for the clustering - not the pca-transformed data!\n",
        " - Compute and print silhouette score for each clustering using a different linkage criterion. Which linkage criterion performs the best with respect to the silhouette score?"
      ]
    },
    {
      "cell_type": "code",
      "metadata": {
        "colab": {
          "base_uri": "https://localhost:8080/"
        },
        "id": "nxTBU2Xp_hFs",
        "outputId": "6769cc75-b8da-4a90-b184-3c5e01addcae"
      },
      "source": [
        "# Perform agglomerative hierarchical clustering on the data using linkage: ward\n",
        "\n",
        "from sklearn.cluster import AgglomerativeClustering\n",
        "from sklearn.metrics import silhouette_score\n",
        "\n",
        "cluster = AgglomerativeClustering(n_clusters=3, affinity='euclidean',linkage='ward')\n",
        "\n",
        "pred = cluster.fit_predict(X_arr_zscore)\n",
        "\n",
        "\n",
        "print(silhouette_score(X_arr_zscore, pred))\n",
        "\n",
        "\n",
        "\n"
      ],
      "execution_count": null,
      "outputs": [
        {
          "output_type": "stream",
          "text": [
            "0.43011853388720317\n"
          ],
          "name": "stdout"
        }
      ]
    },
    {
      "cell_type": "code",
      "metadata": {
        "colab": {
          "base_uri": "https://localhost:8080/"
        },
        "id": "3dQ_RG4jIouo",
        "outputId": "6a76c419-f239-4898-e550-2c86dc0cbb5d"
      },
      "source": [
        "# # Perform agglomerative hierarchical clustering on the data using linkage: complete\n",
        "cluster = AgglomerativeClustering(n_clusters=3, affinity='euclidean',linkage='complete')\n",
        "\n",
        "pred = cluster.fit_predict(X_arr_zscore)\n",
        "\n",
        "print(silhouette_score(X_arr_zscore, pred))\n"
      ],
      "execution_count": null,
      "outputs": [
        {
          "output_type": "stream",
          "text": [
            "0.3924324866218544\n"
          ],
          "name": "stdout"
        }
      ]
    },
    {
      "cell_type": "code",
      "metadata": {
        "colab": {
          "base_uri": "https://localhost:8080/"
        },
        "id": "prjcv5-uI25-",
        "outputId": "04242ff5-3981-4ffb-f233-67c9b8e3c7a4"
      },
      "source": [
        "3 # Perform agglomerative hierarchical clustering on the data using linkage: single\n",
        "cluster = AgglomerativeClustering(n_clusters=3, affinity='euclidean',linkage='single')\n",
        "\n",
        "pred = cluster.fit_predict(X_arr_zscore)\n",
        "\n",
        "print(silhouette_score(X_arr_zscore, pred))\n"
      ],
      "execution_count": null,
      "outputs": [
        {
          "output_type": "stream",
          "text": [
            "0.3035356273749434\n"
          ],
          "name": "stdout"
        }
      ]
    },
    {
      "cell_type": "code",
      "metadata": {
        "colab": {
          "base_uri": "https://localhost:8080/"
        },
        "id": "1bwbiA1eJB8t",
        "outputId": "4271096e-a91f-4775-82c1-cebe009904d1"
      },
      "source": [
        "# # Perform agglomerative hierarchical clustering on the data using linkage: average\n",
        "cluster = AgglomerativeClustering(n_clusters=3, affinity='euclidean',linkage='average')\n",
        "\n",
        "pred = cluster.fit_predict(X_arr_zscore)\n",
        "\n",
        "print(silhouette_score(X_arr_zscore, pred))"
      ],
      "execution_count": null,
      "outputs": [
        {
          "output_type": "stream",
          "text": [
            "0.3184751869502867\n"
          ],
          "name": "stdout"
        }
      ]
    },
    {
      "cell_type": "markdown",
      "metadata": {
        "id": "kKWYiDswJ7y3"
      },
      "source": [
        "The linkage criterion \"ward\" performed best with the higest silhouette_score of 0.43"
      ]
    },
    {
      "cell_type": "markdown",
      "metadata": {
        "id": "LMxzkCQKeQfX"
      },
      "source": [
        "###  Part 3: Compare the clusters with the true labels\n",
        "\n",
        " - If you performed the preprocessing steps as instructed, the linkage criterion with the highest silhouette score should be 'ward'. If a different linkage criterion performed better, make sure all the preprocessing steps were performed correctly. In any case, use 'ward' linkage criterion from here on.\n",
        " \n",
        " - Perform agglomerative hierarchical clustering using the chosen linkage criterion and the same number of clusters as before. Visualize the clusters in a scatter plot by performing pca transformation to two dimensions and color the scatter plot based on the predictions produced by the clustering algorithm.\n",
        " \n",
        " - Visualize the data again, this time coloring the scatter plot based on the true class labels. Compare the two scatter plots: how well do the clusters found by the clustering algorithm match the true classes? Place the two scatter plots so that they can easily be compared (e.g. in subplots next to each other in the same figure).\n",
        " \n",
        " - Based on the visual comparison between the clusters and true classes, would you say that the clustering was successful?\n",
        " \n",
        " - Rand score is a measure of similarity between two partitions of a set of elements - in this case true classes and clusters found by the clustering algorithm - and it is one of the most frequently used performance metrics for clustering. It is computed by considering each pair of elements in the dataset and counting pairs of elements as follows:\n",
        " \n",
        "         a: number of pairs such that the elements are in the same class and in the same cluster\n",
        "         b: number of pairs such that the elements are in different classes and in different clusters\n",
        "         c: number of pairs such that the elements are in the same class but in different clusters\n",
        "         d: number of pairs such that the elements are in different classes but in the same cluster\n",
        "     \n",
        "     Given a, b, c, d, the formula for rand index is:\n",
        "     \n",
        "         rand_index = (a+b)/(a+b+c+d).\n",
        "     \n",
        "- \"Adjusted rand index\" is corrected for chance by using maximum and expected values of rand index.\n",
        "\n",
        "        adj_rand_index = (rand_index - expected_rand_index) / (max_rand_index - expected_rand_index)\n",
        " \n",
        "- For an objective evaluation of the clustering, compute the adjusted rand score (sklearn.metrics.adjusted_rand_score) using the true labels and the labels predicted by clustering algorithm. How do you interpret the result?\n",
        " \n",
        "- If the results seem unimpressive, don't get discouraged - clustering \"real life\" data sets is a difficult task, and a relatively low rand index does not necessarily mean that you have made a mistake."
      ]
    },
    {
      "cell_type": "code",
      "metadata": {
        "id": "ZrTv189JeQfZ",
        "colab": {
          "base_uri": "https://localhost:8080/",
          "height": 312
        },
        "outputId": "4251a81d-7ce6-4bc6-aedb-80eb5047eabe"
      },
      "source": [
        "# Scatter plot using the first two principal components to observe the cluster distribution\n",
        "\n",
        "cluster = AgglomerativeClustering(n_clusters=3, affinity='euclidean',linkage='ward')\n",
        "\n",
        "pred = cluster.fit_predict(X_arr_zscore)\n",
        "temp=pred\n",
        "\n",
        "pca = PCA(n_components=2)\n",
        "proj = pca.fit_transform(X_arr_zscore)\n",
        "\n",
        "plt.scatter(proj[:, 0], proj[:, 1], c = temp)\n",
        "\n",
        "plt.xlabel('First Principal Component')\n",
        "plt.ylabel('Second Principal Component')\n",
        "plt.title(\"PCA Scatter Plot for cluster Distribution\")\n",
        "\n",
        "\n"
      ],
      "execution_count": null,
      "outputs": [
        {
          "output_type": "execute_result",
          "data": {
            "text/plain": [
              "Text(0.5, 1.0, 'PCA Scatter Plot for cluster Distribution')"
            ]
          },
          "metadata": {
            "tags": []
          },
          "execution_count": 115
        },
        {
          "output_type": "display_data",
          "data": {
            "image/png": "[encoded data removed]",
            "text/plain": [
              "<Figure size 432x288 with 1 Axes>"
            ]
          },
          "metadata": {
            "tags": [],
            "needs_background": "light"
          }
        }
      ]
    },
    {
      "cell_type": "code",
      "metadata": {
        "colab": {
          "base_uri": "https://localhost:8080/",
          "height": 949
        },
        "id": "Tg-ppWm84tgN",
        "outputId": "2a13023a-4749-4641-c190-920bd343b0a1"
      },
      "source": [
        "# Scatter plot using the first two principal components to observe the Distribution on the true class labels\n",
        "plt.scatter(proj[:, 0], proj[:, 1], c = y)\n",
        "\n",
        "plt.xlabel('First Principal Component')\n",
        "plt.ylabel('Second Principal Component')\n",
        "plt.title(\"PCA Scatter Plot based on the true class labels\")\n",
        "\n",
        "plt.show()"
      ],
      "execution_count": null,
      "outputs": [
        {
          "output_type": "error",
          "ename": "ValueError",
          "evalue": "ignored",
          "traceback": [
            "\u001b[0;31m---------------------------------------------------------------------------\u001b[0m",
            "\u001b[0;31mValueError\u001b[0m                                Traceback (most recent call last)",
            "\u001b[0;32m/usr/local/lib/python3.6/dist-packages/matplotlib/axes/_axes.py\u001b[0m in \u001b[0;36m_parse_scatter_color_args\u001b[0;34m(c, edgecolors, kwargs, xsize, get_next_color_func)\u001b[0m\n\u001b[1;32m   4238\u001b[0m             \u001b[0;32mtry\u001b[0m\u001b[0;34m:\u001b[0m  \u001b[0;31m# Is 'c' acceptable as PathCollection facecolors?\u001b[0m\u001b[0;34m\u001b[0m\u001b[0;34m\u001b[0m\u001b[0m\n\u001b[0;32m-> 4239\u001b[0;31m                 \u001b[0mcolors\u001b[0m \u001b[0;34m=\u001b[0m \u001b[0mmcolors\u001b[0m\u001b[0;34m.\u001b[0m\u001b[0mto_rgba_array\u001b[0m\u001b[0;34m(\u001b[0m\u001b[0mc\u001b[0m\u001b[0;34m)\u001b[0m\u001b[0;34m\u001b[0m\u001b[0;34m\u001b[0m\u001b[0m\n\u001b[0m\u001b[1;32m   4240\u001b[0m             \u001b[0;32mexcept\u001b[0m \u001b[0mValueError\u001b[0m\u001b[0;34m:\u001b[0m\u001b[0;34m\u001b[0m\u001b[0;34m\u001b[0m\u001b[0m\n",
            "\u001b[0;32m/usr/local/lib/python3.6/dist-packages/matplotlib/colors.py\u001b[0m in \u001b[0;36mto_rgba_array\u001b[0;34m(c, alpha)\u001b[0m\n\u001b[1;32m    339\u001b[0m     \u001b[0;32melse\u001b[0m\u001b[0;34m:\u001b[0m\u001b[0;34m\u001b[0m\u001b[0;34m\u001b[0m\u001b[0m\n\u001b[0;32m--> 340\u001b[0;31m         \u001b[0;32mreturn\u001b[0m \u001b[0mnp\u001b[0m\u001b[0;34m.\u001b[0m\u001b[0marray\u001b[0m\u001b[0;34m(\u001b[0m\u001b[0;34m[\u001b[0m\u001b[0mto_rgba\u001b[0m\u001b[0;34m(\u001b[0m\u001b[0mcc\u001b[0m\u001b[0;34m,\u001b[0m \u001b[0malpha\u001b[0m\u001b[0;34m)\u001b[0m \u001b[0;32mfor\u001b[0m \u001b[0mcc\u001b[0m \u001b[0;32min\u001b[0m \u001b[0mc\u001b[0m\u001b[0;34m]\u001b[0m\u001b[0;34m)\u001b[0m\u001b[0;34m\u001b[0m\u001b[0;34m\u001b[0m\u001b[0m\n\u001b[0m\u001b[1;32m    341\u001b[0m \u001b[0;34m\u001b[0m\u001b[0m\n",
            "\u001b[0;32m/usr/local/lib/python3.6/dist-packages/matplotlib/colors.py\u001b[0m in \u001b[0;36m<listcomp>\u001b[0;34m(.0)\u001b[0m\n\u001b[1;32m    339\u001b[0m     \u001b[0;32melse\u001b[0m\u001b[0;34m:\u001b[0m\u001b[0;34m\u001b[0m\u001b[0;34m\u001b[0m\u001b[0m\n\u001b[0;32m--> 340\u001b[0;31m         \u001b[0;32mreturn\u001b[0m \u001b[0mnp\u001b[0m\u001b[0;34m.\u001b[0m\u001b[0marray\u001b[0m\u001b[0;34m(\u001b[0m\u001b[0;34m[\u001b[0m\u001b[0mto_rgba\u001b[0m\u001b[0;34m(\u001b[0m\u001b[0mcc\u001b[0m\u001b[0;34m,\u001b[0m \u001b[0malpha\u001b[0m\u001b[0;34m)\u001b[0m \u001b[0;32mfor\u001b[0m \u001b[0mcc\u001b[0m \u001b[0;32min\u001b[0m \u001b[0mc\u001b[0m\u001b[0;34m]\u001b[0m\u001b[0;34m)\u001b[0m\u001b[0;34m\u001b[0m\u001b[0;34m\u001b[0m\u001b[0m\n\u001b[0m\u001b[1;32m    341\u001b[0m \u001b[0;34m\u001b[0m\u001b[0m\n",
            "\u001b[0;32m/usr/local/lib/python3.6/dist-packages/matplotlib/colors.py\u001b[0m in \u001b[0;36mto_rgba\u001b[0;34m(c, alpha)\u001b[0m\n\u001b[1;32m    184\u001b[0m     \u001b[0;32mif\u001b[0m \u001b[0mrgba\u001b[0m \u001b[0;32mis\u001b[0m \u001b[0;32mNone\u001b[0m\u001b[0;34m:\u001b[0m  \u001b[0;31m# Suppress exception chaining of cache lookup failure.\u001b[0m\u001b[0;34m\u001b[0m\u001b[0;34m\u001b[0m\u001b[0m\n\u001b[0;32m--> 185\u001b[0;31m         \u001b[0mrgba\u001b[0m \u001b[0;34m=\u001b[0m \u001b[0m_to_rgba_no_colorcycle\u001b[0m\u001b[0;34m(\u001b[0m\u001b[0mc\u001b[0m\u001b[0;34m,\u001b[0m \u001b[0malpha\u001b[0m\u001b[0;34m)\u001b[0m\u001b[0;34m\u001b[0m\u001b[0;34m\u001b[0m\u001b[0m\n\u001b[0m\u001b[1;32m    186\u001b[0m         \u001b[0;32mtry\u001b[0m\u001b[0;34m:\u001b[0m\u001b[0;34m\u001b[0m\u001b[0;34m\u001b[0m\u001b[0m\n",
            "\u001b[0;32m/usr/local/lib/python3.6/dist-packages/matplotlib/colors.py\u001b[0m in \u001b[0;36m_to_rgba_no_colorcycle\u001b[0;34m(c, alpha)\u001b[0m\n\u001b[1;32m    260\u001b[0m             \u001b[0;32mreturn\u001b[0m \u001b[0mc\u001b[0m\u001b[0;34m,\u001b[0m \u001b[0mc\u001b[0m\u001b[0;34m,\u001b[0m \u001b[0mc\u001b[0m\u001b[0;34m,\u001b[0m \u001b[0malpha\u001b[0m \u001b[0;32mif\u001b[0m \u001b[0malpha\u001b[0m \u001b[0;32mis\u001b[0m \u001b[0;32mnot\u001b[0m \u001b[0;32mNone\u001b[0m \u001b[0;32melse\u001b[0m \u001b[0;36m1.\u001b[0m\u001b[0;34m\u001b[0m\u001b[0;34m\u001b[0m\u001b[0m\n\u001b[0;32m--> 261\u001b[0;31m         \u001b[0;32mraise\u001b[0m \u001b[0mValueError\u001b[0m\u001b[0;34m(\u001b[0m\u001b[0;34mf\"Invalid RGBA argument: {orig_c!r}\"\u001b[0m\u001b[0;34m)\u001b[0m\u001b[0;34m\u001b[0m\u001b[0;34m\u001b[0m\u001b[0m\n\u001b[0m\u001b[1;32m    262\u001b[0m     \u001b[0;31m# tuple color.\u001b[0m\u001b[0;34m\u001b[0m\u001b[0;34m\u001b[0m\u001b[0;34m\u001b[0m\u001b[0m\n",
            "\u001b[0;31mValueError\u001b[0m: Invalid RGBA argument: 'Cargo'",
            "\nDuring handling of the above exception, another exception occurred:\n",
            "\u001b[0;31mValueError\u001b[0m                                Traceback (most recent call last)",
            "\u001b[0;32m<ipython-input-116-81d1c20bb3ba>\u001b[0m in \u001b[0;36m<module>\u001b[0;34m()\u001b[0m\n\u001b[1;32m      1\u001b[0m \u001b[0;31m# Scatter plot using the first two principal components to observe the Distribution on the true class labels\u001b[0m\u001b[0;34m\u001b[0m\u001b[0;34m\u001b[0m\u001b[0;34m\u001b[0m\u001b[0m\n\u001b[0;32m----> 2\u001b[0;31m \u001b[0mplt\u001b[0m\u001b[0;34m.\u001b[0m\u001b[0mscatter\u001b[0m\u001b[0;34m(\u001b[0m\u001b[0mproj\u001b[0m\u001b[0;34m[\u001b[0m\u001b[0;34m:\u001b[0m\u001b[0;34m,\u001b[0m \u001b[0;36m0\u001b[0m\u001b[0;34m]\u001b[0m\u001b[0;34m,\u001b[0m \u001b[0mproj\u001b[0m\u001b[0;34m[\u001b[0m\u001b[0;34m:\u001b[0m\u001b[0;34m,\u001b[0m \u001b[0;36m1\u001b[0m\u001b[0;34m]\u001b[0m\u001b[0;34m,\u001b[0m \u001b[0mc\u001b[0m \u001b[0;34m=\u001b[0m \u001b[0my\u001b[0m\u001b[0;34m)\u001b[0m\u001b[0;34m\u001b[0m\u001b[0;34m\u001b[0m\u001b[0m\n\u001b[0m\u001b[1;32m      3\u001b[0m \u001b[0;34m\u001b[0m\u001b[0m\n\u001b[1;32m      4\u001b[0m \u001b[0mplt\u001b[0m\u001b[0;34m.\u001b[0m\u001b[0mxlabel\u001b[0m\u001b[0;34m(\u001b[0m\u001b[0;34m'First Principal Component'\u001b[0m\u001b[0;34m)\u001b[0m\u001b[0;34m\u001b[0m\u001b[0;34m\u001b[0m\u001b[0m\n\u001b[1;32m      5\u001b[0m \u001b[0mplt\u001b[0m\u001b[0;34m.\u001b[0m\u001b[0mylabel\u001b[0m\u001b[0;34m(\u001b[0m\u001b[0;34m'Second Principal Component'\u001b[0m\u001b[0;34m)\u001b[0m\u001b[0;34m\u001b[0m\u001b[0;34m\u001b[0m\u001b[0m\n",
            "\u001b[0;32m/usr/local/lib/python3.6/dist-packages/matplotlib/pyplot.py\u001b[0m in \u001b[0;36mscatter\u001b[0;34m(x, y, s, c, marker, cmap, norm, vmin, vmax, alpha, linewidths, verts, edgecolors, plotnonfinite, data, **kwargs)\u001b[0m\n\u001b[1;32m   2814\u001b[0m         \u001b[0mverts\u001b[0m\u001b[0;34m=\u001b[0m\u001b[0mverts\u001b[0m\u001b[0;34m,\u001b[0m \u001b[0medgecolors\u001b[0m\u001b[0;34m=\u001b[0m\u001b[0medgecolors\u001b[0m\u001b[0;34m,\u001b[0m\u001b[0;34m\u001b[0m\u001b[0;34m\u001b[0m\u001b[0m\n\u001b[1;32m   2815\u001b[0m         plotnonfinite=plotnonfinite, **({\"data\": data} if data is not\n\u001b[0;32m-> 2816\u001b[0;31m         None else {}), **kwargs)\n\u001b[0m\u001b[1;32m   2817\u001b[0m     \u001b[0msci\u001b[0m\u001b[0;34m(\u001b[0m\u001b[0m__ret\u001b[0m\u001b[0;34m)\u001b[0m\u001b[0;34m\u001b[0m\u001b[0;34m\u001b[0m\u001b[0m\n\u001b[1;32m   2818\u001b[0m     \u001b[0;32mreturn\u001b[0m \u001b[0m__ret\u001b[0m\u001b[0;34m\u001b[0m\u001b[0;34m\u001b[0m\u001b[0m\n",
            "\u001b[0;32m/usr/local/lib/python3.6/dist-packages/matplotlib/__init__.py\u001b[0m in \u001b[0;36minner\u001b[0;34m(ax, data, *args, **kwargs)\u001b[0m\n\u001b[1;32m   1563\u001b[0m     \u001b[0;32mdef\u001b[0m \u001b[0minner\u001b[0m\u001b[0;34m(\u001b[0m\u001b[0max\u001b[0m\u001b[0;34m,\u001b[0m \u001b[0;34m*\u001b[0m\u001b[0margs\u001b[0m\u001b[0;34m,\u001b[0m \u001b[0mdata\u001b[0m\u001b[0;34m=\u001b[0m\u001b[0;32mNone\u001b[0m\u001b[0;34m,\u001b[0m \u001b[0;34m**\u001b[0m\u001b[0mkwargs\u001b[0m\u001b[0;34m)\u001b[0m\u001b[0;34m:\u001b[0m\u001b[0;34m\u001b[0m\u001b[0;34m\u001b[0m\u001b[0m\n\u001b[1;32m   1564\u001b[0m         \u001b[0;32mif\u001b[0m \u001b[0mdata\u001b[0m \u001b[0;32mis\u001b[0m \u001b[0;32mNone\u001b[0m\u001b[0;34m:\u001b[0m\u001b[0;34m\u001b[0m\u001b[0;34m\u001b[0m\u001b[0m\n\u001b[0;32m-> 1565\u001b[0;31m             \u001b[0;32mreturn\u001b[0m \u001b[0mfunc\u001b[0m\u001b[0;34m(\u001b[0m\u001b[0max\u001b[0m\u001b[0;34m,\u001b[0m \u001b[0;34m*\u001b[0m\u001b[0mmap\u001b[0m\u001b[0;34m(\u001b[0m\u001b[0msanitize_sequence\u001b[0m\u001b[0;34m,\u001b[0m \u001b[0margs\u001b[0m\u001b[0;34m)\u001b[0m\u001b[0;34m,\u001b[0m \u001b[0;34m**\u001b[0m\u001b[0mkwargs\u001b[0m\u001b[0;34m)\u001b[0m\u001b[0;34m\u001b[0m\u001b[0;34m\u001b[0m\u001b[0m\n\u001b[0m\u001b[1;32m   1566\u001b[0m \u001b[0;34m\u001b[0m\u001b[0m\n\u001b[1;32m   1567\u001b[0m         \u001b[0mbound\u001b[0m \u001b[0;34m=\u001b[0m \u001b[0mnew_sig\u001b[0m\u001b[0;34m.\u001b[0m\u001b[0mbind\u001b[0m\u001b[0;34m(\u001b[0m\u001b[0max\u001b[0m\u001b[0;34m,\u001b[0m \u001b[0;34m*\u001b[0m\u001b[0margs\u001b[0m\u001b[0;34m,\u001b[0m \u001b[0;34m**\u001b[0m\u001b[0mkwargs\u001b[0m\u001b[0;34m)\u001b[0m\u001b[0;34m\u001b[0m\u001b[0;34m\u001b[0m\u001b[0m\n",
            "\u001b[0;32m/usr/local/lib/python3.6/dist-packages/matplotlib/cbook/deprecation.py\u001b[0m in \u001b[0;36mwrapper\u001b[0;34m(*args, **kwargs)\u001b[0m\n\u001b[1;32m    356\u001b[0m                 \u001b[0;34mf\"%(removal)s.  If any parameter follows {name!r}, they \"\u001b[0m\u001b[0;34m\u001b[0m\u001b[0;34m\u001b[0m\u001b[0m\n\u001b[1;32m    357\u001b[0m                 f\"should be pass as keyword, not positionally.\")\n\u001b[0;32m--> 358\u001b[0;31m         \u001b[0;32mreturn\u001b[0m \u001b[0mfunc\u001b[0m\u001b[0;34m(\u001b[0m\u001b[0;34m*\u001b[0m\u001b[0margs\u001b[0m\u001b[0;34m,\u001b[0m \u001b[0;34m**\u001b[0m\u001b[0mkwargs\u001b[0m\u001b[0;34m)\u001b[0m\u001b[0;34m\u001b[0m\u001b[0;34m\u001b[0m\u001b[0m\n\u001b[0m\u001b[1;32m    359\u001b[0m \u001b[0;34m\u001b[0m\u001b[0m\n\u001b[1;32m    360\u001b[0m     \u001b[0;32mreturn\u001b[0m \u001b[0mwrapper\u001b[0m\u001b[0;34m\u001b[0m\u001b[0;34m\u001b[0m\u001b[0m\n",
            "\u001b[0;32m/usr/local/lib/python3.6/dist-packages/matplotlib/axes/_axes.py\u001b[0m in \u001b[0;36mscatter\u001b[0;34m(self, x, y, s, c, marker, cmap, norm, vmin, vmax, alpha, linewidths, verts, edgecolors, plotnonfinite, **kwargs)\u001b[0m\n\u001b[1;32m   4401\u001b[0m             self._parse_scatter_color_args(\n\u001b[1;32m   4402\u001b[0m                 \u001b[0mc\u001b[0m\u001b[0;34m,\u001b[0m \u001b[0medgecolors\u001b[0m\u001b[0;34m,\u001b[0m \u001b[0mkwargs\u001b[0m\u001b[0;34m,\u001b[0m \u001b[0mx\u001b[0m\u001b[0;34m.\u001b[0m\u001b[0msize\u001b[0m\u001b[0;34m,\u001b[0m\u001b[0;34m\u001b[0m\u001b[0;34m\u001b[0m\u001b[0m\n\u001b[0;32m-> 4403\u001b[0;31m                 get_next_color_func=self._get_patches_for_fill.get_next_color)\n\u001b[0m\u001b[1;32m   4404\u001b[0m \u001b[0;34m\u001b[0m\u001b[0m\n\u001b[1;32m   4405\u001b[0m         \u001b[0;32mif\u001b[0m \u001b[0mplotnonfinite\u001b[0m \u001b[0;32mand\u001b[0m \u001b[0mcolors\u001b[0m \u001b[0;32mis\u001b[0m \u001b[0;32mNone\u001b[0m\u001b[0;34m:\u001b[0m\u001b[0;34m\u001b[0m\u001b[0;34m\u001b[0m\u001b[0m\n",
            "\u001b[0;32m/usr/local/lib/python3.6/dist-packages/matplotlib/axes/_axes.py\u001b[0m in \u001b[0;36m_parse_scatter_color_args\u001b[0;34m(c, edgecolors, kwargs, xsize, get_next_color_func)\u001b[0m\n\u001b[1;32m   4244\u001b[0m                 \u001b[0;31m# severe failure => one may appreciate a verbose feedback.\u001b[0m\u001b[0;34m\u001b[0m\u001b[0;34m\u001b[0m\u001b[0;34m\u001b[0m\u001b[0m\n\u001b[1;32m   4245\u001b[0m                 raise ValueError(\n\u001b[0;32m-> 4246\u001b[0;31m                     \u001b[0;34mf\"'c' argument must be a color, a sequence of colors, or \"\u001b[0m\u001b[0;34m\u001b[0m\u001b[0;34m\u001b[0m\u001b[0m\n\u001b[0m\u001b[1;32m   4247\u001b[0m                     f\"a sequence of numbers, not {c}\")\n\u001b[1;32m   4248\u001b[0m             \u001b[0;32melse\u001b[0m\u001b[0;34m:\u001b[0m\u001b[0;34m\u001b[0m\u001b[0;34m\u001b[0m\u001b[0m\n",
            "\u001b[0;31mValueError\u001b[0m: 'c' argument must be a color, a sequence of colors, or a sequence of numbers, not ['Cargo' 'Tanker' 'Tanker' 'Tanker' 'Tanker' 'Tanker' 'Cargo' 'Cargo'\n 'Cargo' 'Tanker' 'Tanker' 'Tanker' 'Cargo' 'Cargo' 'Cargo' 'Cargo'\n 'Tanker' 'Tanker' 'Cargo' 'Tug' 'Cargo' 'Cargo' 'Cargo' 'Cargo' 'Cargo'\n 'Cargo' 'Cargo' 'Cargo' 'Cargo' 'Tanker' 'Cargo' 'Cargo' 'Tanker'\n 'Tanker' 'Cargo' 'Tanker' 'Tanker' 'Tug' 'Cargo' 'Cargo' 'Cargo' 'Cargo'\n 'Tanker' 'Cargo' 'Cargo' 'Tug' 'Cargo' 'Cargo' 'Tug' 'Cargo' 'Cargo'\n 'Tanker' 'Cargo' 'Cargo' 'Tanker' 'Tanker' 'Cargo' 'Tanker' 'Tanker'\n 'Tanker' 'Tanker' 'Tanker' 'Tanker' 'Tanker' 'Tanker' 'Tanker' 'Tanker'\n 'Tanker' 'Tanker' 'Tanker' 'Cargo' 'Tanker' 'Tanker' 'Tanker' 'Tanker'\n 'Tanker' 'Tanker' 'Tanker' 'Cargo' 'Cargo' 'Tanker' 'Tug' 'Tug' 'Tanker'\n 'Cargo' 'Tug' 'Tug' 'Cargo' 'Cargo' 'Cargo' 'Cargo' 'Tanker' 'Tanker'\n 'Tanker' 'Tanker' 'Tanker' 'Tanker' 'Tanker' 'Tanker' 'Cargo' 'Cargo'\n 'Tanker' 'Cargo' 'Tanker' 'Tanker' 'Tanker' 'Tanker' 'Cargo' 'Cargo'\n 'Tug' 'Cargo' 'Cargo' 'Cargo' 'Cargo' 'Cargo' 'Cargo' 'Cargo' 'Cargo'\n 'Cargo' 'Cargo' 'Cargo' 'Cargo' 'Cargo' 'Cargo' 'Cargo' 'Cargo' 'Cargo'\n 'Cargo' 'Cargo' 'Tanker' 'Tanker' 'Tanker' 'Tanker' 'Cargo']"
          ]
        },
        {
          "output_type": "display_data",
          "data": {
            "image/png": "[encoded data removed]",
            "text/plain": [
              "<Figure size 432x288 with 1 Axes>"
            ]
          },
          "metadata": {
            "tags": [],
            "needs_background": "light"
          }
        }
      ]
    },
    {
      "cell_type": "code",
      "metadata": {
        "id": "jMaqA9CZENai"
      },
      "source": [
        "\n",
        "# show the two graphs side by side using subplot\n",
        "plt.figure(figsize=(8,4),dpi=200)\n",
        "\n",
        "plt.subplot(1,2,1)\n",
        "#sns.scatterplot(x='First Principal Component',Y='Second Principal Component', c=temp, hue= None)\n",
        "\n",
        "plt.scatter(proj[:, 0], proj[:, 1], c = temp)\n",
        "\n",
        "plt.xlabel('First Principal Component')\n",
        "plt.ylabel('Second Principal Component')\n",
        "plt.title(\"PCA Scatter Plot for cluster Distribution\")\n",
        "\n",
        "plt.subplot(1,2,2)\n",
        "#sns.scatterplot(x='First Principal Component',Y='Second Principal Component',c=y, hue= None)\n",
        "\n",
        "plt.scatter(proj[:, 0], proj[:, 1], c = y)\n",
        "\n",
        "plt.xlabel('First Principal Component')\n",
        "plt.ylabel('Second Principal Component')\n",
        "plt.title(\"PCA Scatter Plot based on the true class labels\")\n"
      ],
      "execution_count": null,
      "outputs": []
    },
    {
      "cell_type": "code",
      "metadata": {
        "id": "1315Z_LAJ5sk"
      },
      "source": [
        "# compute the adjusted rand score using the true labels and the labels predicted by clustering algorithm.\n",
        "\n",
        "from sklearn.metrics.cluster import adjusted_rand_score"
      ],
      "execution_count": null,
      "outputs": []
    },
    {
      "cell_type": "markdown",
      "metadata": {
        "id": "307Klx9FeQfa"
      },
      "source": [
        "### Part 4: Plot the dendrogram\n",
        "\n",
        " - As a last step, plot a dendrogram of the clustering to visualize the merging process.\n",
        " - For this you will need a linkage matrix - while you can extract one from the AgglomerativeClustering model, it is much easier to use the scipy implementation (scipy.cluster.hierarchy.linkage).\n",
        " - Compute the linkage matrix using Ward's method, and plot the dendrogram (using scipy.cluster.hierarchy.dendrogram). Truncate the dendrogram so that three levels of the dendrogram tree are visible for better readability.\n",
        " - Consult the course material. How do you interpret the dendrogram?"
      ]
    },
    {
      "cell_type": "code",
      "metadata": {
        "colab": {
          "base_uri": "https://localhost:8080/",
          "height": 298
        },
        "id": "YKBNkEkFRYiY",
        "outputId": "a84f7c9b-65ae-47c8-8d22-2976d35a633f"
      },
      "source": [
        "#  ploting the dendrogram\n",
        "\n",
        "from scipy.cluster.hierarchy import dendrogram, linkage\n",
        "\n",
        "def plot_dendrogram(model, **kwargs):\n",
        "    # Create linkage matrix and then plot the dendrogram\n",
        "\n",
        "    # create the counts of samples under each node\n",
        "    counts = np.zeros(model.children_.shape[0])\n",
        "    n_samples = len(model.labels_)\n",
        "    for i, merge in enumerate(model.children_):\n",
        "        current_count = 0\n",
        "        for child_idx in merge:\n",
        "            if child_idx < n_samples:\n",
        "                current_count += 1  # leaf node\n",
        "            else:\n",
        "                current_count += counts[child_idx - n_samples]\n",
        "        counts[i] = current_count\n",
        "\n",
        "    linkage_matrix = np.column_stack([model.children_, model.distances_,\n",
        "                                      counts]).astype(float)\n",
        "\n",
        "    # Plot the corresponding dendrogram\n",
        "    dendrogram(linkage_matrix, **kwargs)\n",
        "\n",
        "# setting distance_threshold=0 ensures we compute the full tree.\n",
        "model = AgglomerativeClustering(distance_threshold=0, n_clusters=None)\n",
        "\n",
        "model = model.fit(X_arr_zscore)\n",
        "plt.title('Hierarchical Clustering Dendrogram')\n",
        "# plot the top three levels of the dendrogram\n",
        "plot_dendrogram(model, truncate_mode='level', p=3)\n",
        "plt.xlabel(\"Number of points in node (or index of point if no parenthesis).\")\n",
        "plt.show()"
      ],
      "execution_count": null,
      "outputs": [
        {
          "output_type": "display_data",
          "data": {
            "image/png": "[encoded data removed]",
            "text/plain": [
              "<Figure size 432x288 with 1 Axes>"
            ]
          },
          "metadata": {
            "tags": [],
            "needs_background": "light"
          }
        }
      ]
    },
    {
      "cell_type": "markdown",
      "metadata": {
        "id": "C__DL35hWZen"
      },
      "source": [
        "The Dendrogram is a tree showing the order and distances of merges during the hierarchical clustering.\n",
        "\n",
        "The algorithm starts by finding the two points that are closest to each other on the basis of Euclidean distance. From the graph it can be seen that the dendograms have been created joining points 2 with 4, and 17 with 46, 6 with 31. The vertical height of the dendogram shows the Euclidean distances between points. From Graph2, it can be seen that Euclidean distance between points 6 and 31 is greater than the distance between point 2 and 4."
      ]
    },
    {
      "cell_type": "markdown",
      "metadata": {
        "id": "YzRAnXyPeQfc"
      },
      "source": [
        "### Part 5: Optional bonus task \n",
        "\n",
        " - In this exercise you have used agglomerative hierarchical clustering to find patterns in the data. K-means clustering is another important method of unsupervised learning with many applications.\n",
        " - Write your own simple implementation of naive k-means clustering algorithm and use it to find patterns in the data as in part 3. Plot the result and print the rand score as in part 3.\n",
        " - As this is a relatively difficult task, a perfect implementation is not expected nor required for the bonus point.\n",
        " - Remember to comment the code extensively! (Bonus point will not be awarded for uncommented solution)"
      ]
    },
    {
      "cell_type": "code",
      "metadata": {
        "id": "qDPGnc-eeQfc"
      },
      "source": [
        "# write code here, feel free to add more code cells as needed."
      ],
      "execution_count": null,
      "outputs": []
    },
    {
      "cell_type": "markdown",
      "metadata": {
        "id": "oABMqGRUaMrl"
      },
      "source": [
        "**Refences**\n",
        "\n",
        "1. https://www.kaggle.com/ankandash/pca-k-means-clustering-hierarchical-clustering.\n",
        "\n",
        "2. https://medium.com/@dmitriy.kavyazin/principal-component-analysis-and-k-means-clustering-to-visualize-a-high-dimensional-dataset-577b2a7a5fe2.\n",
        "\n",
        "3. https://stackabuse.com/hierarchical-clustering-with-python-and-scikit-learn/\n",
        "\n",
        "4. https://joernhees.de/blog/2015/08/26/scipy-hierarchical-clustering-and-dendrogram-tutorial/\n",
        "\n",
        "5. https://aggieanil.wordpress.com/2017/08/23/machine-learning-ii-unsupervised-machine-learning-clustering-and-principal-component-analysis/\n",
        "\n",
        "6. https://scikit-learn.org/stable/auto_examples/cluster/plot_agglomerative_dendrogram.html#sphx-glr-download-auto-examples-cluster-plot-agglomerative-dendrogram-py\n",
        "\n",
        "7. https://scikit-learn.org/stable/modules/generated/sklearn.cluster.AgglomerativeClustering.html\n",
        "\n",
        "8. https://scikit-learn.org/stable/auto_examples/decomposition/plot_pca_vs_lda.html\n",
        "\n",
        "9. https://scikit-learn.org/stable/modules/generated/sklearn.metrics.silhouette_score.html?highlight=silhouette_score#sklearn.metrics.silhouette_score\n",
        "\n",
        "10. https://scikit-learn.org/stable/modules/generated/sklearn.metrics.adjusted_rand_score.html\n"
      ]
    }
  ]
}