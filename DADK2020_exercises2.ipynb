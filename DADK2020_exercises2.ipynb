{
  "nbformat": 4,
  "nbformat_minor": 0,
  "metadata": {
    "kernelspec": {
      "display_name": "Python 3",
      "language": "python",
      "name": "python3"
    },
    "language_info": {
      "codemirror_mode": {
        "name": "ipython",
        "version": 3
      },
      "file_extension": ".py",
      "mimetype": "text/x-python",
      "name": "python",
      "nbconvert_exporter": "python",
      "pygments_lexer": "ipython3",
      "version": "3.8.3"
    },
    "toc": {
      "base_numbering": 1,
      "nav_menu": {
        "height": "180px",
        "width": "160px"
      },
      "number_sections": false,
      "sideBar": true,
      "skip_h1_title": true,
      "title_cell": "Table of Contents",
      "title_sidebar": "Contents",
      "toc_cell": false,
      "toc_position": {},
      "toc_section_display": true,
      "toc_window_display": true
    },
    "colab": {
      "name": "DADK2020_exercises2.ipynb",
      "provenance": [],
      "collapsed_sections": [
        "Mw_fK2lMKTuN"
      ],
      "include_colab_link": true
    }
  },
  "cells": [
    {
      "cell_type": "markdown",
      "metadata": {
        "id": "view-in-github",
        "colab_type": "text"
      },
      "source": [
        "<a href=\"https://colab.research.google.com/github/dona-nice/Data-Analysis_UTU/blob/main/DADK2020_exercises2.ipynb\" target=\"_parent\"><img src=\"https://colab.research.google.com/assets/colab-badge.svg\" alt=\"Open In Colab\"/></a>"
      ]
    },
    {
      "cell_type": "markdown",
      "metadata": {
        "id": "8yG1IiKhKTsp"
      },
      "source": [
        "Donatus I. Edeh <br>\n",
        "student number 523299 <br>\n",
        "diedeh@utu.fi  <br>\n",
        "MonthNovember, 14, 2020  <br>"
      ]
    },
    {
      "cell_type": "markdown",
      "metadata": {
        "id": "rxklbJc0KTsu"
      },
      "source": [
        "# Data Analysis and Knowledge Discovery: Exercise 2, Data Understanding and Visualization"
      ]
    },
    {
      "cell_type": "code",
      "metadata": {
        "id": "yq__Ro07KTsx"
      },
      "source": [
        "# Libraries\n",
        "import pandas as pd\n",
        "import numpy as np\n",
        "import matplotlib.pyplot as plt\n",
        "import seaborn as sns\n",
        "from sklearn.decomposition import PCA\n",
        "\n",
        "# Show the plots inline in the notebook\n",
        "%matplotlib inline"
      ],
      "execution_count": null,
      "outputs": []
    },
    {
      "cell_type": "markdown",
      "metadata": {
        "id": "lxpwEEs8KTs3"
      },
      "source": [
        "## 1. Know your data, a quick dive into domain knowledge"
      ]
    },
    {
      "cell_type": "markdown",
      "metadata": {
        "id": "FJsGJv-QKTs4"
      },
      "source": [
        "The data used in this exercise is a subset from the Marine Traffic portal. More information available for example here:\n",
        "- https://www.marinetraffic.com/blog/information-transmitted-via-ais-signal/\n",
        "- https://www.diva-portal.org/smash/get/diva2:833998/FULLTEXT01.pdf\n",
        "- https://www.marinetraffic.com/en/data/\n"
      ]
    },
    {
      "cell_type": "markdown",
      "metadata": {
        "id": "jvmGm814KTs4"
      },
      "source": [
        "Exercise data columns/attributes:\n",
        "- MMSI\n",
        "    * ?\n",
        "- Speed\n",
        "    * The speed (in knots x10) that the subject vessel is reporting according to AIS transmissions\n",
        "- COG\n",
        "    * Course Over Ground<br> COG=3600 means “not available”\n",
        "- Destination\n",
        "    * The Destination of the subject vessel according to the AIS transmissions\n",
        "- Ship_type\n",
        "    * The Shiptype of the subject vessel according to AIS transmissions -\n",
        "- Gross_tonnage\n",
        "    * unitless measure that calculates the moulded volume of all enclosed spaces of a ship\n",
        "- Length\n",
        "    * The overall Length (in metres) of the subject vessel\n",
        "- Breadth\n",
        "    * The Breadth (in metres) of the subject vessel"
      ]
    },
    {
      "cell_type": "markdown",
      "metadata": {
        "id": "8tszi7_mOFfX"
      },
      "source": [
        ""
      ]
    },
    {
      "cell_type": "code",
      "metadata": {
        "id": "vrEjTU6EOuW9"
      },
      "source": [
        ""
      ],
      "execution_count": null,
      "outputs": []
    },
    {
      "cell_type": "markdown",
      "metadata": {
        "id": "DZwqNFbnKTs5"
      },
      "source": [
        "### Questions (add your answer below each question):"
      ]
    },
    {
      "cell_type": "markdown",
      "metadata": {
        "id": "yDKzFpTrKTs6"
      },
      "source": [
        "#### a) What does the column/feature MMSI represent, how unique is it and when is it updated?\n",
        "- MMSI means Maritime Mobile Service Identity, It identifies the owner of a ship, and is updated when ever there is a change of ownership."
      ]
    },
    {
      "cell_type": "markdown",
      "metadata": {
        "id": "mCQYzAUHKTs6"
      },
      "source": [
        "#### b) Out of the exercise data attributes, mention two examples of dynamic (updated more frequently, automatically or manually) and static (set on installation and updated only when ship ownership changes) data collected.<br>\n",
        "Dynamic:\n",
        "1. Course over ground (COG)\n",
        "2. Speed over ground (SOG)\n",
        "\n",
        "Static:\n",
        "1. MMSI (Maritime Mobile Service Identity)\n",
        "2. Ship type"
      ]
    },
    {
      "cell_type": "markdown",
      "metadata": {
        "id": "e7xw68YbKTs7"
      },
      "source": [
        "#### c) Which information is/has been manually updated?<br>\n",
        "1. Navigational status\n",
        "2. Ship’s draught\n",
        "3. Hazardous cargo (type)\n",
        "4. Destination and ETA\n",
        "5. oute plan (waypoints)"
      ]
    },
    {
      "cell_type": "markdown",
      "metadata": {
        "id": "wW69TiwnKTs8"
      },
      "source": [
        "#### d) For the vessel with the MMSI of 538002778, search for gross tonnage, length and breadth.<br>\n",
        "Her gross tonnage is 30641, Carrying capacity is 52620 t DWT and her current draught is reported to be 11.5 meters. Her length overall (LOA) is 195 meters and her width is 32.24 meters."
      ]
    },
    {
      "cell_type": "markdown",
      "metadata": {
        "id": "BvmPmcEPKTs8"
      },
      "source": [
        "## 2. Data import"
      ]
    },
    {
      "cell_type": "markdown",
      "metadata": {
        "id": "qrimOPZ1KTs9"
      },
      "source": [
        "#### a) First upload datafiles shipdata1.csv and shipdata2.csv using pandas.\n",
        "Note! Files were prepared by two different persons, so there are differences in the file formatting, starting from columns separator.<br>\n",
        "\n",
        "Read data from the open data source directly using the link. Use the url to obtain the data, not a local copy of the file.<br>\n",
        "\n",
        "- https://raw.githubusercontent.com/elmasyr/dadk/main/shipdata1_2020.csv\n",
        "- https://raw.githubusercontent.com/elmasyr/dadk/main/shipdata2_2020.csv"
      ]
    },
    {
      "cell_type": "markdown",
      "metadata": {
        "id": "TMuup3aOKTs-"
      },
      "source": [
        "#### b) Print/show in notebook first 5 rows of both dataframes. "
      ]
    },
    {
      "cell_type": "code",
      "metadata": {
        "id": "GNDhEyURKTs-",
        "colab": {
          "base_uri": "https://localhost:8080/",
          "height": 419
        },
        "outputId": "ea8dfc59-7309-40c8-cb3e-dfb619574fa2"
      },
      "source": [
        "# Load shipdata1.csv from the url1 ...\n",
        "url = 'https://raw.githubusercontent.com/elmasyr/dadk/main/shipdata1_2020.csv'\n",
        "#column_names = ['MMSI','Speed','COG','Destination','Ship_type','Gross_tonnage','Length','Breadth']\n",
        "pd.read_csv(url, delimiter=',')\n",
        "#names = column_names)\n"
      ],
      "execution_count": null,
      "outputs": [
        {
          "output_type": "execute_result",
          "data": {
            "text/html": [
              "<div>\n",
              "<style scoped>\n",
              "    .dataframe tbody tr th:only-of-type {\n",
              "        vertical-align: middle;\n",
              "    }\n",
              "\n",
              "    .dataframe tbody tr th {\n",
              "        vertical-align: top;\n",
              "    }\n",
              "\n",
              "    .dataframe thead th {\n",
              "        text-align: right;\n",
              "    }\n",
              "</style>\n",
              "<table border=\"1\" class=\"dataframe\">\n",
              "  <thead>\n",
              "    <tr style=\"text-align: right;\">\n",
              "      <th></th>\n",
              "      <th>MMSI</th>\n",
              "      <th>Speed</th>\n",
              "      <th>COG</th>\n",
              "      <th>Destination</th>\n",
              "      <th>Ship_type</th>\n",
              "      <th>Gross_tonnage</th>\n",
              "      <th>Length</th>\n",
              "      <th>Breadth</th>\n",
              "    </tr>\n",
              "  </thead>\n",
              "  <tbody>\n",
              "    <tr>\n",
              "      <th>0</th>\n",
              "      <td>212209000</td>\n",
              "      <td>10.1000</td>\n",
              "      <td>64.3000</td>\n",
              "      <td>Hamina</td>\n",
              "      <td>Cargo</td>\n",
              "      <td>3416</td>\n",
              "      <td>94.9</td>\n",
              "      <td>15.30</td>\n",
              "    </tr>\n",
              "    <tr>\n",
              "      <th>1</th>\n",
              "      <td>212436000</td>\n",
              "      <td>13.5256</td>\n",
              "      <td>77.0755</td>\n",
              "      <td>Hamina</td>\n",
              "      <td>Tanker</td>\n",
              "      <td>6280</td>\n",
              "      <td>116.9</td>\n",
              "      <td>18.00</td>\n",
              "    </tr>\n",
              "    <tr>\n",
              "      <th>2</th>\n",
              "      <td>219082000</td>\n",
              "      <td>9.9000</td>\n",
              "      <td>74.7000</td>\n",
              "      <td>Hamina</td>\n",
              "      <td>Tanker</td>\n",
              "      <td>9980</td>\n",
              "      <td>141.2</td>\n",
              "      <td>21.90</td>\n",
              "    </tr>\n",
              "    <tr>\n",
              "      <th>3</th>\n",
              "      <td>219083000</td>\n",
              "      <td>11.6038</td>\n",
              "      <td>74.8000</td>\n",
              "      <td>Hamina</td>\n",
              "      <td>Tanker</td>\n",
              "      <td>9980</td>\n",
              "      <td>141.2</td>\n",
              "      <td>21.60</td>\n",
              "    </tr>\n",
              "    <tr>\n",
              "      <th>4</th>\n",
              "      <td>219426000</td>\n",
              "      <td>11.9203</td>\n",
              "      <td>56.3253</td>\n",
              "      <td>Hamina</td>\n",
              "      <td>Tanker</td>\n",
              "      <td>3219</td>\n",
              "      <td>99.9</td>\n",
              "      <td>15.00</td>\n",
              "    </tr>\n",
              "    <tr>\n",
              "      <th>...</th>\n",
              "      <td>...</td>\n",
              "      <td>...</td>\n",
              "      <td>...</td>\n",
              "      <td>...</td>\n",
              "      <td>...</td>\n",
              "      <td>...</td>\n",
              "      <td>...</td>\n",
              "      <td>...</td>\n",
              "    </tr>\n",
              "    <tr>\n",
              "      <th>64</th>\n",
              "      <td>259768000</td>\n",
              "      <td>11.8492</td>\n",
              "      <td>80.3430</td>\n",
              "      <td>Porvoo</td>\n",
              "      <td>Tanker</td>\n",
              "      <td>11935</td>\n",
              "      <td>144.1</td>\n",
              "      <td>23.20</td>\n",
              "    </tr>\n",
              "    <tr>\n",
              "      <th>65</th>\n",
              "      <td>538002774</td>\n",
              "      <td>11.5935</td>\n",
              "      <td>67.3823</td>\n",
              "      <td>Porvoo</td>\n",
              "      <td>Tanker</td>\n",
              "      <td>30641</td>\n",
              "      <td>195.0</td>\n",
              "      <td>32.20</td>\n",
              "    </tr>\n",
              "    <tr>\n",
              "      <th>66</th>\n",
              "      <td>538002778</td>\n",
              "      <td>11.3631</td>\n",
              "      <td>74.6552</td>\n",
              "      <td>Porvoo</td>\n",
              "      <td>Tanker</td>\n",
              "      <td>30641</td>\n",
              "      <td>195.0</td>\n",
              "      <td>32.24</td>\n",
              "    </tr>\n",
              "    <tr>\n",
              "      <th>67</th>\n",
              "      <td>636016683</td>\n",
              "      <td>10.9000</td>\n",
              "      <td>75.4000</td>\n",
              "      <td>Porvoo</td>\n",
              "      <td>Tanker</td>\n",
              "      <td>5440</td>\n",
              "      <td>108.0</td>\n",
              "      <td>16.80</td>\n",
              "    </tr>\n",
              "    <tr>\n",
              "      <th>68</th>\n",
              "      <td>636016752</td>\n",
              "      <td>11.7000</td>\n",
              "      <td>74.6000</td>\n",
              "      <td>Porvoo</td>\n",
              "      <td>Tanker</td>\n",
              "      <td>3853</td>\n",
              "      <td>92.9</td>\n",
              "      <td>15.30</td>\n",
              "    </tr>\n",
              "  </tbody>\n",
              "</table>\n",
              "<p>69 rows × 8 columns</p>\n",
              "</div>"
            ],
            "text/plain": [
              "         MMSI    Speed      COG  ... Gross_tonnage Length  Breadth\n",
              "0   212209000  10.1000  64.3000  ...          3416   94.9    15.30\n",
              "1   212436000  13.5256  77.0755  ...          6280  116.9    18.00\n",
              "2   219082000   9.9000  74.7000  ...          9980  141.2    21.90\n",
              "3   219083000  11.6038  74.8000  ...          9980  141.2    21.60\n",
              "4   219426000  11.9203  56.3253  ...          3219   99.9    15.00\n",
              "..        ...      ...      ...  ...           ...    ...      ...\n",
              "64  259768000  11.8492  80.3430  ...         11935  144.1    23.20\n",
              "65  538002774  11.5935  67.3823  ...         30641  195.0    32.20\n",
              "66  538002778  11.3631  74.6552  ...         30641  195.0    32.24\n",
              "67  636016683  10.9000  75.4000  ...          5440  108.0    16.80\n",
              "68  636016752  11.7000  74.6000  ...          3853   92.9    15.30\n",
              "\n",
              "[69 rows x 8 columns]"
            ]
          },
          "metadata": {
            "tags": []
          },
          "execution_count": 2
        }
      ]
    },
    {
      "cell_type": "code",
      "metadata": {
        "colab": {
          "base_uri": "https://localhost:8080/",
          "height": 204
        },
        "id": "NLBTHEbu259u",
        "outputId": "7abe45e5-f274-4e20-b835-785b97cfe7ea"
      },
      "source": [
        "#Put into Pandas dataframe\n",
        "\n",
        "shipdata1 = pd.read_csv('https://raw.githubusercontent.com/elmasyr/dadk/main/shipdata1_2020.csv', delimiter=',')\n",
        "#column_names = ['MMSI','Speed','COG','Destination','Ship_type','Gross_tonnage','Length','Breadth']\n",
        "\n",
        "shipdata1.head()"
      ],
      "execution_count": null,
      "outputs": [
        {
          "output_type": "execute_result",
          "data": {
            "text/html": [
              "<div>\n",
              "<style scoped>\n",
              "    .dataframe tbody tr th:only-of-type {\n",
              "        vertical-align: middle;\n",
              "    }\n",
              "\n",
              "    .dataframe tbody tr th {\n",
              "        vertical-align: top;\n",
              "    }\n",
              "\n",
              "    .dataframe thead th {\n",
              "        text-align: right;\n",
              "    }\n",
              "</style>\n",
              "<table border=\"1\" class=\"dataframe\">\n",
              "  <thead>\n",
              "    <tr style=\"text-align: right;\">\n",
              "      <th></th>\n",
              "      <th>MMSI</th>\n",
              "      <th>Speed</th>\n",
              "      <th>COG</th>\n",
              "      <th>Destination</th>\n",
              "      <th>Ship_type</th>\n",
              "      <th>Gross_tonnage</th>\n",
              "      <th>Length</th>\n",
              "      <th>Breadth</th>\n",
              "    </tr>\n",
              "  </thead>\n",
              "  <tbody>\n",
              "    <tr>\n",
              "      <th>0</th>\n",
              "      <td>212209000</td>\n",
              "      <td>10.1000</td>\n",
              "      <td>64.3000</td>\n",
              "      <td>Hamina</td>\n",
              "      <td>Cargo</td>\n",
              "      <td>3416</td>\n",
              "      <td>94.9</td>\n",
              "      <td>15.3</td>\n",
              "    </tr>\n",
              "    <tr>\n",
              "      <th>1</th>\n",
              "      <td>212436000</td>\n",
              "      <td>13.5256</td>\n",
              "      <td>77.0755</td>\n",
              "      <td>Hamina</td>\n",
              "      <td>Tanker</td>\n",
              "      <td>6280</td>\n",
              "      <td>116.9</td>\n",
              "      <td>18.0</td>\n",
              "    </tr>\n",
              "    <tr>\n",
              "      <th>2</th>\n",
              "      <td>219082000</td>\n",
              "      <td>9.9000</td>\n",
              "      <td>74.7000</td>\n",
              "      <td>Hamina</td>\n",
              "      <td>Tanker</td>\n",
              "      <td>9980</td>\n",
              "      <td>141.2</td>\n",
              "      <td>21.9</td>\n",
              "    </tr>\n",
              "    <tr>\n",
              "      <th>3</th>\n",
              "      <td>219083000</td>\n",
              "      <td>11.6038</td>\n",
              "      <td>74.8000</td>\n",
              "      <td>Hamina</td>\n",
              "      <td>Tanker</td>\n",
              "      <td>9980</td>\n",
              "      <td>141.2</td>\n",
              "      <td>21.6</td>\n",
              "    </tr>\n",
              "    <tr>\n",
              "      <th>4</th>\n",
              "      <td>219426000</td>\n",
              "      <td>11.9203</td>\n",
              "      <td>56.3253</td>\n",
              "      <td>Hamina</td>\n",
              "      <td>Tanker</td>\n",
              "      <td>3219</td>\n",
              "      <td>99.9</td>\n",
              "      <td>15.0</td>\n",
              "    </tr>\n",
              "  </tbody>\n",
              "</table>\n",
              "</div>"
            ],
            "text/plain": [
              "        MMSI    Speed      COG  ... Gross_tonnage Length  Breadth\n",
              "0  212209000  10.1000  64.3000  ...          3416   94.9     15.3\n",
              "1  212436000  13.5256  77.0755  ...          6280  116.9     18.0\n",
              "2  219082000   9.9000  74.7000  ...          9980  141.2     21.9\n",
              "3  219083000  11.6038  74.8000  ...          9980  141.2     21.6\n",
              "4  219426000  11.9203  56.3253  ...          3219   99.9     15.0\n",
              "\n",
              "[5 rows x 8 columns]"
            ]
          },
          "metadata": {
            "tags": []
          },
          "execution_count": 3
        }
      ]
    },
    {
      "cell_type": "code",
      "metadata": {
        "id": "oT3_W4-8KTtC",
        "colab": {
          "base_uri": "https://localhost:8080/",
          "height": 419
        },
        "outputId": "a8c3fb9f-dafc-49f6-94fb-675b8b299f45"
      },
      "source": [
        "# Load shipdata2.csv from the url2...\n",
        "url = 'https://raw.githubusercontent.com/elmasyr/dadk/main/shipdata2_2020.csv'\n",
        "#column_names = ['MMSI','Speed','COG','Destination','Ship_type','Gross_tonnage','Length','Breadth']\n",
        "pd.read_csv(url, delimiter=';')\n",
        "#names = column_names"
      ],
      "execution_count": null,
      "outputs": [
        {
          "output_type": "execute_result",
          "data": {
            "text/html": [
              "<div>\n",
              "<style scoped>\n",
              "    .dataframe tbody tr th:only-of-type {\n",
              "        vertical-align: middle;\n",
              "    }\n",
              "\n",
              "    .dataframe tbody tr th {\n",
              "        vertical-align: top;\n",
              "    }\n",
              "\n",
              "    .dataframe thead th {\n",
              "        text-align: right;\n",
              "    }\n",
              "</style>\n",
              "<table border=\"1\" class=\"dataframe\">\n",
              "  <thead>\n",
              "    <tr style=\"text-align: right;\">\n",
              "      <th></th>\n",
              "      <th>MMSI</th>\n",
              "      <th>Speed</th>\n",
              "      <th>COG</th>\n",
              "      <th>Destination</th>\n",
              "      <th>Ship_type</th>\n",
              "      <th>Gross_tonnage</th>\n",
              "      <th>Length</th>\n",
              "      <th>Breadth</th>\n",
              "    </tr>\n",
              "  </thead>\n",
              "  <tbody>\n",
              "    <tr>\n",
              "      <th>0</th>\n",
              "      <td>538002778</td>\n",
              "      <td>11,3631</td>\n",
              "      <td>74,6552</td>\n",
              "      <td>Porvoo</td>\n",
              "      <td>NaN</td>\n",
              "      <td>30641</td>\n",
              "      <td>195</td>\n",
              "      <td>32,24</td>\n",
              "    </tr>\n",
              "    <tr>\n",
              "      <th>1</th>\n",
              "      <td>636016752</td>\n",
              "      <td>11,7</td>\n",
              "      <td>74,6</td>\n",
              "      <td>Porvoo</td>\n",
              "      <td>Tanker</td>\n",
              "      <td>3853</td>\n",
              "      <td>92,9</td>\n",
              "      <td>15,3</td>\n",
              "    </tr>\n",
              "    <tr>\n",
              "      <th>2</th>\n",
              "      <td>244870429</td>\n",
              "      <td>11,7126</td>\n",
              "      <td>69,5662</td>\n",
              "      <td>Porvoo</td>\n",
              "      <td>Tanker</td>\n",
              "      <td>7251</td>\n",
              "      <td>115</td>\n",
              "      <td>18,6</td>\n",
              "    </tr>\n",
              "    <tr>\n",
              "      <th>3</th>\n",
              "      <td>305653000</td>\n",
              "      <td>10,8253</td>\n",
              "      <td>56,4266</td>\n",
              "      <td>Porvoo</td>\n",
              "      <td>Cargo</td>\n",
              "      <td>6668</td>\n",
              "      <td>107,03</td>\n",
              "      <td>18,42</td>\n",
              "    </tr>\n",
              "    <tr>\n",
              "      <th>4</th>\n",
              "      <td>235060255</td>\n",
              "      <td>11,7311</td>\n",
              "      <td>80,9</td>\n",
              "      <td>Primorsk</td>\n",
              "      <td>Tanker</td>\n",
              "      <td>23353</td>\n",
              "      <td>184,0</td>\n",
              "      <td>27,7</td>\n",
              "    </tr>\n",
              "    <tr>\n",
              "      <th>...</th>\n",
              "      <td>...</td>\n",
              "      <td>...</td>\n",
              "      <td>...</td>\n",
              "      <td>...</td>\n",
              "      <td>...</td>\n",
              "      <td>...</td>\n",
              "      <td>...</td>\n",
              "      <td>...</td>\n",
              "    </tr>\n",
              "    <tr>\n",
              "      <th>62</th>\n",
              "      <td>273374820</td>\n",
              "      <td>10,0</td>\n",
              "      <td>74,6</td>\n",
              "      <td>Vysotsk</td>\n",
              "      <td>Tanker</td>\n",
              "      <td>4979</td>\n",
              "      <td>1399</td>\n",
              "      <td>16,7</td>\n",
              "    </tr>\n",
              "    <tr>\n",
              "      <th>63</th>\n",
              "      <td>273385070</td>\n",
              "      <td>9,4</td>\n",
              "      <td>74,5</td>\n",
              "      <td>Vysotsk</td>\n",
              "      <td>Tanker</td>\n",
              "      <td>4979</td>\n",
              "      <td>139,9</td>\n",
              "      <td>16,9</td>\n",
              "    </tr>\n",
              "    <tr>\n",
              "      <th>64</th>\n",
              "      <td>273388150</td>\n",
              "      <td>9,7668</td>\n",
              "      <td>68,7159</td>\n",
              "      <td>Vysotsk</td>\n",
              "      <td>Tanker</td>\n",
              "      <td>5075</td>\n",
              "      <td>140,9</td>\n",
              "      <td>16,9</td>\n",
              "    </tr>\n",
              "    <tr>\n",
              "      <th>65</th>\n",
              "      <td>636092755</td>\n",
              "      <td>11,2</td>\n",
              "      <td>73,7</td>\n",
              "      <td>Vysotsk</td>\n",
              "      <td>Tanker</td>\n",
              "      <td>23240</td>\n",
              "      <td>183,0</td>\n",
              "      <td>27,4</td>\n",
              "    </tr>\n",
              "    <tr>\n",
              "      <th>66</th>\n",
              "      <td>357100000</td>\n",
              "      <td>11,2703</td>\n",
              "      <td>59,3888</td>\n",
              "      <td>Vysotsk</td>\n",
              "      <td>Cargo</td>\n",
              "      <td>43717</td>\n",
              "      <td>229,04</td>\n",
              "      <td>32,31</td>\n",
              "    </tr>\n",
              "  </tbody>\n",
              "</table>\n",
              "<p>67 rows × 8 columns</p>\n",
              "</div>"
            ],
            "text/plain": [
              "         MMSI    Speed      COG  ... Gross_tonnage  Length  Breadth\n",
              "0   538002778  11,3631  74,6552  ...         30641     195    32,24\n",
              "1   636016752     11,7     74,6  ...          3853    92,9     15,3\n",
              "2   244870429  11,7126  69,5662  ...          7251     115     18,6\n",
              "3   305653000  10,8253  56,4266  ...          6668  107,03    18,42\n",
              "4   235060255  11,7311     80,9  ...         23353   184,0     27,7\n",
              "..        ...      ...      ...  ...           ...     ...      ...\n",
              "62  273374820     10,0     74,6  ...          4979    1399     16,7\n",
              "63  273385070      9,4     74,5  ...          4979   139,9     16,9\n",
              "64  273388150   9,7668  68,7159  ...          5075   140,9     16,9\n",
              "65  636092755     11,2     73,7  ...         23240   183,0     27,4\n",
              "66  357100000  11,2703  59,3888  ...         43717  229,04    32,31\n",
              "\n",
              "[67 rows x 8 columns]"
            ]
          },
          "metadata": {
            "tags": []
          },
          "execution_count": 4
        }
      ]
    },
    {
      "cell_type": "code",
      "metadata": {
        "colab": {
          "base_uri": "https://localhost:8080/",
          "height": 204
        },
        "id": "ZabVbcR33ObG",
        "outputId": "be7d032f-b168-4f53-b86c-7a52531b3225"
      },
      "source": [
        "#Put into Pandas dataframe\n",
        "shipdata2 = pd.read_csv('https://raw.githubusercontent.com/elmasyr/dadk/main/shipdata2_2020.csv', delimiter=';')\n",
        "\n",
        "#column_names = ['MMSI','Speed','COG','Destination','Ship_type','Gross_tonnage','Length','Breadth']\n",
        "\n",
        "shipdata2.head()"
      ],
      "execution_count": null,
      "outputs": [
        {
          "output_type": "execute_result",
          "data": {
            "text/html": [
              "<div>\n",
              "<style scoped>\n",
              "    .dataframe tbody tr th:only-of-type {\n",
              "        vertical-align: middle;\n",
              "    }\n",
              "\n",
              "    .dataframe tbody tr th {\n",
              "        vertical-align: top;\n",
              "    }\n",
              "\n",
              "    .dataframe thead th {\n",
              "        text-align: right;\n",
              "    }\n",
              "</style>\n",
              "<table border=\"1\" class=\"dataframe\">\n",
              "  <thead>\n",
              "    <tr style=\"text-align: right;\">\n",
              "      <th></th>\n",
              "      <th>MMSI</th>\n",
              "      <th>Speed</th>\n",
              "      <th>COG</th>\n",
              "      <th>Destination</th>\n",
              "      <th>Ship_type</th>\n",
              "      <th>Gross_tonnage</th>\n",
              "      <th>Length</th>\n",
              "      <th>Breadth</th>\n",
              "    </tr>\n",
              "  </thead>\n",
              "  <tbody>\n",
              "    <tr>\n",
              "      <th>0</th>\n",
              "      <td>538002778</td>\n",
              "      <td>11,3631</td>\n",
              "      <td>74,6552</td>\n",
              "      <td>Porvoo</td>\n",
              "      <td>NaN</td>\n",
              "      <td>30641</td>\n",
              "      <td>195</td>\n",
              "      <td>32,24</td>\n",
              "    </tr>\n",
              "    <tr>\n",
              "      <th>1</th>\n",
              "      <td>636016752</td>\n",
              "      <td>11,7</td>\n",
              "      <td>74,6</td>\n",
              "      <td>Porvoo</td>\n",
              "      <td>Tanker</td>\n",
              "      <td>3853</td>\n",
              "      <td>92,9</td>\n",
              "      <td>15,3</td>\n",
              "    </tr>\n",
              "    <tr>\n",
              "      <th>2</th>\n",
              "      <td>244870429</td>\n",
              "      <td>11,7126</td>\n",
              "      <td>69,5662</td>\n",
              "      <td>Porvoo</td>\n",
              "      <td>Tanker</td>\n",
              "      <td>7251</td>\n",
              "      <td>115</td>\n",
              "      <td>18,6</td>\n",
              "    </tr>\n",
              "    <tr>\n",
              "      <th>3</th>\n",
              "      <td>305653000</td>\n",
              "      <td>10,8253</td>\n",
              "      <td>56,4266</td>\n",
              "      <td>Porvoo</td>\n",
              "      <td>Cargo</td>\n",
              "      <td>6668</td>\n",
              "      <td>107,03</td>\n",
              "      <td>18,42</td>\n",
              "    </tr>\n",
              "    <tr>\n",
              "      <th>4</th>\n",
              "      <td>235060255</td>\n",
              "      <td>11,7311</td>\n",
              "      <td>80,9</td>\n",
              "      <td>Primorsk</td>\n",
              "      <td>Tanker</td>\n",
              "      <td>23353</td>\n",
              "      <td>184,0</td>\n",
              "      <td>27,7</td>\n",
              "    </tr>\n",
              "  </tbody>\n",
              "</table>\n",
              "</div>"
            ],
            "text/plain": [
              "        MMSI    Speed      COG  ... Gross_tonnage  Length  Breadth\n",
              "0  538002778  11,3631  74,6552  ...         30641     195    32,24\n",
              "1  636016752     11,7     74,6  ...          3853    92,9     15,3\n",
              "2  244870429  11,7126  69,5662  ...          7251     115     18,6\n",
              "3  305653000  10,8253  56,4266  ...          6668  107,03    18,42\n",
              "4  235060255  11,7311     80,9  ...         23353   184,0     27,7\n",
              "\n",
              "[5 rows x 8 columns]"
            ]
          },
          "metadata": {
            "tags": []
          },
          "execution_count": 5
        }
      ]
    },
    {
      "cell_type": "markdown",
      "metadata": {
        "id": "_jhHn6nNKTtG"
      },
      "source": [
        "## 3. Fix numeric data"
      ]
    },
    {
      "cell_type": "markdown",
      "metadata": {
        "id": "vZUmxZbzKTtI"
      },
      "source": [
        "#### a) The dataframes have one systematic difference in numerical values. Look at the previous printouts: **What is the difference?**"
      ]
    },
    {
      "cell_type": "markdown",
      "metadata": {
        "id": "sgn-qQ7nKTtI"
      },
      "source": [
        "The difference is in the float data type. the decimal point used is different"
      ]
    },
    {
      "cell_type": "markdown",
      "metadata": {
        "id": "R_HYSeeBKTtJ"
      },
      "source": [
        "#### b) Fix this issue so that you correct shipdata2 dataframe to similar formatting as in shipdata1."
      ]
    },
    {
      "cell_type": "code",
      "metadata": {
        "id": "sKJULbdfKTtK"
      },
      "source": [
        "# Fix issue so that shipdata2 dataframe have similar formatting as in shipdata1.\n",
        "shipdata2 = shipdata2.replace(regex=[','], value='.')\n",
        "\n"
      ],
      "execution_count": null,
      "outputs": []
    },
    {
      "cell_type": "markdown",
      "metadata": {
        "id": "MZ0NF-WEKTtN"
      },
      "source": [
        "#### c) Print first 5 rows of updated shipdata2 dataframe. "
      ]
    },
    {
      "cell_type": "code",
      "metadata": {
        "id": "FnnwT5zpKTtO",
        "colab": {
          "base_uri": "https://localhost:8080/",
          "height": 204
        },
        "outputId": "072ceb1c-ce60-4851-9a95-88f83663a6f6"
      },
      "source": [
        "# first 5 rows of updated shipdata2 dataframe\n",
        "\n",
        "shipdata2.head()\n"
      ],
      "execution_count": null,
      "outputs": [
        {
          "output_type": "execute_result",
          "data": {
            "text/html": [
              "<div>\n",
              "<style scoped>\n",
              "    .dataframe tbody tr th:only-of-type {\n",
              "        vertical-align: middle;\n",
              "    }\n",
              "\n",
              "    .dataframe tbody tr th {\n",
              "        vertical-align: top;\n",
              "    }\n",
              "\n",
              "    .dataframe thead th {\n",
              "        text-align: right;\n",
              "    }\n",
              "</style>\n",
              "<table border=\"1\" class=\"dataframe\">\n",
              "  <thead>\n",
              "    <tr style=\"text-align: right;\">\n",
              "      <th></th>\n",
              "      <th>MMSI</th>\n",
              "      <th>Speed</th>\n",
              "      <th>COG</th>\n",
              "      <th>Destination</th>\n",
              "      <th>Ship_type</th>\n",
              "      <th>Gross_tonnage</th>\n",
              "      <th>Length</th>\n",
              "      <th>Breadth</th>\n",
              "    </tr>\n",
              "  </thead>\n",
              "  <tbody>\n",
              "    <tr>\n",
              "      <th>0</th>\n",
              "      <td>538002778</td>\n",
              "      <td>11.3631</td>\n",
              "      <td>74.6552</td>\n",
              "      <td>Porvoo</td>\n",
              "      <td>NaN</td>\n",
              "      <td>30641</td>\n",
              "      <td>195</td>\n",
              "      <td>32.24</td>\n",
              "    </tr>\n",
              "    <tr>\n",
              "      <th>1</th>\n",
              "      <td>636016752</td>\n",
              "      <td>11.7</td>\n",
              "      <td>74.6</td>\n",
              "      <td>Porvoo</td>\n",
              "      <td>Tanker</td>\n",
              "      <td>3853</td>\n",
              "      <td>92.9</td>\n",
              "      <td>15.3</td>\n",
              "    </tr>\n",
              "    <tr>\n",
              "      <th>2</th>\n",
              "      <td>244870429</td>\n",
              "      <td>11.7126</td>\n",
              "      <td>69.5662</td>\n",
              "      <td>Porvoo</td>\n",
              "      <td>Tanker</td>\n",
              "      <td>7251</td>\n",
              "      <td>115</td>\n",
              "      <td>18.6</td>\n",
              "    </tr>\n",
              "    <tr>\n",
              "      <th>3</th>\n",
              "      <td>305653000</td>\n",
              "      <td>10.8253</td>\n",
              "      <td>56.4266</td>\n",
              "      <td>Porvoo</td>\n",
              "      <td>Cargo</td>\n",
              "      <td>6668</td>\n",
              "      <td>107.03</td>\n",
              "      <td>18.42</td>\n",
              "    </tr>\n",
              "    <tr>\n",
              "      <th>4</th>\n",
              "      <td>235060255</td>\n",
              "      <td>11.7311</td>\n",
              "      <td>80.9</td>\n",
              "      <td>Primorsk</td>\n",
              "      <td>Tanker</td>\n",
              "      <td>23353</td>\n",
              "      <td>184.0</td>\n",
              "      <td>27.7</td>\n",
              "    </tr>\n",
              "  </tbody>\n",
              "</table>\n",
              "</div>"
            ],
            "text/plain": [
              "        MMSI    Speed      COG  ... Gross_tonnage  Length  Breadth\n",
              "0  538002778  11.3631  74.6552  ...         30641     195    32.24\n",
              "1  636016752     11.7     74.6  ...          3853    92.9     15.3\n",
              "2  244870429  11.7126  69.5662  ...          7251     115     18.6\n",
              "3  305653000  10.8253  56.4266  ...          6668  107.03    18.42\n",
              "4  235060255  11.7311     80.9  ...         23353   184.0     27.7\n",
              "\n",
              "[5 rows x 8 columns]"
            ]
          },
          "metadata": {
            "tags": []
          },
          "execution_count": 7
        }
      ]
    },
    {
      "cell_type": "markdown",
      "metadata": {
        "id": "WixpA_FYKTtR"
      },
      "source": [
        "## 4. Combine dataframes together"
      ]
    },
    {
      "cell_type": "markdown",
      "metadata": {
        "id": "jQjgQkMzKTtS"
      },
      "source": [
        "Tip for this section: Each subtask can be easily applied with one (or two) line(s) of code when using Pandas."
      ]
    },
    {
      "cell_type": "markdown",
      "metadata": {
        "id": "AvU76JdvKTtT"
      },
      "source": [
        "#### a) Add an additional column/attribute Origin which indicates the origin of the data (values 1, 2, according to shipdata name). This is often helpful for possible detective work, if there are any further direpancies in the data."
      ]
    },
    {
      "cell_type": "code",
      "metadata": {
        "id": "Sfc0uto4KTtT"
      },
      "source": [
        "# Added additional column called origin which indicates the origin of the data according to shipdata name (shipdata1)\n",
        "\n",
        "shipdata1.insert(loc=0,column='Origin', value='1', allow_duplicates=False)\n"
      ],
      "execution_count": null,
      "outputs": []
    },
    {
      "cell_type": "code",
      "metadata": {
        "colab": {
          "base_uri": "https://localhost:8080/"
        },
        "id": "C8xjfcgDtmi6",
        "outputId": "7ab2bf2f-6f8d-43e1-b5fd-d6cb8785f0a0"
      },
      "source": [
        "print(shipdata1)"
      ],
      "execution_count": null,
      "outputs": [
        {
          "output_type": "stream",
          "text": [
            "   Origin       MMSI    Speed  ...  Gross_tonnage Length Breadth\n",
            "0       1  212209000  10.1000  ...           3416   94.9   15.30\n",
            "1       1  212436000  13.5256  ...           6280  116.9   18.00\n",
            "2       1  219082000   9.9000  ...           9980  141.2   21.90\n",
            "3       1  219083000  11.6038  ...           9980  141.2   21.60\n",
            "4       1  219426000  11.9203  ...           3219   99.9   15.00\n",
            "..    ...        ...      ...  ...            ...    ...     ...\n",
            "64      1  259768000  11.8492  ...          11935  144.1   23.20\n",
            "65      1  538002774  11.5935  ...          30641  195.0   32.20\n",
            "66      1  538002778  11.3631  ...          30641  195.0   32.24\n",
            "67      1  636016683  10.9000  ...           5440  108.0   16.80\n",
            "68      1  636016752  11.7000  ...           3853   92.9   15.30\n",
            "\n",
            "[69 rows x 9 columns]\n"
          ],
          "name": "stdout"
        }
      ]
    },
    {
      "cell_type": "code",
      "metadata": {
        "id": "KqecysuavQUX"
      },
      "source": [
        "# Added additional column called origin which indicates the origin of the data according to shipdata name (shipdata2)\n",
        "\n",
        "shipdata2.insert(loc=0,column='Origin', value='2', allow_duplicates=False)\n"
      ],
      "execution_count": null,
      "outputs": []
    },
    {
      "cell_type": "code",
      "metadata": {
        "colab": {
          "base_uri": "https://localhost:8080/"
        },
        "id": "tvT97h9Ivck2",
        "outputId": "528f020f-6274-471c-de31-ad3eb42f9c2e"
      },
      "source": [
        "print(shipdata2)"
      ],
      "execution_count": null,
      "outputs": [
        {
          "output_type": "stream",
          "text": [
            "   Origin       MMSI    Speed      COG  ... Ship_type Gross_tonnage  Length Breadth\n",
            "0       2  538002778  11.3631  74.6552  ...       NaN         30641     195   32.24\n",
            "1       2  636016752     11.7     74.6  ...    Tanker          3853    92.9    15.3\n",
            "2       2  244870429  11.7126  69.5662  ...    Tanker          7251     115    18.6\n",
            "3       2  305653000  10.8253  56.4266  ...     Cargo          6668  107.03   18.42\n",
            "4       2  235060255  11.7311     80.9  ...    Tanker         23353   184.0    27.7\n",
            "..    ...        ...      ...      ...  ...       ...           ...     ...     ...\n",
            "62      2  273374820     10.0     74.6  ...    Tanker          4979    1399    16.7\n",
            "63      2  273385070      9.4     74.5  ...    Tanker          4979   139.9    16.9\n",
            "64      2  273388150   9.7668  68.7159  ...    Tanker          5075   140.9    16.9\n",
            "65      2  636092755     11.2     73.7  ...    Tanker         23240   183.0    27.4\n",
            "66      2  357100000  11.2703  59.3888  ...     Cargo         43717  229.04   32.31\n",
            "\n",
            "[67 rows x 9 columns]\n"
          ],
          "name": "stdout"
        }
      ]
    },
    {
      "cell_type": "markdown",
      "metadata": {
        "id": "Ww4LCsxlKTtW"
      },
      "source": [
        "#### b) Combine the two separate dataframes as one new dataframe."
      ]
    },
    {
      "cell_type": "code",
      "metadata": {
        "id": "PFp-Pj07KTtX",
        "colab": {
          "base_uri": "https://localhost:8080/",
          "height": 419
        },
        "outputId": "b182f014-93be-41e2-fdbe-6e69284d15ec"
      },
      "source": [
        "# Combine the two separate dataframes as one new dataframe\n",
        "frames = [shipdata1, shipdata2]\n",
        "\n",
        "#concatenate dataframes\n",
        "new_dataframe = pd.concat(frames, sort=False)\n",
        "\n",
        "new_dataframe"
      ],
      "execution_count": null,
      "outputs": [
        {
          "output_type": "execute_result",
          "data": {
            "text/html": [
              "<div>\n",
              "<style scoped>\n",
              "    .dataframe tbody tr th:only-of-type {\n",
              "        vertical-align: middle;\n",
              "    }\n",
              "\n",
              "    .dataframe tbody tr th {\n",
              "        vertical-align: top;\n",
              "    }\n",
              "\n",
              "    .dataframe thead th {\n",
              "        text-align: right;\n",
              "    }\n",
              "</style>\n",
              "<table border=\"1\" class=\"dataframe\">\n",
              "  <thead>\n",
              "    <tr style=\"text-align: right;\">\n",
              "      <th></th>\n",
              "      <th>Origin</th>\n",
              "      <th>MMSI</th>\n",
              "      <th>Speed</th>\n",
              "      <th>COG</th>\n",
              "      <th>Destination</th>\n",
              "      <th>Ship_type</th>\n",
              "      <th>Gross_tonnage</th>\n",
              "      <th>Length</th>\n",
              "      <th>Breadth</th>\n",
              "    </tr>\n",
              "  </thead>\n",
              "  <tbody>\n",
              "    <tr>\n",
              "      <th>0</th>\n",
              "      <td>1</td>\n",
              "      <td>212209000</td>\n",
              "      <td>10.1</td>\n",
              "      <td>64.3</td>\n",
              "      <td>Hamina</td>\n",
              "      <td>Cargo</td>\n",
              "      <td>3416</td>\n",
              "      <td>94.9</td>\n",
              "      <td>15.3</td>\n",
              "    </tr>\n",
              "    <tr>\n",
              "      <th>1</th>\n",
              "      <td>1</td>\n",
              "      <td>212436000</td>\n",
              "      <td>13.5256</td>\n",
              "      <td>77.0755</td>\n",
              "      <td>Hamina</td>\n",
              "      <td>Tanker</td>\n",
              "      <td>6280</td>\n",
              "      <td>116.9</td>\n",
              "      <td>18</td>\n",
              "    </tr>\n",
              "    <tr>\n",
              "      <th>2</th>\n",
              "      <td>1</td>\n",
              "      <td>219082000</td>\n",
              "      <td>9.9</td>\n",
              "      <td>74.7</td>\n",
              "      <td>Hamina</td>\n",
              "      <td>Tanker</td>\n",
              "      <td>9980</td>\n",
              "      <td>141.2</td>\n",
              "      <td>21.9</td>\n",
              "    </tr>\n",
              "    <tr>\n",
              "      <th>3</th>\n",
              "      <td>1</td>\n",
              "      <td>219083000</td>\n",
              "      <td>11.6038</td>\n",
              "      <td>74.8</td>\n",
              "      <td>Hamina</td>\n",
              "      <td>Tanker</td>\n",
              "      <td>9980</td>\n",
              "      <td>141.2</td>\n",
              "      <td>21.6</td>\n",
              "    </tr>\n",
              "    <tr>\n",
              "      <th>4</th>\n",
              "      <td>1</td>\n",
              "      <td>219426000</td>\n",
              "      <td>11.9203</td>\n",
              "      <td>56.3253</td>\n",
              "      <td>Hamina</td>\n",
              "      <td>Tanker</td>\n",
              "      <td>3219</td>\n",
              "      <td>99.9</td>\n",
              "      <td>15</td>\n",
              "    </tr>\n",
              "    <tr>\n",
              "      <th>...</th>\n",
              "      <td>...</td>\n",
              "      <td>...</td>\n",
              "      <td>...</td>\n",
              "      <td>...</td>\n",
              "      <td>...</td>\n",
              "      <td>...</td>\n",
              "      <td>...</td>\n",
              "      <td>...</td>\n",
              "      <td>...</td>\n",
              "    </tr>\n",
              "    <tr>\n",
              "      <th>62</th>\n",
              "      <td>2</td>\n",
              "      <td>273374820</td>\n",
              "      <td>10.0</td>\n",
              "      <td>74.6</td>\n",
              "      <td>Vysotsk</td>\n",
              "      <td>Tanker</td>\n",
              "      <td>4979</td>\n",
              "      <td>1399</td>\n",
              "      <td>16.7</td>\n",
              "    </tr>\n",
              "    <tr>\n",
              "      <th>63</th>\n",
              "      <td>2</td>\n",
              "      <td>273385070</td>\n",
              "      <td>9.4</td>\n",
              "      <td>74.5</td>\n",
              "      <td>Vysotsk</td>\n",
              "      <td>Tanker</td>\n",
              "      <td>4979</td>\n",
              "      <td>139.9</td>\n",
              "      <td>16.9</td>\n",
              "    </tr>\n",
              "    <tr>\n",
              "      <th>64</th>\n",
              "      <td>2</td>\n",
              "      <td>273388150</td>\n",
              "      <td>9.7668</td>\n",
              "      <td>68.7159</td>\n",
              "      <td>Vysotsk</td>\n",
              "      <td>Tanker</td>\n",
              "      <td>5075</td>\n",
              "      <td>140.9</td>\n",
              "      <td>16.9</td>\n",
              "    </tr>\n",
              "    <tr>\n",
              "      <th>65</th>\n",
              "      <td>2</td>\n",
              "      <td>636092755</td>\n",
              "      <td>11.2</td>\n",
              "      <td>73.7</td>\n",
              "      <td>Vysotsk</td>\n",
              "      <td>Tanker</td>\n",
              "      <td>23240</td>\n",
              "      <td>183.0</td>\n",
              "      <td>27.4</td>\n",
              "    </tr>\n",
              "    <tr>\n",
              "      <th>66</th>\n",
              "      <td>2</td>\n",
              "      <td>357100000</td>\n",
              "      <td>11.2703</td>\n",
              "      <td>59.3888</td>\n",
              "      <td>Vysotsk</td>\n",
              "      <td>Cargo</td>\n",
              "      <td>43717</td>\n",
              "      <td>229.04</td>\n",
              "      <td>32.31</td>\n",
              "    </tr>\n",
              "  </tbody>\n",
              "</table>\n",
              "<p>136 rows × 9 columns</p>\n",
              "</div>"
            ],
            "text/plain": [
              "   Origin       MMSI    Speed      COG  ... Ship_type Gross_tonnage  Length Breadth\n",
              "0       1  212209000     10.1     64.3  ...     Cargo          3416    94.9    15.3\n",
              "1       1  212436000  13.5256  77.0755  ...    Tanker          6280   116.9      18\n",
              "2       1  219082000      9.9     74.7  ...    Tanker          9980   141.2    21.9\n",
              "3       1  219083000  11.6038     74.8  ...    Tanker          9980   141.2    21.6\n",
              "4       1  219426000  11.9203  56.3253  ...    Tanker          3219    99.9      15\n",
              "..    ...        ...      ...      ...  ...       ...           ...     ...     ...\n",
              "62      2  273374820     10.0     74.6  ...    Tanker          4979    1399    16.7\n",
              "63      2  273385070      9.4     74.5  ...    Tanker          4979   139.9    16.9\n",
              "64      2  273388150   9.7668  68.7159  ...    Tanker          5075   140.9    16.9\n",
              "65      2  636092755     11.2     73.7  ...    Tanker         23240   183.0    27.4\n",
              "66      2  357100000  11.2703  59.3888  ...     Cargo         43717  229.04   32.31\n",
              "\n",
              "[136 rows x 9 columns]"
            ]
          },
          "metadata": {
            "tags": []
          },
          "execution_count": 12
        }
      ]
    },
    {
      "cell_type": "markdown",
      "metadata": {
        "id": "FhFnHWZsKTta"
      },
      "source": [
        "#### c) Check a sample of the new dataframe by random sample of six rows.\n"
      ]
    },
    {
      "cell_type": "code",
      "metadata": {
        "id": "xmhO_CZ8KTtb",
        "colab": {
          "base_uri": "https://localhost:8080/",
          "height": 235
        },
        "outputId": "8b13b120-25e1-407e-95ef-b83939ec0c43"
      },
      "source": [
        "# Check a sample of the new dataframe by random sample of six rows\n",
        "new_dataframerad = new_dataframe.sample(n=6)\n",
        "\n",
        "new_dataframerad"
      ],
      "execution_count": null,
      "outputs": [
        {
          "output_type": "execute_result",
          "data": {
            "text/html": [
              "<div>\n",
              "<style scoped>\n",
              "    .dataframe tbody tr th:only-of-type {\n",
              "        vertical-align: middle;\n",
              "    }\n",
              "\n",
              "    .dataframe tbody tr th {\n",
              "        vertical-align: top;\n",
              "    }\n",
              "\n",
              "    .dataframe thead th {\n",
              "        text-align: right;\n",
              "    }\n",
              "</style>\n",
              "<table border=\"1\" class=\"dataframe\">\n",
              "  <thead>\n",
              "    <tr style=\"text-align: right;\">\n",
              "      <th></th>\n",
              "      <th>Origin</th>\n",
              "      <th>MMSI</th>\n",
              "      <th>Speed</th>\n",
              "      <th>COG</th>\n",
              "      <th>Destination</th>\n",
              "      <th>Ship_type</th>\n",
              "      <th>Gross_tonnage</th>\n",
              "      <th>Length</th>\n",
              "      <th>Breadth</th>\n",
              "    </tr>\n",
              "  </thead>\n",
              "  <tbody>\n",
              "    <tr>\n",
              "      <th>4</th>\n",
              "      <td>1</td>\n",
              "      <td>219426000</td>\n",
              "      <td>11.9203</td>\n",
              "      <td>56.3253</td>\n",
              "      <td>Hamina</td>\n",
              "      <td>Tanker</td>\n",
              "      <td>3219</td>\n",
              "      <td>99.9</td>\n",
              "      <td>15</td>\n",
              "    </tr>\n",
              "    <tr>\n",
              "      <th>54</th>\n",
              "      <td>1</td>\n",
              "      <td>219178000</td>\n",
              "      <td>11.7699</td>\n",
              "      <td>73.3348</td>\n",
              "      <td>Porvoo</td>\n",
              "      <td>Tanker</td>\n",
              "      <td>7636</td>\n",
              "      <td>129.8</td>\n",
              "      <td>19.9</td>\n",
              "    </tr>\n",
              "    <tr>\n",
              "      <th>42</th>\n",
              "      <td>1</td>\n",
              "      <td>477043500</td>\n",
              "      <td>11.9996</td>\n",
              "      <td>77.4823</td>\n",
              "      <td>Muuga</td>\n",
              "      <td>Tanker</td>\n",
              "      <td>61990</td>\n",
              "      <td>247</td>\n",
              "      <td>44</td>\n",
              "    </tr>\n",
              "    <tr>\n",
              "      <th>18</th>\n",
              "      <td>2</td>\n",
              "      <td>230941170</td>\n",
              "      <td>9.1</td>\n",
              "      <td>109.9</td>\n",
              "      <td>Tallinn</td>\n",
              "      <td>Tug</td>\n",
              "      <td>139</td>\n",
              "      <td>26.8</td>\n",
              "      <td>7.5</td>\n",
              "    </tr>\n",
              "    <tr>\n",
              "      <th>47</th>\n",
              "      <td>2</td>\n",
              "      <td>209185000</td>\n",
              "      <td>12.3292</td>\n",
              "      <td>73.0241</td>\n",
              "      <td>Valko-Loviisa</td>\n",
              "      <td>Cargo</td>\n",
              "      <td>6872</td>\n",
              "      <td>109.83</td>\n",
              "      <td>18.6</td>\n",
              "    </tr>\n",
              "    <tr>\n",
              "      <th>23</th>\n",
              "      <td>1</td>\n",
              "      <td>245241000</td>\n",
              "      <td>11.2</td>\n",
              "      <td>74.5</td>\n",
              "      <td>Kotka</td>\n",
              "      <td>Cargo</td>\n",
              "      <td>2862</td>\n",
              "      <td>94.7</td>\n",
              "      <td>13.4</td>\n",
              "    </tr>\n",
              "  </tbody>\n",
              "</table>\n",
              "</div>"
            ],
            "text/plain": [
              "   Origin       MMSI    Speed      COG  ... Ship_type Gross_tonnage  Length Breadth\n",
              "4       1  219426000  11.9203  56.3253  ...    Tanker          3219    99.9      15\n",
              "54      1  219178000  11.7699  73.3348  ...    Tanker          7636   129.8    19.9\n",
              "42      1  477043500  11.9996  77.4823  ...    Tanker         61990     247      44\n",
              "18      2  230941170      9.1    109.9  ...       Tug           139    26.8     7.5\n",
              "47      2  209185000  12.3292  73.0241  ...     Cargo          6872  109.83    18.6\n",
              "23      1  245241000     11.2     74.5  ...     Cargo          2862    94.7    13.4\n",
              "\n",
              "[6 rows x 9 columns]"
            ]
          },
          "metadata": {
            "tags": []
          },
          "execution_count": 13
        }
      ]
    },
    {
      "cell_type": "markdown",
      "metadata": {
        "id": "9ipY_LCDKTte"
      },
      "source": [
        "#### d) Check the shape of the new dataframe, try using df.info(). What information can you find in the output?"
      ]
    },
    {
      "cell_type": "code",
      "metadata": {
        "id": "fDt9z9gRKTtf",
        "colab": {
          "base_uri": "https://localhost:8080/"
        },
        "outputId": "7a7b1f5a-f564-4903-dec7-695c6dd0ca01"
      },
      "source": [
        "# Check the shape of the new dataframe\n",
        "new_dataframe.info()"
      ],
      "execution_count": null,
      "outputs": [
        {
          "output_type": "stream",
          "text": [
            "<class 'pandas.core.frame.DataFrame'>\n",
            "Int64Index: 136 entries, 0 to 66\n",
            "Data columns (total 9 columns):\n",
            " #   Column         Non-Null Count  Dtype \n",
            "---  ------         --------------  ----- \n",
            " 0   Origin         136 non-null    object\n",
            " 1   MMSI           136 non-null    int64 \n",
            " 2   Speed          136 non-null    object\n",
            " 3   COG            136 non-null    object\n",
            " 4   Destination    136 non-null    object\n",
            " 5   Ship_type      135 non-null    object\n",
            " 6   Gross_tonnage  136 non-null    int64 \n",
            " 7   Length         136 non-null    object\n",
            " 8   Breadth        136 non-null    object\n",
            "dtypes: int64(2), object(7)\n",
            "memory usage: 10.6+ KB\n"
          ],
          "name": "stdout"
        }
      ]
    },
    {
      "cell_type": "markdown",
      "metadata": {
        "id": "6r4itjoeKTti"
      },
      "source": [
        "I can find the datatype object and int, object and memory usage"
      ]
    },
    {
      "cell_type": "markdown",
      "metadata": {
        "id": "M6xbHqpCKTtj"
      },
      "source": [
        "## 5. Data cleaning"
      ]
    },
    {
      "cell_type": "markdown",
      "metadata": {
        "id": "gtH0fA0OKTtj"
      },
      "source": [
        "### Check if there is any missing data or duplicates.\n",
        "#### a) Are there missing values?"
      ]
    },
    {
      "cell_type": "code",
      "metadata": {
        "id": "s1zUu6f1KTtk",
        "colab": {
          "base_uri": "https://localhost:8080/",
          "height": 419
        },
        "outputId": "332fa273-1145-440a-8a5b-581d99bd94e6"
      },
      "source": [
        "# Script for missing data\n",
        "new_dataframe.isnull()\n",
        "\n",
        "#new_dataframe.isnull().sum().sum()   #count of missing values of the entire dataframe\n",
        "\n"
      ],
      "execution_count": null,
      "outputs": [
        {
          "output_type": "execute_result",
          "data": {
            "text/html": [
              "<div>\n",
              "<style scoped>\n",
              "    .dataframe tbody tr th:only-of-type {\n",
              "        vertical-align: middle;\n",
              "    }\n",
              "\n",
              "    .dataframe tbody tr th {\n",
              "        vertical-align: top;\n",
              "    }\n",
              "\n",
              "    .dataframe thead th {\n",
              "        text-align: right;\n",
              "    }\n",
              "</style>\n",
              "<table border=\"1\" class=\"dataframe\">\n",
              "  <thead>\n",
              "    <tr style=\"text-align: right;\">\n",
              "      <th></th>\n",
              "      <th>Origin</th>\n",
              "      <th>MMSI</th>\n",
              "      <th>Speed</th>\n",
              "      <th>COG</th>\n",
              "      <th>Destination</th>\n",
              "      <th>Ship_type</th>\n",
              "      <th>Gross_tonnage</th>\n",
              "      <th>Length</th>\n",
              "      <th>Breadth</th>\n",
              "    </tr>\n",
              "  </thead>\n",
              "  <tbody>\n",
              "    <tr>\n",
              "      <th>0</th>\n",
              "      <td>False</td>\n",
              "      <td>False</td>\n",
              "      <td>False</td>\n",
              "      <td>False</td>\n",
              "      <td>False</td>\n",
              "      <td>False</td>\n",
              "      <td>False</td>\n",
              "      <td>False</td>\n",
              "      <td>False</td>\n",
              "    </tr>\n",
              "    <tr>\n",
              "      <th>1</th>\n",
              "      <td>False</td>\n",
              "      <td>False</td>\n",
              "      <td>False</td>\n",
              "      <td>False</td>\n",
              "      <td>False</td>\n",
              "      <td>False</td>\n",
              "      <td>False</td>\n",
              "      <td>False</td>\n",
              "      <td>False</td>\n",
              "    </tr>\n",
              "    <tr>\n",
              "      <th>2</th>\n",
              "      <td>False</td>\n",
              "      <td>False</td>\n",
              "      <td>False</td>\n",
              "      <td>False</td>\n",
              "      <td>False</td>\n",
              "      <td>False</td>\n",
              "      <td>False</td>\n",
              "      <td>False</td>\n",
              "      <td>False</td>\n",
              "    </tr>\n",
              "    <tr>\n",
              "      <th>3</th>\n",
              "      <td>False</td>\n",
              "      <td>False</td>\n",
              "      <td>False</td>\n",
              "      <td>False</td>\n",
              "      <td>False</td>\n",
              "      <td>False</td>\n",
              "      <td>False</td>\n",
              "      <td>False</td>\n",
              "      <td>False</td>\n",
              "    </tr>\n",
              "    <tr>\n",
              "      <th>4</th>\n",
              "      <td>False</td>\n",
              "      <td>False</td>\n",
              "      <td>False</td>\n",
              "      <td>False</td>\n",
              "      <td>False</td>\n",
              "      <td>False</td>\n",
              "      <td>False</td>\n",
              "      <td>False</td>\n",
              "      <td>False</td>\n",
              "    </tr>\n",
              "    <tr>\n",
              "      <th>...</th>\n",
              "      <td>...</td>\n",
              "      <td>...</td>\n",
              "      <td>...</td>\n",
              "      <td>...</td>\n",
              "      <td>...</td>\n",
              "      <td>...</td>\n",
              "      <td>...</td>\n",
              "      <td>...</td>\n",
              "      <td>...</td>\n",
              "    </tr>\n",
              "    <tr>\n",
              "      <th>62</th>\n",
              "      <td>False</td>\n",
              "      <td>False</td>\n",
              "      <td>False</td>\n",
              "      <td>False</td>\n",
              "      <td>False</td>\n",
              "      <td>False</td>\n",
              "      <td>False</td>\n",
              "      <td>False</td>\n",
              "      <td>False</td>\n",
              "    </tr>\n",
              "    <tr>\n",
              "      <th>63</th>\n",
              "      <td>False</td>\n",
              "      <td>False</td>\n",
              "      <td>False</td>\n",
              "      <td>False</td>\n",
              "      <td>False</td>\n",
              "      <td>False</td>\n",
              "      <td>False</td>\n",
              "      <td>False</td>\n",
              "      <td>False</td>\n",
              "    </tr>\n",
              "    <tr>\n",
              "      <th>64</th>\n",
              "      <td>False</td>\n",
              "      <td>False</td>\n",
              "      <td>False</td>\n",
              "      <td>False</td>\n",
              "      <td>False</td>\n",
              "      <td>False</td>\n",
              "      <td>False</td>\n",
              "      <td>False</td>\n",
              "      <td>False</td>\n",
              "    </tr>\n",
              "    <tr>\n",
              "      <th>65</th>\n",
              "      <td>False</td>\n",
              "      <td>False</td>\n",
              "      <td>False</td>\n",
              "      <td>False</td>\n",
              "      <td>False</td>\n",
              "      <td>False</td>\n",
              "      <td>False</td>\n",
              "      <td>False</td>\n",
              "      <td>False</td>\n",
              "    </tr>\n",
              "    <tr>\n",
              "      <th>66</th>\n",
              "      <td>False</td>\n",
              "      <td>False</td>\n",
              "      <td>False</td>\n",
              "      <td>False</td>\n",
              "      <td>False</td>\n",
              "      <td>False</td>\n",
              "      <td>False</td>\n",
              "      <td>False</td>\n",
              "      <td>False</td>\n",
              "    </tr>\n",
              "  </tbody>\n",
              "</table>\n",
              "<p>136 rows × 9 columns</p>\n",
              "</div>"
            ],
            "text/plain": [
              "    Origin   MMSI  Speed    COG  ...  Ship_type  Gross_tonnage  Length  Breadth\n",
              "0    False  False  False  False  ...      False          False   False    False\n",
              "1    False  False  False  False  ...      False          False   False    False\n",
              "2    False  False  False  False  ...      False          False   False    False\n",
              "3    False  False  False  False  ...      False          False   False    False\n",
              "4    False  False  False  False  ...      False          False   False    False\n",
              "..     ...    ...    ...    ...  ...        ...            ...     ...      ...\n",
              "62   False  False  False  False  ...      False          False   False    False\n",
              "63   False  False  False  False  ...      False          False   False    False\n",
              "64   False  False  False  False  ...      False          False   False    False\n",
              "65   False  False  False  False  ...      False          False   False    False\n",
              "66   False  False  False  False  ...      False          False   False    False\n",
              "\n",
              "[136 rows x 9 columns]"
            ]
          },
          "metadata": {
            "tags": []
          },
          "execution_count": 15
        }
      ]
    },
    {
      "cell_type": "markdown",
      "metadata": {
        "id": "v0f4KkIAKTtn"
      },
      "source": [
        "Yes, we have one missing value"
      ]
    },
    {
      "cell_type": "markdown",
      "metadata": {
        "id": "2OPuWWbqKTto"
      },
      "source": [
        "#### b) Any duplilcate data; any vessel in the dataframe several times?"
      ]
    },
    {
      "cell_type": "code",
      "metadata": {
        "id": "hL4YiCjcKTto",
        "colab": {
          "base_uri": "https://localhost:8080/",
          "height": 419
        },
        "outputId": "c5193fe6-5379-48ee-993b-0a3ac8968644"
      },
      "source": [
        "# Check which rows are duplicate and assigne it to column 'Is_duplicate' using boolean\n",
        "\n",
        "#new_dataframe.duplicated()\n",
        "\n",
        "new_dataframe[\"Is_duplicate\"]= new_dataframe.duplicated()\n",
        "\n",
        "new_dataframe"
      ],
      "execution_count": null,
      "outputs": [
        {
          "output_type": "execute_result",
          "data": {
            "text/html": [
              "<div>\n",
              "<style scoped>\n",
              "    .dataframe tbody tr th:only-of-type {\n",
              "        vertical-align: middle;\n",
              "    }\n",
              "\n",
              "    .dataframe tbody tr th {\n",
              "        vertical-align: top;\n",
              "    }\n",
              "\n",
              "    .dataframe thead th {\n",
              "        text-align: right;\n",
              "    }\n",
              "</style>\n",
              "<table border=\"1\" class=\"dataframe\">\n",
              "  <thead>\n",
              "    <tr style=\"text-align: right;\">\n",
              "      <th></th>\n",
              "      <th>Origin</th>\n",
              "      <th>MMSI</th>\n",
              "      <th>Speed</th>\n",
              "      <th>COG</th>\n",
              "      <th>Destination</th>\n",
              "      <th>Ship_type</th>\n",
              "      <th>Gross_tonnage</th>\n",
              "      <th>Length</th>\n",
              "      <th>Breadth</th>\n",
              "      <th>Is_duplicate</th>\n",
              "    </tr>\n",
              "  </thead>\n",
              "  <tbody>\n",
              "    <tr>\n",
              "      <th>0</th>\n",
              "      <td>1</td>\n",
              "      <td>212209000</td>\n",
              "      <td>10.1</td>\n",
              "      <td>64.3</td>\n",
              "      <td>Hamina</td>\n",
              "      <td>Cargo</td>\n",
              "      <td>3416</td>\n",
              "      <td>94.9</td>\n",
              "      <td>15.3</td>\n",
              "      <td>False</td>\n",
              "    </tr>\n",
              "    <tr>\n",
              "      <th>1</th>\n",
              "      <td>1</td>\n",
              "      <td>212436000</td>\n",
              "      <td>13.5256</td>\n",
              "      <td>77.0755</td>\n",
              "      <td>Hamina</td>\n",
              "      <td>Tanker</td>\n",
              "      <td>6280</td>\n",
              "      <td>116.9</td>\n",
              "      <td>18</td>\n",
              "      <td>False</td>\n",
              "    </tr>\n",
              "    <tr>\n",
              "      <th>2</th>\n",
              "      <td>1</td>\n",
              "      <td>219082000</td>\n",
              "      <td>9.9</td>\n",
              "      <td>74.7</td>\n",
              "      <td>Hamina</td>\n",
              "      <td>Tanker</td>\n",
              "      <td>9980</td>\n",
              "      <td>141.2</td>\n",
              "      <td>21.9</td>\n",
              "      <td>False</td>\n",
              "    </tr>\n",
              "    <tr>\n",
              "      <th>3</th>\n",
              "      <td>1</td>\n",
              "      <td>219083000</td>\n",
              "      <td>11.6038</td>\n",
              "      <td>74.8</td>\n",
              "      <td>Hamina</td>\n",
              "      <td>Tanker</td>\n",
              "      <td>9980</td>\n",
              "      <td>141.2</td>\n",
              "      <td>21.6</td>\n",
              "      <td>False</td>\n",
              "    </tr>\n",
              "    <tr>\n",
              "      <th>4</th>\n",
              "      <td>1</td>\n",
              "      <td>219426000</td>\n",
              "      <td>11.9203</td>\n",
              "      <td>56.3253</td>\n",
              "      <td>Hamina</td>\n",
              "      <td>Tanker</td>\n",
              "      <td>3219</td>\n",
              "      <td>99.9</td>\n",
              "      <td>15</td>\n",
              "      <td>False</td>\n",
              "    </tr>\n",
              "    <tr>\n",
              "      <th>...</th>\n",
              "      <td>...</td>\n",
              "      <td>...</td>\n",
              "      <td>...</td>\n",
              "      <td>...</td>\n",
              "      <td>...</td>\n",
              "      <td>...</td>\n",
              "      <td>...</td>\n",
              "      <td>...</td>\n",
              "      <td>...</td>\n",
              "      <td>...</td>\n",
              "    </tr>\n",
              "    <tr>\n",
              "      <th>62</th>\n",
              "      <td>2</td>\n",
              "      <td>273374820</td>\n",
              "      <td>10.0</td>\n",
              "      <td>74.6</td>\n",
              "      <td>Vysotsk</td>\n",
              "      <td>Tanker</td>\n",
              "      <td>4979</td>\n",
              "      <td>1399</td>\n",
              "      <td>16.7</td>\n",
              "      <td>False</td>\n",
              "    </tr>\n",
              "    <tr>\n",
              "      <th>63</th>\n",
              "      <td>2</td>\n",
              "      <td>273385070</td>\n",
              "      <td>9.4</td>\n",
              "      <td>74.5</td>\n",
              "      <td>Vysotsk</td>\n",
              "      <td>Tanker</td>\n",
              "      <td>4979</td>\n",
              "      <td>139.9</td>\n",
              "      <td>16.9</td>\n",
              "      <td>False</td>\n",
              "    </tr>\n",
              "    <tr>\n",
              "      <th>64</th>\n",
              "      <td>2</td>\n",
              "      <td>273388150</td>\n",
              "      <td>9.7668</td>\n",
              "      <td>68.7159</td>\n",
              "      <td>Vysotsk</td>\n",
              "      <td>Tanker</td>\n",
              "      <td>5075</td>\n",
              "      <td>140.9</td>\n",
              "      <td>16.9</td>\n",
              "      <td>False</td>\n",
              "    </tr>\n",
              "    <tr>\n",
              "      <th>65</th>\n",
              "      <td>2</td>\n",
              "      <td>636092755</td>\n",
              "      <td>11.2</td>\n",
              "      <td>73.7</td>\n",
              "      <td>Vysotsk</td>\n",
              "      <td>Tanker</td>\n",
              "      <td>23240</td>\n",
              "      <td>183.0</td>\n",
              "      <td>27.4</td>\n",
              "      <td>False</td>\n",
              "    </tr>\n",
              "    <tr>\n",
              "      <th>66</th>\n",
              "      <td>2</td>\n",
              "      <td>357100000</td>\n",
              "      <td>11.2703</td>\n",
              "      <td>59.3888</td>\n",
              "      <td>Vysotsk</td>\n",
              "      <td>Cargo</td>\n",
              "      <td>43717</td>\n",
              "      <td>229.04</td>\n",
              "      <td>32.31</td>\n",
              "      <td>False</td>\n",
              "    </tr>\n",
              "  </tbody>\n",
              "</table>\n",
              "<p>136 rows × 10 columns</p>\n",
              "</div>"
            ],
            "text/plain": [
              "   Origin       MMSI    Speed  ...  Length Breadth Is_duplicate\n",
              "0       1  212209000     10.1  ...    94.9    15.3        False\n",
              "1       1  212436000  13.5256  ...   116.9      18        False\n",
              "2       1  219082000      9.9  ...   141.2    21.9        False\n",
              "3       1  219083000  11.6038  ...   141.2    21.6        False\n",
              "4       1  219426000  11.9203  ...    99.9      15        False\n",
              "..    ...        ...      ...  ...     ...     ...          ...\n",
              "62      2  273374820     10.0  ...    1399    16.7        False\n",
              "63      2  273385070      9.4  ...   139.9    16.9        False\n",
              "64      2  273388150   9.7668  ...   140.9    16.9        False\n",
              "65      2  636092755     11.2  ...   183.0    27.4        False\n",
              "66      2  357100000  11.2703  ...  229.04   32.31        False\n",
              "\n",
              "[136 rows x 10 columns]"
            ]
          },
          "metadata": {
            "tags": []
          },
          "execution_count": 16
        }
      ]
    },
    {
      "cell_type": "code",
      "metadata": {
        "id": "srGde0MghYtH",
        "colab": {
          "base_uri": "https://localhost:8080/"
        },
        "outputId": "c8f7bdd2-d1ba-4ae3-cff8-b21d7407cf8f"
      },
      "source": [
        "new_dataframe.duplicated(subset='Ship_type')"
      ],
      "execution_count": null,
      "outputs": [
        {
          "output_type": "execute_result",
          "data": {
            "text/plain": [
              "0     False\n",
              "1     False\n",
              "2      True\n",
              "3      True\n",
              "4      True\n",
              "      ...  \n",
              "62     True\n",
              "63     True\n",
              "64     True\n",
              "65     True\n",
              "66     True\n",
              "Length: 136, dtype: bool"
            ]
          },
          "metadata": {
            "tags": []
          },
          "execution_count": 18
        }
      ]
    },
    {
      "cell_type": "markdown",
      "metadata": {
        "id": "xJdg06iYKTtr"
      },
      "source": [
        "Answer here..."
      ]
    },
    {
      "cell_type": "markdown",
      "metadata": {
        "id": "6NYMgwq6KTts"
      },
      "source": [
        "#### c) Resolve missing data and remove duplicate data.\n",
        "Tip! Two rows should be removed, but which ones?"
      ]
    },
    {
      "cell_type": "code",
      "metadata": {
        "id": "Mc2WOxtmKTts"
      },
      "source": [
        "# Script here\n",
        "new_dataframe.drop_duplicates()\n"
      ],
      "execution_count": null,
      "outputs": []
    },
    {
      "cell_type": "markdown",
      "metadata": {
        "id": "zorhUsQ7KTtw"
      },
      "source": [
        ""
      ]
    },
    {
      "cell_type": "markdown",
      "metadata": {
        "id": "oXvqATC8KTtx"
      },
      "source": [
        "## 6. Descriptive statistics"
      ]
    },
    {
      "cell_type": "markdown",
      "metadata": {
        "id": "j0YXvvpSKTtx"
      },
      "source": [
        "####  a) Check data types and correct if needed\n",
        "\n",
        "Because Python does not require separate variable declaration, it is always a good practice to check the data types. Check the data types for the attributes and \n",
        "- convert MMSI to object or string if needed (e.g. to exclude from numeric comparison)\n",
        "- convert object or string typed numeric attributes to float."
      ]
    },
    {
      "cell_type": "code",
      "metadata": {
        "id": "lsMZ17jvKTty"
      },
      "source": [
        "# Checking the data types for all attributes\n",
        "\n",
        "print(new_dataframe.dtypes)"
      ],
      "execution_count": null,
      "outputs": []
    },
    {
      "cell_type": "code",
      "metadata": {
        "id": "DbVJN6nrFZPz"
      },
      "source": [
        "#convert MMSI to object or string\n",
        "\n",
        "new_dataframe['MMSI'] = new_dataframe['MMSI'].apply(str)\n",
        "\n",
        "#convert object or string typed numeric attributes to float\n",
        "\n",
        "new_dataframe['Speed'] = new_dataframe['Speed'].apply(pd.to_numeric)\n",
        "new_dataframe['COG'] = new_dataframe['COG'].apply(pd.to_numeric)\n",
        "new_dataframe['Length'] = new_dataframe['Length'].apply(pd.to_numeric)\n",
        "new_dataframe['Breadth'] = new_dataframe['Breadth'].apply(pd.to_numeric)\n",
        "\n",
        "#astype(float)"
      ],
      "execution_count": null,
      "outputs": []
    },
    {
      "cell_type": "code",
      "metadata": {
        "id": "iB2ngUivN7yM"
      },
      "source": [
        "new_dataframe.dtypes  #data type conversion result"
      ],
      "execution_count": null,
      "outputs": []
    },
    {
      "cell_type": "markdown",
      "metadata": {
        "id": "er0kEZFCKTt1"
      },
      "source": [
        "#### b) Print count, mean. Std, min, quartiles (25%, 50%, 75%) and max for all numeric attributes \n",
        "\n",
        "Questions: Check the values. Does the comparison make sense here, taken also the meaning of each attribute (i.e. understand your data)?"
      ]
    },
    {
      "cell_type": "code",
      "metadata": {
        "id": "-y5R-wfHXwsK"
      },
      "source": [
        "#Print count, mean. Std, min, quartiles (25%, 50%, 75%) and max for all numeric attributes\n",
        "\n",
        "include =['float', 'int'] \n",
        "\n",
        "data_stat = new_dataframe.describe(percentiles = None, include = include)\n",
        "\n",
        "\n",
        "data_stat\n",
        "\n"
      ],
      "execution_count": null,
      "outputs": []
    },
    {
      "cell_type": "markdown",
      "metadata": {
        "id": "1fLtErxvrUgL"
      },
      "source": [
        "It makes meaning since one code function (describe) was applied to obtain the descriptive statistics of all attributes at the same, which is better than doing it one  by one."
      ]
    },
    {
      "cell_type": "markdown",
      "metadata": {
        "id": "9ADM6m4pKTt4"
      },
      "source": [
        "#### c) Choose Breadth and two (2) other numeric attributes that you would like to focus and know more. Print descriptive statistics only for these."
      ]
    },
    {
      "cell_type": "code",
      "metadata": {
        "id": "ytlgwKkxKTt5"
      },
      "source": [
        "# Descriptive statistics for Breadth, Length and Speed\n",
        "\n",
        "new_dataframe['Breadth'].describe().astype (int)\n"
      ],
      "execution_count": null,
      "outputs": []
    },
    {
      "cell_type": "code",
      "metadata": {
        "id": "bFgJhJwHnuAE"
      },
      "source": [
        "# Descriptive statistics for Length \n",
        "\n",
        "\n",
        "new_dataframe['Length'].describe().astype (int)"
      ],
      "execution_count": null,
      "outputs": []
    },
    {
      "cell_type": "code",
      "metadata": {
        "id": "do9mErL0n91b"
      },
      "source": [
        "# Descriptive statistics for Speed\n",
        "\n",
        "\n",
        "new_dataframe['Speed'].describe().astype (int)"
      ],
      "execution_count": null,
      "outputs": []
    },
    {
      "cell_type": "code",
      "metadata": {
        "id": "QayjxtERn3l9"
      },
      "source": [
        ""
      ],
      "execution_count": null,
      "outputs": []
    },
    {
      "cell_type": "markdown",
      "metadata": {
        "id": "xsnl__7gKTt8"
      },
      "source": [
        "#### d) Descriptive statistics by Ship_type\n",
        "Print the descriptive statistics now by each ship type for those three attributes used in the previous task.<br>\n",
        "Tip! A wide Pandas table can be easily rotated using transpose, for better readability in the jupyter notebook.<br>\n",
        "\n",
        "Questions: How many ship types there are? Which Ship type has the largest breadth?"
      ]
    },
    {
      "cell_type": "code",
      "metadata": {
        "id": "bx0oQRXmKTt8"
      },
      "source": [
        "# Descriptive statistics by each ship type for the three attributes Breadth, Length and Speed\n",
        "\n",
        "#new_dataframe.groupby(by=['Ship_type'])\n",
        "\n",
        "new_dataframe.groupby('Ship_type')['Breadth','Length','Speed'].describe().transpose().astype (int)"
      ],
      "execution_count": null,
      "outputs": []
    },
    {
      "cell_type": "markdown",
      "metadata": {
        "id": "d_3BvJmCKTt_"
      },
      "source": [
        "There are three ship types, The ship with the largest breadth is Tanker with maximum breadth of 48"
      ]
    },
    {
      "cell_type": "markdown",
      "metadata": {
        "id": "TfrZsswvKTuA"
      },
      "source": [
        "## 7. Attribute value distributions\n",
        "#### a) Plot four histrograms of the Breadth using the Sturges', Scott's, square root and Freedman-Diaconis' methods to determine the number of bins. How are the numbers of bins calculated? Compare the distributions of different ship types. Is this a feasible attribute for classification?"
      ]
    },
    {
      "cell_type": "code",
      "metadata": {
        "id": "f3r7LUkbJzX9"
      },
      "source": [
        "#To calculate the Histogram bin in four different methods\n",
        "\n",
        "np.histogram_bin_edges(new_dataframe['Breadth'],bins='sturges')\n",
        "np.histogram_bin_edges(new_dataframe['Breadth'],bins='scott')\n",
        "np.histogram_bin_edges(new_dataframe['Breadth'],bins='sqrt')\n",
        "np.histogram_bin_edges(new_dataframe['Breadth'],bins='fd')"
      ],
      "execution_count": null,
      "outputs": []
    },
    {
      "cell_type": "code",
      "metadata": {
        "id": "Aihv_aY4KTuA"
      },
      "source": [
        "\n",
        "#Breadth histogram using Sturges method\n",
        "hist_plot=new_dataframe['Breadth'].hist(bins='sturges')\n",
        "hist_plot.set_title('Breadth histogram using Sturges method')\n",
        "hist_plot.set_xlabel('value')\n",
        "hist_plot.set_ylabel('Frequency')\n",
        "\n",
        "fig = plt.figure(figsize = (10,15))\n"
      ],
      "execution_count": null,
      "outputs": []
    },
    {
      "cell_type": "code",
      "metadata": {
        "id": "z54nr3DcGk4U"
      },
      "source": [
        "#Breadth histogram using Scott's method\n",
        "hist_plot=new_dataframe['Breadth'].hist(bins='scott')\n",
        "hist_plot.set_title('Breadth histogram using Scott method')\n",
        "hist_plot.set_xlabel('value')\n",
        "hist_plot.set_ylabel('Frequency')\n",
        "\n",
        "fig = plt.figure(figsize = (10,15))"
      ],
      "execution_count": null,
      "outputs": []
    },
    {
      "cell_type": "code",
      "metadata": {
        "id": "pMJd6F0dHgXC"
      },
      "source": [
        "#Breadth histogram using square root method\n",
        "hist_plot=new_dataframe['Breadth'].hist(bins='sqrt')\n",
        "hist_plot.set_title('Breadth histogram using square root method')\n",
        "hist_plot.set_xlabel('value')\n",
        "hist_plot.set_ylabel('Frequency')\n",
        "\n",
        "fig = plt.figure(figsize = (10,15))"
      ],
      "execution_count": null,
      "outputs": []
    },
    {
      "cell_type": "code",
      "metadata": {
        "id": "vmAqVlw2FhNR"
      },
      "source": [
        "#Breadth histogram using Freedman method\n",
        "hist_plot=new_dataframe['Breadth'].hist(bins='fd')\n",
        "hist_plot.set_title('Breadth histogram using Freedman-Diaconis method')\n",
        "hist_plot.set_xlabel('value')\n",
        "hist_plot.set_ylabel('Frequency')\n",
        "\n",
        "fig = plt.figure(figsize = (10,15))"
      ],
      "execution_count": null,
      "outputs": []
    },
    {
      "cell_type": "markdown",
      "metadata": {
        "id": "sIyKy_0RKTuD"
      },
      "source": [
        "- Sturges only accounts for data size and Only optimal for gaussian data and underestimates number of bins for large non-gaussian datasets.\n",
        "\n",
        "- Scott is Less robust estimator that takes into account data variability and data size.\n",
        "\n",
        "- Square root estimator, prefered in Excel and other programs for its speed and simplicity.\n",
        "\n",
        "- Freedman-Diaconis is a robust estimator that takes into account data \n",
        "variability and data size.It is also resilient to outliers.\n",
        "\n",
        "\n"
      ]
    },
    {
      "cell_type": "code",
      "metadata": {
        "id": "-aCjZaKZFYJv"
      },
      "source": [
        ""
      ],
      "execution_count": null,
      "outputs": []
    },
    {
      "cell_type": "markdown",
      "metadata": {
        "id": "uAK-zmJiKTuE"
      },
      "source": [
        "#### b)\tExplain what a boxplot is. Plot them for the numeric attributes (excluding 'Origin') grouped by the ship type. Any outliers that require some action with the data?"
      ]
    },
    {
      "cell_type": "markdown",
      "metadata": {
        "id": "Rrnwxz2XKTuH"
      },
      "source": [
        "A box plot is a chart often used in explainatory data analysis to visually show the distribution of numerical data and skewness through displaying the data quantiles (or percentiles) and averages.\n",
        "\n",
        "It shows the five-number summary of a set of data consisting of the minimum score, first(lower) quartile, median, third(upper) quartile, and maximum score. It can also tell about outliers and what their values are\n",
        "\n",
        "![Box Plot.PNG](data:image/png;base64,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)\n",
        "\n",
        "Source:https://towardsdatascience.com/understanding-boxplots-5e2df7bcbd51"
      ]
    },
    {
      "cell_type": "code",
      "metadata": {
        "id": "kh2zzpYWKTuE"
      },
      "source": [
        "\n",
        "new_dataframe.boxplot(['Speed'], by='Ship_type', figsize=(5,5))  #Boxplot for attibute Speed for the 3 categories of ship\n",
        "                       \n"
      ],
      "execution_count": null,
      "outputs": []
    },
    {
      "cell_type": "code",
      "metadata": {
        "id": "qAancpxZRcHP"
      },
      "source": [
        "new_dataframe.boxplot(['COG'], by='Ship_type', figsize=(5,5))  #Boxplot for attibute COG for the 3 categories of ship"
      ],
      "execution_count": null,
      "outputs": []
    },
    {
      "cell_type": "code",
      "metadata": {
        "id": "FH6LUcmoSHki"
      },
      "source": [
        "new_dataframe.boxplot(['Breadth'], by='Ship_type', figsize=(5,5))  #Boxplot for attibute Breadth for the 3 categories of ship"
      ],
      "execution_count": null,
      "outputs": []
    },
    {
      "cell_type": "code",
      "metadata": {
        "id": "2me2SOf9SWaZ"
      },
      "source": [
        "new_dataframe.boxplot(['Length'], by='Ship_type', figsize=(7,7))   #Boxplot for attibute Length for the 3 categories of ship"
      ],
      "execution_count": null,
      "outputs": []
    },
    {
      "cell_type": "code",
      "metadata": {
        "id": "cnF8Dm1CeN-4"
      },
      "source": [
        "new_dataframe.boxplot(['Gross_tonnage'], by='Ship_type', figsize=(5,5))  #Boxplot for attibute Gross tonnage for the 3 categories of ship"
      ],
      "execution_count": null,
      "outputs": []
    },
    {
      "cell_type": "markdown",
      "metadata": {
        "id": "Dck8LnWATC0f"
      },
      "source": [
        "There are outliers that require actions. Looking at the boxplots COG and gross tonnage seems to have the most outliers compare to others."
      ]
    },
    {
      "cell_type": "markdown",
      "metadata": {
        "id": "2OVpTJ55KTuI"
      },
      "source": [
        "##  8. Relationships between attributes"
      ]
    },
    {
      "cell_type": "markdown",
      "metadata": {
        "id": "N0w5OgqZKTuI"
      },
      "source": [
        "### Pairplots"
      ]
    },
    {
      "cell_type": "markdown",
      "metadata": {
        "id": "HwnWWH4gKTuJ"
      },
      "source": [
        "#### a) Plot pairwise scatter plots of the numerical attributes. What kind of relationships can you see? Can you see any outliers? "
      ]
    },
    {
      "cell_type": "code",
      "metadata": {
        "scrolled": false,
        "id": "iMMiVRbcKTuK"
      },
      "source": [
        "# Pairwise scatter plots of the numerical attributes\n",
        "\n",
        "attributes = ['Breadth','Length','Speed','COG','Gross_tonnage']\n",
        " \n",
        "sns.pairplot(new_dataframe[attributes])\n",
        "\n",
        "#scatter_matrix(data['Breadth','Length','Speed','COG','Gross_tonnage'])"
      ],
      "execution_count": null,
      "outputs": []
    },
    {
      "cell_type": "markdown",
      "metadata": {
        "id": "_r1zA_EmKTuM"
      },
      "source": [
        "The pairwise plot for all the numeric attributes is made up of histogram and scatter diagram. we have few cases where data points are concentrated togther and few cases where they are dsiparsed, and a similar case for the hsitograms. There are outliers."
      ]
    },
    {
      "cell_type": "markdown",
      "metadata": {
        "id": "Mw_fK2lMKTuN"
      },
      "source": [
        "#### b) Make a new clean dataframe without outlier(s) (and include the most relevant attributes only, or limit to those in next tasks) "
      ]
    },
    {
      "cell_type": "code",
      "metadata": {
        "id": "JAp4Va-DKTuO"
      },
      "source": [
        "# Script here\n"
      ],
      "execution_count": null,
      "outputs": []
    },
    {
      "cell_type": "markdown",
      "metadata": {
        "id": "SOQcN3f1KTuQ"
      },
      "source": [
        "### Correlation and heatmap"
      ]
    },
    {
      "cell_type": "markdown",
      "metadata": {
        "id": "8OeA5RhUKTuS"
      },
      "source": [
        "#### c) What are Pearson's correlation, Spearman's rho and Kendall's tau? Calculate the correlation coefficient matrices. What kind of relationships there are between the attributes? Does the detected outlier affect the correlation? You can use heatmap to visualize the matrices and more easily see the strength of the relationship."
      ]
    },
    {
      "cell_type": "markdown",
      "metadata": {
        "id": "_whokSYQKTua"
      },
      "source": [
        "**Spearman's** r is a non-parametric version of the pearson correlation coefficient, where data must be ordinal, interval or ration. It returns a value from -1 to +1, where:\n",
        "\n",
        "+1 is a perfect positive correlation between ranks\n",
        "-1 is a perfect negative correlation bvetween ranks\n",
        "0 is no correlation between ranks\n",
        "\n",
        "Spearman's correlation coefficient\n",
        "\n",
        "![Spearman.PNG](data:image/png;base64,iVBORw0KGgoAAAANSUhEUgAAAHUAAAA2CAYAAAD5yNZ+AAAAAXNSR0IArs4c6QAAAARnQU1BAACxjwv8YQUAAAAJcEhZcwAADsMAAA7DAcdvqGQAAAJ5SURBVHhe7ZYBbsMgEATz/x/1J31FvtCKRitNKQeHY1wDN9IqMZiD3MhWHs/n80sJ5oP+lJA6OfSnhNTJoT8lpE4O/Skh9UIej8dPzoT+lJB6EZR5plj6U0LqPxBSL0CvxbzZHC/FwjN/FvSnbC+11eDSfEtawppvreuF/pStpXoafFROaV5jnn290J8SUh30SrCEMmdBf8q2UtVYb5Nb97COp95Z0J+ytVQ2vyWiNp/XadU6E/pTtn9SiVccycevFJqgPyWkgl6pvTVGQH9KSAWWEOvefLw0Nhr6U7aVmqAAS0ZpXPLy9brm+GjoT7mV1CubISgjR3Oe8P4roT/lFlLz5gR+6O+Vj3hSZ4f+XvkMqbNDf4opla9Dfh9JSO2H/pTqk5qL9aA1Vmq05oO/0J/ielKJR85R8rray0pwQGqJkc18t7Zkr5oS9Kd0S0205mqp0ZoP/kJ/SlHqfzV/BqnpjHc6J/0pXVJH/iDVHlX/DHi2u5yT/hTz9RvUCakLElJvzBE5I4SyZk99+lO2lvqO0LPEpjoK8danP2VbqUekUMCR9TVK9Tx70J8SUm9CSG2QmsGGlK5LtNaNpHamGvSnLPukqhn5Z6LWqNq6kVj7tPanP2VpqWyI9T2nts6D1luxsOZqaxL0p2zz+iW1BtbWjaR2phr0pywrlbSuhfe+EXjPlEN/ynJSLTEcLzXKs24k1j6t/elP2UJqqTGl+4i1bgTaq3SGFvSnLPtHqcVVwt4hpB7gzmK9Z6M/ZWupiTuK7TkT/SnbS50d+lNC6uTQnxJSJ4f+lJA6OfSnhNTJoT/ll9TIGgmpCyakLpiQumBC6nJ5fn0DQLLtfCY9dt0AAAAASUVORK5CYII=)\n",
        "\n",
        "Source: http://learntech.uwe.ac.uk/da/Default.aspx?pageid=1441\n",
        "\n",
        "where d2 is the squared differences between the pairs of ranks, and n is the number of pairs.\n",
        "\n",
        "\n"
      ]
    },
    {
      "cell_type": "markdown",
      "metadata": {
        "id": "XgikvycaKTuW"
      },
      "source": [
        "\n",
        "**Pearson correlation** also known as pearson product moment correlation (PPMC) shows the linear relationship between two sets of data. It measures the strength of the association between two varaibles.\n",
        "\n",
        "Pearson correlation coefficient\n",
        "![pearson.PNG](data:image/png;base64,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)\n",
        "Source: https://www.statisticshowto.com/probability-and-statistics/correlation-coefficient-formula/\n",
        "\n",
        "\n"
      ]
    },
    {
      "cell_type": "markdown",
      "metadata": {
        "id": "QWlV1eX-KTud"
      },
      "source": [
        "**Kendall's Tau** is a non-parametric measure of relationships between columns of ranked data. The Tau correlation coefficient returns a value of 0 to 1, where:\n",
        "\n",
        "0 is no relationship\n",
        "1 is a perfect relationship\n",
        "\n",
        "Kendall's tau = (C - D / C + D), where C is the number of concordant pairs and D is the number of discordant pairs       \n",
        "\n",
        "Explain your fidings here..."
      ]
    },
    {
      "cell_type": "code",
      "metadata": {
        "scrolled": true,
        "id": "9mR5fw-eKTuT"
      },
      "source": [
        "# Pearson's correlation coefficient for the numeric attributes\n",
        "\n",
        "corrrelation_pearson  = new_dataframe.corr(method=\"pearson\");\n",
        "\n",
        "print(\"Pearson correlation coefficient:\");\n",
        "\n",
        "print(corrrelation_pearson);\n",
        "\n",
        "sns.heatmap(corrrelation_pearson) # create heatmap\n"
      ],
      "execution_count": null,
      "outputs": []
    },
    {
      "cell_type": "code",
      "metadata": {
        "id": "qYQuQtfjKTuX"
      },
      "source": [
        "# Spearman's correlation coefficient for the numeric attributes\n",
        "\n",
        "corrrelation_spearman  = new_dataframe.corr(method=\"spearman\");\n",
        "\n",
        "print(\"Spearman rank correlation:\");\n",
        "\n",
        "print(corrrelation_spearman);\n",
        "\n",
        "sns.heatmap(corrrelation_spearman) # create heatmap\n"
      ],
      "execution_count": null,
      "outputs": []
    },
    {
      "cell_type": "code",
      "metadata": {
        "id": "7VqPcbWTKTub"
      },
      "source": [
        "# Kendall's correlation coefficient for the numeric attributes\n",
        "\n",
        "corrrelation_kendall  = new_dataframe.corr(method=\"kendall\");\n",
        "\n",
        "print(\"Kendall Tau correlation coefficient:\");\n",
        "\n",
        "print(corrrelation_kendall);\n",
        "\n",
        "sns.heatmap(corrrelation_kendall) # create heatmap"
      ],
      "execution_count": null,
      "outputs": []
    },
    {
      "cell_type": "markdown",
      "metadata": {
        "id": "jAI4gYWXKTue"
      },
      "source": [
        "## BONUS: Dimensionality reduction"
      ]
    },
    {
      "cell_type": "markdown",
      "metadata": {
        "id": "hbMp0CC9KTue"
      },
      "source": [
        "#### Explain what principal component analysis is. Do that with and without z-score standardization. Visualize the results with a scatter plot by projecting the data to the first two principal components. How much of the variation is explained with the two principal components?"
      ]
    },
    {
      "cell_type": "markdown",
      "metadata": {
        "id": "xtr8AaEDKTuf"
      },
      "source": [
        "**Principal Component Analysis(PCA)** is an algorithm for linear dimensionality reduction. It is used to compress and visualize data, It can also be used for identification of simple patterns, latent factors and structures of high-dimensional data. Considering a data point, the aim of PCA is to find a projection that is similar to the original datapoint as possible, but have a significantly lower true dimensionality. "
      ]
    },
    {
      "cell_type": "code",
      "metadata": {
        "scrolled": true,
        "id": "V7UxJ_GiKTuf"
      },
      "source": [
        "# Script here\n"
      ],
      "execution_count": null,
      "outputs": []
    },
    {
      "cell_type": "markdown",
      "metadata": {
        "id": "RlpURYfJKTui"
      },
      "source": [
        "Findings here..."
      ]
    },
    {
      "cell_type": "markdown",
      "metadata": {
        "id": "BWKjvFXc82UP"
      },
      "source": [
        "**References**\n",
        "1. https://simplypsychology.org/boxplots.html\n",
        "\n",
        "2. https://datatofish.com/python-tutorials/\n",
        "\n",
        "3. https://towardsdatascience.com/understanding-boxplots-5e2df7bcbd51\n",
        "\n",
        "4. https://towardsdatascience.com/visualizing-data-with-pair-plots-in-python-f228cf529166\n",
        "\n",
        "5. https://www.statisticshowto.com/kendalls-tau/\n",
        "\n",
        "6. https://numpy.org/doc/stable/reference/generated/numpy.histogram_bin_edges.html#numpy.histogram_bin_edges\n",
        "\n",
        "7. https://pythontic.com/pandas/dataframe-computations/correlation\n",
        "\n",
        "8. https://www.datasciencemadesimple.com/python-pandas-tutorial/\n",
        "\n",
        "9. https://www.marinetraffic.com/blog/information-transmitted-via-ais-signal/\n",
        "\n",
        "10. https://www.diva-portal.org/smash/get/diva2:833998/FULLTEXT01.pdf\n",
        "11. https://www.marinetraffic.com/en/data/\n",
        "\n"
      ]
    },
    {
      "cell_type": "code",
      "metadata": {
        "id": "ZBSTeQTpFouv"
      },
      "source": [
        "!wget -nc https://raw.githubusercontent.com/brpy/colab-pdf/master/colab_pdf.py\n",
        "from colab_pdf import colab_pdf\n",
        "colab_pdf('DADK2020_exercises2.ipynb')"
      ],
      "execution_count": null,
      "outputs": []
    }
  ]
}