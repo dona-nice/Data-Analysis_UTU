{
  "nbformat": 4,
  "nbformat_minor": 0,
  "metadata": {
    "colab": {
      "name": "DAKD2020Exercises1.ipynb",
      "provenance": [],
      "collapsed_sections": [],
      "include_colab_link": true
    },
    "kernelspec": {
      "display_name": "Python 3",
      "language": "python",
      "name": "python3"
    },
    "language_info": {
      "codemirror_mode": {
        "name": "ipython",
        "version": 3
      },
      "file_extension": ".py",
      "mimetype": "text/x-python",
      "name": "python",
      "nbconvert_exporter": "python",
      "pygments_lexer": "ipython3",
      "version": "3.7.6"
    }
  },
  "cells": [
    {
      "cell_type": "markdown",
      "metadata": {
        "id": "view-in-github",
        "colab_type": "text"
      },
      "source": [
        "<a href=\"https://colab.research.google.com/github/dona-nice/Data-Analysis_UTU/blob/main/DAKD2020Exercises1.ipynb\" target=\"_parent\"><img src=\"https://colab.research.google.com/assets/colab-badge.svg\" alt=\"Open In Colab\"/></a>"
      ]
    },
    {
      "cell_type": "markdown",
      "metadata": {
        "id": "rDSIdFtWYpFc"
      },
      "source": [
        "## Exercises 1                 \n",
        "\n",
        "# Donatus Edeh\n",
        "\n",
        "(Optional) If you are using Google Colab, start again with uploading the required files 'exercise_data.csv'."
      ]
    },
    {
      "cell_type": "code",
      "metadata": {
        "id": "uNTBQ4NHYYh_",
        "outputId": "69174786-eff4-4dc5-8925-99293bdeaf56",
        "colab": {
          "resources": {
            "http://localhost:8080/nbextensions/google.colab/files.js": {
              "data": "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",
              "ok": true,
              "headers": [
                [
                  "content-type",
                  "application/javascript"
                ]
              ],
              "status": 200,
              "status_text": ""
            }
          },
          "base_uri": "https://localhost:8080/",
          "height": 72
        }
      },
      "source": [
        "from google.colab import files\n",
        "uploaded = files.upload()"
      ],
      "execution_count": null,
      "outputs": [
        {
          "output_type": "display_data",
          "data": {
            "text/html": [
              "\n",
              "     <input type=\"file\" id=\"files-4f902d6e-b19d-4483-b642-738cc5814daa\" name=\"files[]\" multiple disabled\n",
              "        style=\"border:none\" />\n",
              "     <output id=\"result-4f902d6e-b19d-4483-b642-738cc5814daa\">\n",
              "      Upload widget is only available when the cell has been executed in the\n",
              "      current browser session. Please rerun this cell to enable.\n",
              "      </output>\n",
              "      <script src=\"/nbextensions/google.colab/files.js\"></script> "
            ],
            "text/plain": [
              "<IPython.core.display.HTML object>"
            ]
          },
          "metadata": {
            "tags": []
          }
        },
        {
          "output_type": "stream",
          "text": [
            "Saving exercise_data.csv to exercise_data (1).csv\n"
          ],
          "name": "stdout"
        }
      ]
    },
    {
      "cell_type": "markdown",
      "metadata": {
        "id": "vNrsmeEZRPKa"
      },
      "source": [
        "Use the included data matrix 'exercise_data.csv'. Solve the following exercises.\n",
        "\n",
        "1. Load the data into a Pandas data frame.\n",
        "1. Find all objects of class 1 whose height is over 25 units. Print all of their attributes. *Hint*: you can combine the results of two comparisons using the '&' operator (class is 1 *and* height is over 25). Parentheses may be needed.\n",
        "1. Compute the mean of each attribute for the whole data.\n",
        "1. Make a plot of weights (y axis) vs. heights (x axis).\n",
        "1. Make a plot of weights (y axis) vs. \"size\" (=$height \\cdot width^2$, x axis).\n",
        "1. Like 4-5 but limited to objects of class 1.\n",
        "1. Do you see anything interesting in the plots?"
      ]
    },
    {
      "cell_type": "code",
      "metadata": {
        "id": "AHWRFqW9RPKb",
        "scrolled": true,
        "outputId": "3a18f8e2-5932-4135-ca12-4094ef0b043f",
        "colab": {
          "base_uri": "https://localhost:8080/"
        }
      },
      "source": [
        "# 1 Import the loaded CSV file into Pandas data frame\n",
        "\n",
        "import pandas as pd\n",
        "# Way 1: from a file\n",
        "df1 = pd.read_csv('exercise_data.csv')\n",
        "# Way 2: from a NumPy array\n",
        "#df2 = pd.DataFrame(orig_data, columns=col_names)\n",
        "print(df1.dtypes)\n",
        "print(df1)"
      ],
      "execution_count": null,
      "outputs": [
        {
          "output_type": "stream",
          "text": [
            "Unnamed: 0      int64\n",
            "height        float64\n",
            "width         float64\n",
            "weight        float64\n",
            "class           int64\n",
            "dtype: object\n",
            "     Unnamed: 0     height     width      weight  class\n",
            "0             0  18.022890  5.182596   50.527110      1\n",
            "1             1  16.194651  4.383156   28.829918      1\n",
            "2             2  18.150373  4.556691   38.565482      1\n",
            "3             3  13.846924  3.798662   16.413877      1\n",
            "4             4  27.364656  7.777790  166.997659      1\n",
            "..          ...        ...       ...         ...    ...\n",
            "124         124  14.394126  1.623162   20.133995      3\n",
            "125         125  14.715369  1.571027   18.098519      3\n",
            "126         126  14.995934  1.613972   20.634388      3\n",
            "127         127  14.345058  1.604480   18.507403      3\n",
            "128         128  14.879172  1.675843   20.413188      3\n",
            "\n",
            "[129 rows x 5 columns]\n"
          ],
          "name": "stdout"
        }
      ]
    },
    {
      "cell_type": "code",
      "metadata": {
        "id": "t3BzyT_0RPKh",
        "outputId": "d15236f9-b916-427a-b5c8-2ffe3ddf4332",
        "colab": {
          "base_uri": "https://localhost:8080/"
        }
      },
      "source": [
        "# 2 Quarying height attribute with values greater than 25 in class 1\n",
        "\n",
        "df2 = pd.DataFrame(df1,columns=['height','width','weight','size''class'])\n",
        "\n",
        "df3=df1[(df1['class'] == 1) & (df1['height'] > 25)]\n",
        "\n",
        "print(df3)\n",
        "\n"
      ],
      "execution_count": null,
      "outputs": [
        {
          "output_type": "stream",
          "text": [
            "    Unnamed: 0     height     width      weight  class\n",
            "4            4  27.364656  7.777790  166.997659      1\n",
            "16          16  25.640493  6.852879  122.388594      1\n",
            "21          21  25.343498  7.226682  135.671038      1\n",
            "33          33  26.893780  7.624959  164.284870      1\n",
            "44          44  32.085549  9.016029  263.542786      1\n"
          ],
          "name": "stdout"
        }
      ]
    },
    {
      "cell_type": "code",
      "metadata": {
        "id": "ZfD-wN4IRPKn",
        "outputId": "da518434-8870-4399-8831-80e59ca008be",
        "colab": {
          "base_uri": "https://localhost:8080/"
        }
      },
      "source": [
        "# 3  Calculating Mean values for each attribute\n",
        "\n",
        "print(df1.mean())  #Mean of each attribute considering the whole table at once\n",
        "\n",
        "#Considering atttribute  individually in the whole table\n",
        "Height_Mean = df1.height.mean()\n",
        "Width_Mean = df1.width.mean()\n",
        "Weight_Mean = df1.weight.mean()\n",
        "\n",
        "print('Height_Mean = ', Height_Mean)\n",
        "print('Width_Mean = ', Width_Mean)\n",
        "print('Weight_Mean = ', Weight_Mean)"
      ],
      "execution_count": null,
      "outputs": [
        {
          "output_type": "stream",
          "text": [
            "Unnamed: 0     64.000000\n",
            "height         31.938985\n",
            "width          15.431009\n",
            "weight        735.292601\n",
            "class           1.860465\n",
            "dtype: float64\n",
            "Height_Mean =  31.938984766908135\n",
            "Width_Mean =  15.431008510951402\n",
            "Weight_Mean =  735.2926012543849\n"
          ],
          "name": "stdout"
        }
      ]
    },
    {
      "cell_type": "code",
      "metadata": {
        "id": "XT1_G5O1RPKq",
        "outputId": "b5bd534a-0afc-4756-d2b2-aa4099ce1582",
        "colab": {
          "base_uri": "https://localhost:8080/",
          "height": 573
        }
      },
      "source": [
        "# 4 ploting the graph of weight versus height\n",
        "\n",
        "import matplotlib.pyplot as plt                   \n",
        "\n",
        "plt.scatter(df1['height'], df1['weight'])\n",
        "plt.title('weight versus height')\n",
        "plt.xlabel('height (cm)')\n",
        "plt.ylabel('weight (kg)')\n",
        "plt.show()\n",
        "\n",
        "plt.plot(df1['height'], df1['weight'], '*')\n",
        "plt.title('weight versus height')\n",
        "plt.xlabel('height (cm)')\n",
        "plt.ylabel('weight (kg)')\n",
        "plt.show()"
      ],
      "execution_count": null,
      "outputs": [
        {
          "output_type": "display_data",
          "data": {
            "image/png": "[encoded data removed]",
            "text/plain": [
              "<Figure size 432x288 with 1 Axes>"
            ]
          },
          "metadata": {
            "tags": [],
            "needs_background": "light"
          }
        },
        {
          "output_type": "display_data",
          "data": {
            "image/png": "[encoded data removed]",
            "text/plain": [
              "<Figure size 432x288 with 1 Axes>"
            ]
          },
          "metadata": {
            "tags": [],
            "needs_background": "light"
          }
        }
      ]
    },
    {
      "cell_type": "code",
      "metadata": {
        "id": "e4AuqUARRPKt",
        "outputId": "696a6545-b62a-4e62-e214-296d00c39ab1",
        "colab": {
          "base_uri": "https://localhost:8080/",
          "height": 533
        }
      },
      "source": [
        "# 5 Computing for size and then ploting the graph of weight versus size\n",
        "\n",
        "df1['size'] = df1['height'] * (df1['width'] ** 2)\n",
        "print(df1)\n",
        "\n",
        "plt.scatter(df1['weight'], df1['size'])\n",
        "plt.title('weight versus size')\n",
        "plt.xlabel('size (cm)')\n",
        "plt.ylabel('weight (kg)')\n",
        "plt.show()"
      ],
      "execution_count": null,
      "outputs": [
        {
          "output_type": "stream",
          "text": [
            "     Unnamed: 0     height     width      weight  class         size\n",
            "0             0  18.022890  5.182596   50.527110      1   484.082261\n",
            "1             1  16.194651  4.383156   28.829918      1   311.132572\n",
            "2             2  18.150373  4.556691   38.565482      1   376.864049\n",
            "3             3  13.846924  3.798662   16.413877      1   199.808814\n",
            "4             4  27.364656  7.777790  166.997659      1  1655.397828\n",
            "..          ...        ...       ...         ...    ...          ...\n",
            "124         124  14.394126  1.623162   20.133995      3    37.923565\n",
            "125         125  14.715369  1.571027   18.098519      3    36.319399\n",
            "126         126  14.995934  1.613972   20.634388      3    39.063016\n",
            "127         127  14.345058  1.604480   18.507403      3    36.929265\n",
            "128         128  14.879172  1.675843   20.413188      3    41.787394\n",
            "\n",
            "[129 rows x 6 columns]\n"
          ],
          "name": "stdout"
        },
        {
          "output_type": "display_data",
          "data": {
            "image/png": "[encoded data removed]",
            "text/plain": [
              "<Figure size 432x288 with 1 Axes>"
            ]
          },
          "metadata": {
            "tags": [],
            "needs_background": "light"
          }
        }
      ]
    },
    {
      "cell_type": "code",
      "metadata": {
        "id": "JBroLJuuRPKw",
        "outputId": "ce6ed570-7ea2-4d18-bd34-a720cee9728a",
        "colab": {
          "base_uri": "https://localhost:8080/",
          "height": 1000
        }
      },
      "source": [
        "# 6  attribute for class 1 only\n",
        "\n",
        "\n",
        "df4=df1[(df1['class'] == 1)]\n",
        "\n",
        "df4"
      ],
      "execution_count": null,
      "outputs": [
        {
          "output_type": "execute_result",
          "data": {
            "text/html": [
              "<div>\n",
              "<style scoped>\n",
              "    .dataframe tbody tr th:only-of-type {\n",
              "        vertical-align: middle;\n",
              "    }\n",
              "\n",
              "    .dataframe tbody tr th {\n",
              "        vertical-align: top;\n",
              "    }\n",
              "\n",
              "    .dataframe thead th {\n",
              "        text-align: right;\n",
              "    }\n",
              "</style>\n",
              "<table border=\"1\" class=\"dataframe\">\n",
              "  <thead>\n",
              "    <tr style=\"text-align: right;\">\n",
              "      <th></th>\n",
              "      <th>Unnamed: 0</th>\n",
              "      <th>height</th>\n",
              "      <th>width</th>\n",
              "      <th>weight</th>\n",
              "      <th>class</th>\n",
              "      <th>size</th>\n",
              "    </tr>\n",
              "  </thead>\n",
              "  <tbody>\n",
              "    <tr>\n",
              "      <th>0</th>\n",
              "      <td>0</td>\n",
              "      <td>18.022890</td>\n",
              "      <td>5.182596</td>\n",
              "      <td>50.527110</td>\n",
              "      <td>1</td>\n",
              "      <td>484.082261</td>\n",
              "    </tr>\n",
              "    <tr>\n",
              "      <th>1</th>\n",
              "      <td>1</td>\n",
              "      <td>16.194651</td>\n",
              "      <td>4.383156</td>\n",
              "      <td>28.829918</td>\n",
              "      <td>1</td>\n",
              "      <td>311.132572</td>\n",
              "    </tr>\n",
              "    <tr>\n",
              "      <th>2</th>\n",
              "      <td>2</td>\n",
              "      <td>18.150373</td>\n",
              "      <td>4.556691</td>\n",
              "      <td>38.565482</td>\n",
              "      <td>1</td>\n",
              "      <td>376.864049</td>\n",
              "    </tr>\n",
              "    <tr>\n",
              "      <th>3</th>\n",
              "      <td>3</td>\n",
              "      <td>13.846924</td>\n",
              "      <td>3.798662</td>\n",
              "      <td>16.413877</td>\n",
              "      <td>1</td>\n",
              "      <td>199.808814</td>\n",
              "    </tr>\n",
              "    <tr>\n",
              "      <th>4</th>\n",
              "      <td>4</td>\n",
              "      <td>27.364656</td>\n",
              "      <td>7.777790</td>\n",
              "      <td>166.997659</td>\n",
              "      <td>1</td>\n",
              "      <td>1655.397828</td>\n",
              "    </tr>\n",
              "    <tr>\n",
              "      <th>5</th>\n",
              "      <td>5</td>\n",
              "      <td>23.024937</td>\n",
              "      <td>5.763639</td>\n",
              "      <td>82.780921</td>\n",
              "      <td>1</td>\n",
              "      <td>764.877681</td>\n",
              "    </tr>\n",
              "    <tr>\n",
              "      <th>6</th>\n",
              "      <td>6</td>\n",
              "      <td>20.946903</td>\n",
              "      <td>5.595051</td>\n",
              "      <td>55.607831</td>\n",
              "      <td>1</td>\n",
              "      <td>655.734393</td>\n",
              "    </tr>\n",
              "    <tr>\n",
              "      <th>7</th>\n",
              "      <td>7</td>\n",
              "      <td>21.672253</td>\n",
              "      <td>5.685999</td>\n",
              "      <td>70.678109</td>\n",
              "      <td>1</td>\n",
              "      <td>700.676473</td>\n",
              "    </tr>\n",
              "    <tr>\n",
              "      <th>8</th>\n",
              "      <td>8</td>\n",
              "      <td>20.865806</td>\n",
              "      <td>5.476297</td>\n",
              "      <td>64.665380</td>\n",
              "      <td>1</td>\n",
              "      <td>625.761883</td>\n",
              "    </tr>\n",
              "    <tr>\n",
              "      <th>9</th>\n",
              "      <td>9</td>\n",
              "      <td>21.653395</td>\n",
              "      <td>5.559328</td>\n",
              "      <td>66.614923</td>\n",
              "      <td>1</td>\n",
              "      <td>669.222665</td>\n",
              "    </tr>\n",
              "    <tr>\n",
              "      <th>10</th>\n",
              "      <td>10</td>\n",
              "      <td>21.040381</td>\n",
              "      <td>5.806486</td>\n",
              "      <td>74.174297</td>\n",
              "      <td>1</td>\n",
              "      <td>709.382241</td>\n",
              "    </tr>\n",
              "    <tr>\n",
              "      <th>11</th>\n",
              "      <td>11</td>\n",
              "      <td>16.545487</td>\n",
              "      <td>5.037488</td>\n",
              "      <td>45.527832</td>\n",
              "      <td>1</td>\n",
              "      <td>419.862986</td>\n",
              "    </tr>\n",
              "    <tr>\n",
              "      <th>12</th>\n",
              "      <td>12</td>\n",
              "      <td>18.630705</td>\n",
              "      <td>5.534190</td>\n",
              "      <td>59.139900</td>\n",
              "      <td>1</td>\n",
              "      <td>570.607439</td>\n",
              "    </tr>\n",
              "    <tr>\n",
              "      <th>13</th>\n",
              "      <td>13</td>\n",
              "      <td>19.888383</td>\n",
              "      <td>5.012938</td>\n",
              "      <td>46.495524</td>\n",
              "      <td>1</td>\n",
              "      <td>499.786158</td>\n",
              "    </tr>\n",
              "    <tr>\n",
              "      <th>14</th>\n",
              "      <td>14</td>\n",
              "      <td>13.648524</td>\n",
              "      <td>4.281629</td>\n",
              "      <td>21.933470</td>\n",
              "      <td>1</td>\n",
              "      <td>250.209513</td>\n",
              "    </tr>\n",
              "    <tr>\n",
              "      <th>15</th>\n",
              "      <td>15</td>\n",
              "      <td>17.219575</td>\n",
              "      <td>5.164367</td>\n",
              "      <td>43.716084</td>\n",
              "      <td>1</td>\n",
              "      <td>459.257952</td>\n",
              "    </tr>\n",
              "    <tr>\n",
              "      <th>16</th>\n",
              "      <td>16</td>\n",
              "      <td>25.640493</td>\n",
              "      <td>6.852879</td>\n",
              "      <td>122.388594</td>\n",
              "      <td>1</td>\n",
              "      <td>1204.127752</td>\n",
              "    </tr>\n",
              "    <tr>\n",
              "      <th>17</th>\n",
              "      <td>17</td>\n",
              "      <td>14.176735</td>\n",
              "      <td>3.905988</td>\n",
              "      <td>25.901617</td>\n",
              "      <td>1</td>\n",
              "      <td>216.290831</td>\n",
              "    </tr>\n",
              "    <tr>\n",
              "      <th>18</th>\n",
              "      <td>18</td>\n",
              "      <td>15.299800</td>\n",
              "      <td>4.823480</td>\n",
              "      <td>34.984357</td>\n",
              "      <td>1</td>\n",
              "      <td>355.964566</td>\n",
              "    </tr>\n",
              "    <tr>\n",
              "      <th>19</th>\n",
              "      <td>19</td>\n",
              "      <td>14.498676</td>\n",
              "      <td>3.663248</td>\n",
              "      <td>19.122455</td>\n",
              "      <td>1</td>\n",
              "      <td>194.563346</td>\n",
              "    </tr>\n",
              "    <tr>\n",
              "      <th>20</th>\n",
              "      <td>20</td>\n",
              "      <td>13.790650</td>\n",
              "      <td>3.616781</td>\n",
              "      <td>24.824683</td>\n",
              "      <td>1</td>\n",
              "      <td>180.396931</td>\n",
              "    </tr>\n",
              "    <tr>\n",
              "      <th>21</th>\n",
              "      <td>21</td>\n",
              "      <td>25.343498</td>\n",
              "      <td>7.226682</td>\n",
              "      <td>135.671038</td>\n",
              "      <td>1</td>\n",
              "      <td>1323.562654</td>\n",
              "    </tr>\n",
              "    <tr>\n",
              "      <th>22</th>\n",
              "      <td>22</td>\n",
              "      <td>17.684791</td>\n",
              "      <td>4.462746</td>\n",
              "      <td>43.785033</td>\n",
              "      <td>1</td>\n",
              "      <td>352.212118</td>\n",
              "    </tr>\n",
              "    <tr>\n",
              "      <th>23</th>\n",
              "      <td>23</td>\n",
              "      <td>11.220803</td>\n",
              "      <td>3.044243</td>\n",
              "      <td>4.815767</td>\n",
              "      <td>1</td>\n",
              "      <td>103.987855</td>\n",
              "    </tr>\n",
              "    <tr>\n",
              "      <th>24</th>\n",
              "      <td>24</td>\n",
              "      <td>16.130128</td>\n",
              "      <td>4.355229</td>\n",
              "      <td>31.479674</td>\n",
              "      <td>1</td>\n",
              "      <td>305.956580</td>\n",
              "    </tr>\n",
              "    <tr>\n",
              "      <th>25</th>\n",
              "      <td>25</td>\n",
              "      <td>24.402329</td>\n",
              "      <td>6.730856</td>\n",
              "      <td>109.415233</td>\n",
              "      <td>1</td>\n",
              "      <td>1105.533404</td>\n",
              "    </tr>\n",
              "    <tr>\n",
              "      <th>26</th>\n",
              "      <td>26</td>\n",
              "      <td>15.671380</td>\n",
              "      <td>4.244098</td>\n",
              "      <td>22.789253</td>\n",
              "      <td>1</td>\n",
              "      <td>282.278650</td>\n",
              "    </tr>\n",
              "    <tr>\n",
              "      <th>27</th>\n",
              "      <td>27</td>\n",
              "      <td>14.009284</td>\n",
              "      <td>4.265111</td>\n",
              "      <td>24.888664</td>\n",
              "      <td>1</td>\n",
              "      <td>254.845241</td>\n",
              "    </tr>\n",
              "    <tr>\n",
              "      <th>28</th>\n",
              "      <td>28</td>\n",
              "      <td>24.293541</td>\n",
              "      <td>7.018099</td>\n",
              "      <td>119.213154</td>\n",
              "      <td>1</td>\n",
              "      <td>1196.546962</td>\n",
              "    </tr>\n",
              "    <tr>\n",
              "      <th>29</th>\n",
              "      <td>29</td>\n",
              "      <td>22.301030</td>\n",
              "      <td>6.417562</td>\n",
              "      <td>81.422877</td>\n",
              "      <td>1</td>\n",
              "      <td>918.470221</td>\n",
              "    </tr>\n",
              "    <tr>\n",
              "      <th>30</th>\n",
              "      <td>30</td>\n",
              "      <td>17.203554</td>\n",
              "      <td>4.833644</td>\n",
              "      <td>42.704762</td>\n",
              "      <td>1</td>\n",
              "      <td>401.945813</td>\n",
              "    </tr>\n",
              "    <tr>\n",
              "      <th>31</th>\n",
              "      <td>31</td>\n",
              "      <td>16.747636</td>\n",
              "      <td>4.787370</td>\n",
              "      <td>33.942098</td>\n",
              "      <td>1</td>\n",
              "      <td>383.837551</td>\n",
              "    </tr>\n",
              "    <tr>\n",
              "      <th>32</th>\n",
              "      <td>32</td>\n",
              "      <td>14.045168</td>\n",
              "      <td>3.871381</td>\n",
              "      <td>26.406117</td>\n",
              "      <td>1</td>\n",
              "      <td>210.503259</td>\n",
              "    </tr>\n",
              "    <tr>\n",
              "      <th>33</th>\n",
              "      <td>33</td>\n",
              "      <td>26.893780</td>\n",
              "      <td>7.624959</td>\n",
              "      <td>164.284870</td>\n",
              "      <td>1</td>\n",
              "      <td>1563.604154</td>\n",
              "    </tr>\n",
              "    <tr>\n",
              "      <th>34</th>\n",
              "      <td>34</td>\n",
              "      <td>19.683282</td>\n",
              "      <td>5.677329</td>\n",
              "      <td>64.517022</td>\n",
              "      <td>1</td>\n",
              "      <td>634.432706</td>\n",
              "    </tr>\n",
              "    <tr>\n",
              "      <th>35</th>\n",
              "      <td>35</td>\n",
              "      <td>17.160928</td>\n",
              "      <td>4.614765</td>\n",
              "      <td>27.381884</td>\n",
              "      <td>1</td>\n",
              "      <td>365.460163</td>\n",
              "    </tr>\n",
              "    <tr>\n",
              "      <th>36</th>\n",
              "      <td>36</td>\n",
              "      <td>10.873980</td>\n",
              "      <td>3.664042</td>\n",
              "      <td>19.106604</td>\n",
              "      <td>1</td>\n",
              "      <td>145.985382</td>\n",
              "    </tr>\n",
              "    <tr>\n",
              "      <th>37</th>\n",
              "      <td>37</td>\n",
              "      <td>22.697160</td>\n",
              "      <td>6.013273</td>\n",
              "      <td>82.390075</td>\n",
              "      <td>1</td>\n",
              "      <td>820.716755</td>\n",
              "    </tr>\n",
              "    <tr>\n",
              "      <th>38</th>\n",
              "      <td>38</td>\n",
              "      <td>17.550089</td>\n",
              "      <td>4.987791</td>\n",
              "      <td>38.228799</td>\n",
              "      <td>1</td>\n",
              "      <td>436.612106</td>\n",
              "    </tr>\n",
              "    <tr>\n",
              "      <th>39</th>\n",
              "      <td>39</td>\n",
              "      <td>20.367272</td>\n",
              "      <td>5.336115</td>\n",
              "      <td>51.542504</td>\n",
              "      <td>1</td>\n",
              "      <td>579.940179</td>\n",
              "    </tr>\n",
              "    <tr>\n",
              "      <th>40</th>\n",
              "      <td>40</td>\n",
              "      <td>17.017840</td>\n",
              "      <td>4.601311</td>\n",
              "      <td>29.444537</td>\n",
              "      <td>1</td>\n",
              "      <td>360.302784</td>\n",
              "    </tr>\n",
              "    <tr>\n",
              "      <th>41</th>\n",
              "      <td>41</td>\n",
              "      <td>22.919260</td>\n",
              "      <td>5.911861</td>\n",
              "      <td>86.366740</td>\n",
              "      <td>1</td>\n",
              "      <td>801.030364</td>\n",
              "    </tr>\n",
              "    <tr>\n",
              "      <th>42</th>\n",
              "      <td>42</td>\n",
              "      <td>14.073730</td>\n",
              "      <td>4.194728</td>\n",
              "      <td>24.101687</td>\n",
              "      <td>1</td>\n",
              "      <td>247.637791</td>\n",
              "    </tr>\n",
              "    <tr>\n",
              "      <th>43</th>\n",
              "      <td>43</td>\n",
              "      <td>15.843278</td>\n",
              "      <td>3.993436</td>\n",
              "      <td>23.752655</td>\n",
              "      <td>1</td>\n",
              "      <td>252.661221</td>\n",
              "    </tr>\n",
              "    <tr>\n",
              "      <th>44</th>\n",
              "      <td>44</td>\n",
              "      <td>32.085549</td>\n",
              "      <td>9.016029</td>\n",
              "      <td>263.542786</td>\n",
              "      <td>1</td>\n",
              "      <td>2608.195062</td>\n",
              "    </tr>\n",
              "  </tbody>\n",
              "</table>\n",
              "</div>"
            ],
            "text/plain": [
              "    Unnamed: 0     height     width      weight  class         size\n",
              "0            0  18.022890  5.182596   50.527110      1   484.082261\n",
              "1            1  16.194651  4.383156   28.829918      1   311.132572\n",
              "2            2  18.150373  4.556691   38.565482      1   376.864049\n",
              "3            3  13.846924  3.798662   16.413877      1   199.808814\n",
              "4            4  27.364656  7.777790  166.997659      1  1655.397828\n",
              "5            5  23.024937  5.763639   82.780921      1   764.877681\n",
              "6            6  20.946903  5.595051   55.607831      1   655.734393\n",
              "7            7  21.672253  5.685999   70.678109      1   700.676473\n",
              "8            8  20.865806  5.476297   64.665380      1   625.761883\n",
              "9            9  21.653395  5.559328   66.614923      1   669.222665\n",
              "10          10  21.040381  5.806486   74.174297      1   709.382241\n",
              "11          11  16.545487  5.037488   45.527832      1   419.862986\n",
              "12          12  18.630705  5.534190   59.139900      1   570.607439\n",
              "13          13  19.888383  5.012938   46.495524      1   499.786158\n",
              "14          14  13.648524  4.281629   21.933470      1   250.209513\n",
              "15          15  17.219575  5.164367   43.716084      1   459.257952\n",
              "16          16  25.640493  6.852879  122.388594      1  1204.127752\n",
              "17          17  14.176735  3.905988   25.901617      1   216.290831\n",
              "18          18  15.299800  4.823480   34.984357      1   355.964566\n",
              "19          19  14.498676  3.663248   19.122455      1   194.563346\n",
              "20          20  13.790650  3.616781   24.824683      1   180.396931\n",
              "21          21  25.343498  7.226682  135.671038      1  1323.562654\n",
              "22          22  17.684791  4.462746   43.785033      1   352.212118\n",
              "23          23  11.220803  3.044243    4.815767      1   103.987855\n",
              "24          24  16.130128  4.355229   31.479674      1   305.956580\n",
              "25          25  24.402329  6.730856  109.415233      1  1105.533404\n",
              "26          26  15.671380  4.244098   22.789253      1   282.278650\n",
              "27          27  14.009284  4.265111   24.888664      1   254.845241\n",
              "28          28  24.293541  7.018099  119.213154      1  1196.546962\n",
              "29          29  22.301030  6.417562   81.422877      1   918.470221\n",
              "30          30  17.203554  4.833644   42.704762      1   401.945813\n",
              "31          31  16.747636  4.787370   33.942098      1   383.837551\n",
              "32          32  14.045168  3.871381   26.406117      1   210.503259\n",
              "33          33  26.893780  7.624959  164.284870      1  1563.604154\n",
              "34          34  19.683282  5.677329   64.517022      1   634.432706\n",
              "35          35  17.160928  4.614765   27.381884      1   365.460163\n",
              "36          36  10.873980  3.664042   19.106604      1   145.985382\n",
              "37          37  22.697160  6.013273   82.390075      1   820.716755\n",
              "38          38  17.550089  4.987791   38.228799      1   436.612106\n",
              "39          39  20.367272  5.336115   51.542504      1   579.940179\n",
              "40          40  17.017840  4.601311   29.444537      1   360.302784\n",
              "41          41  22.919260  5.911861   86.366740      1   801.030364\n",
              "42          42  14.073730  4.194728   24.101687      1   247.637791\n",
              "43          43  15.843278  3.993436   23.752655      1   252.661221\n",
              "44          44  32.085549  9.016029  263.542786      1  2608.195062"
            ]
          },
          "metadata": {
            "tags": []
          },
          "execution_count": 18
        }
      ]
    },
    {
      "cell_type": "code",
      "metadata": {
        "id": "XoDpWJ_gRPK1",
        "outputId": "b94298f6-af71-4dee-cbdf-e41bf750a7ac",
        "colab": {
          "base_uri": "https://localhost:8080/",
          "height": 573
        }
      },
      "source": [
        "# 6 Graph plot of weight versus height only for class 1\n",
        "\n",
        "plt.scatter(df4['height'], df4['weight'])\n",
        "plt.title('weight versus height')\n",
        "plt.xlabel('height (cm)')\n",
        "plt.ylabel('weight (kg)')\n",
        "plt.show()\n",
        "\n",
        "# 6 Graph plot of weight versus size only for class 1\n",
        "\n",
        "plt.scatter(df4['weight'], df4['size'])\n",
        "plt.title('weight versus size')\n",
        "plt.xlabel('size (cm)')\n",
        "plt.ylabel('weight (kg)')\n",
        "plt.show()"
      ],
      "execution_count": null,
      "outputs": [
        {
          "output_type": "display_data",
          "data": {
            "image/png": "[encoded data removed]",
            "text/plain": [
              "<Figure size 432x288 with 1 Axes>"
            ]
          },
          "metadata": {
            "tags": [],
            "needs_background": "light"
          }
        },
        {
          "output_type": "display_data",
          "data": {
            "image/png": "[encoded data removed]",
            "text/plain": [
              "<Figure size 432x288 with 1 Axes>"
            ]
          },
          "metadata": {
            "tags": [],
            "needs_background": "light"
          }
        }
      ]
    },
    {
      "cell_type": "code",
      "metadata": {
        "id": "-fqVkuBbdZh_"
      },
      "source": [
        "# 7\n",
        "\n",
        "# from the first plot weight versus height, the data points concentrates from the origin and gradually spreads out\n",
        "\n",
        "# For weight versus size i see a relative increase between the two with all data points concentrating to a line\n",
        "\n",
        "# graph plot for class 1 attributes shows less in such characteristics as when all classes where considered"
      ],
      "execution_count": null,
      "outputs": []
    },
    {
      "cell_type": "markdown",
      "metadata": {
        "id": "rbgBuoIrkbBM"
      },
      "source": [
        "Finally, if you want to export your Notebook as PDF you can use the following script. On the first run it asks for authentication for using Google Drive. After that you can run it like any other cell, and it will (eventually) produce a PDF and prompt you to download it."
      ]
    },
    {
      "cell_type": "code",
      "metadata": {
        "id": "T55jRTBRje6N",
        "outputId": "d406226e-4512-46f7-8785-06ab4f97df4d",
        "colab": {
          "base_uri": "https://localhost:8080/",
          "height": 681
        }
      },
      "source": [
        "!wget -nc https://raw.githubusercontent.com/brpy/colab-pdf/master/colab_pdf.py\n",
        "from colab_pdf import colab_pdf\n",
        "colab_pdf('DAKD2020Exercises1.ipynb')"
      ],
      "execution_count": null,
      "outputs": [
        {
          "output_type": "stream",
          "text": [
            "File ‘colab_pdf.py’ already there; not retrieving.\n",
            "\n",
            "Ign:1 https://developer.download.nvidia.com/compute/cuda/repos/ubuntu1804/x86_64  InRelease\n",
            "Hit:2 https://cloud.r-project.org/bin/linux/ubuntu bionic-cran40/ InRelease\n",
            "Hit:3 http://security.ubuntu.com/ubuntu bionic-security InRelease\n",
            "Ign:4 https://developer.download.nvidia.com/compute/machine-learning/repos/ubuntu1804/x86_64  InRelease\n",
            "Hit:5 https://developer.download.nvidia.com/compute/cuda/repos/ubuntu1804/x86_64  Release\n",
            "Hit:6 https://developer.download.nvidia.com/compute/machine-learning/repos/ubuntu1804/x86_64  Release\n",
            "Hit:7 http://ppa.launchpad.net/c2d4u.team/c2d4u4.0+/ubuntu bionic InRelease\n",
            "Hit:8 http://archive.ubuntu.com/ubuntu bionic InRelease\n",
            "Hit:10 http://archive.ubuntu.com/ubuntu bionic-updates InRelease\n",
            "Hit:11 http://ppa.launchpad.net/graphics-drivers/ppa/ubuntu bionic InRelease\n",
            "Hit:13 http://archive.ubuntu.com/ubuntu bionic-backports InRelease\n",
            "Reading package lists... Done\n",
            "Building dependency tree       \n",
            "Reading state information... Done\n",
            "35 packages can be upgraded. Run 'apt list --upgradable' to see them.\n",
            "Reading package lists... Done\n",
            "Building dependency tree       \n",
            "Reading state information... Done\n",
            "texlive-fonts-recommended is already the newest version (2017.20180305-1).\n",
            "texlive-generic-recommended is already the newest version (2017.20180305-1).\n",
            "texlive-xetex is already the newest version (2017.20180305-1).\n",
            "0 upgraded, 0 newly installed, 0 to remove and 35 not upgraded.\n",
            "[NbConvertApp] Converting notebook /content/drive/My Drive/Colab Notebooks/DAKD2020Exercises1.ipynb to pdf\n",
            "[NbConvertApp] Support files will be in DAKD2020Exercises1_files/\n",
            "[NbConvertApp] Making directory ./DAKD2020Exercises1_files\n",
            "[NbConvertApp] Making directory ./DAKD2020Exercises1_files\n",
            "[NbConvertApp] Making directory ./DAKD2020Exercises1_files\n",
            "[NbConvertApp] Making directory ./DAKD2020Exercises1_files\n",
            "[NbConvertApp] Making directory ./DAKD2020Exercises1_files\n",
            "[NbConvertApp] Writing 38406 bytes to ./notebook.tex\n",
            "[NbConvertApp] Building PDF\n",
            "[NbConvertApp] Running xelatex 3 times: [u'xelatex', u'./notebook.tex', '-quiet']\n",
            "[NbConvertApp] Running bibtex 1 time: [u'bibtex', u'./notebook']\n",
            "[NbConvertApp] WARNING | bibtex had problems, most likely because there were no citations\n",
            "[NbConvertApp] PDF successfully created\n",
            "[NbConvertApp] Writing 83056 bytes to /content/drive/My Drive/DAKD2020Exercises1.pdf\n"
          ],
          "name": "stdout"
        },
        {
          "output_type": "display_data",
          "data": {
            "application/javascript": [
              "\n",
              "    async function download(id, filename, size) {\n",
              "      if (!google.colab.kernel.accessAllowed) {\n",
              "        return;\n",
              "      }\n",
              "      const div = document.createElement('div');\n",
              "      const label = document.createElement('label');\n",
              "      label.textContent = `Downloading \"${filename}\": `;\n",
              "      div.appendChild(label);\n",
              "      const progress = document.createElement('progress');\n",
              "      progress.max = size;\n",
              "      div.appendChild(progress);\n",
              "      document.body.appendChild(div);\n",
              "\n",
              "      const buffers = [];\n",
              "      let downloaded = 0;\n",
              "\n",
              "      const channel = await google.colab.kernel.comms.open(id);\n",
              "      // Send a message to notify the kernel that we're ready.\n",
              "      channel.send({})\n",
              "\n",
              "      for await (const message of channel.messages) {\n",
              "        // Send a message to notify the kernel that we're ready.\n",
              "        channel.send({})\n",
              "        if (message.buffers) {\n",
              "          for (const buffer of message.buffers) {\n",
              "            buffers.push(buffer);\n",
              "            downloaded += buffer.byteLength;\n",
              "            progress.value = downloaded;\n",
              "          }\n",
              "        }\n",
              "      }\n",
              "      const blob = new Blob(buffers, {type: 'application/binary'});\n",
              "      const a = document.createElement('a');\n",
              "      a.href = window.URL.createObjectURL(blob);\n",
              "      a.download = filename;\n",
              "      div.appendChild(a);\n",
              "      a.click();\n",
              "      div.remove();\n",
              "    }\n",
              "  "
            ],
            "text/plain": [
              "<IPython.core.display.Javascript object>"
            ]
          },
          "metadata": {
            "tags": []
          }
        },
        {
          "output_type": "display_data",
          "data": {
            "application/javascript": [
              "download(\"download_1eb96271-376d-4ec3-857a-3c5ffc1d7548\", \"DAKD2020Exercises1.pdf\", 83056)"
            ],
            "text/plain": [
              "<IPython.core.display.Javascript object>"
            ]
          },
          "metadata": {
            "tags": []
          }
        },
        {
          "output_type": "execute_result",
          "data": {
            "application/vnd.google.colaboratory.intrinsic+json": {
              "type": "string"
            },
            "text/plain": [
              "'File ready to be Downloaded and Saved to Drive'"
            ]
          },
          "metadata": {
            "tags": []
          },
          "execution_count": 2
        }
      ]
    }
  ]
}